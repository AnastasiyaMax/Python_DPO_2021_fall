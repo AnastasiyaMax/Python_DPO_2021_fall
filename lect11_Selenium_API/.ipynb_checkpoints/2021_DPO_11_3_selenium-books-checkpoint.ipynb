{
 "cells": [
  {
   "cell_type": "markdown",
   "metadata": {},
   "source": [
    "# Python для анализа данных\n",
    "\n",
    "*Алла Тамбовцева, НИУ ВШЭ*\n",
    "\n",
    "дополнения: *Ян Пиле, НИУ ВШЭ*"
   ]
  },
  {
   "cell_type": "markdown",
   "metadata": {},
   "source": [
    "Посмотрим на другие примеры использования `selenium`. \n",
    "\n",
    "**Пример.** Зайдем на сайт книжного магазина и найдем все книги про Python. Загрузим библиотеку, веб-драйвер и откроем страницу в браузере через Python."
   ]
  },
  {
   "cell_type": "code",
   "execution_count": 38,
   "metadata": {},
   "outputs": [
    {
     "name": "stderr",
     "output_type": "stream",
     "text": [
      "\n",
      "\n",
      "====== WebDriver manager ======\n",
      "Current google-chrome version is 95.0.4638\n",
      "Get LATEST driver version for 95.0.4638\n",
      "Driver [/Users/a18509896/.wdm/drivers/chromedriver/mac64/95.0.4638.17/chromedriver] found in cache\n"
     ]
    }
   ],
   "source": [
    "# from selenium import webdriver as wb\n",
    "# br = wb.Firefox()\n",
    "\n",
    "from selenium import webdriver\n",
    "from webdriver_manager.chrome import ChromeDriverManager\n",
    "\n",
    "br = webdriver.Chrome(ChromeDriverManager().install())\n",
    "\n",
    "# открываем страницу в Chrome в автоматическом режиме\n",
    "br.get(\"http://www.biblio-globus.ru/\")"
   ]
  },
  {
   "cell_type": "markdown",
   "metadata": {},
   "source": [
    "Найдем с помощью CSS Selector'а (*SelectorGadget*) поле для ввода названия книги или автора. "
   ]
  },
  {
   "cell_type": "code",
   "execution_count": 39,
   "metadata": {},
   "outputs": [],
   "source": [
    "field = br.find_element_by_css_selector(\"input\")"
   ]
  },
  {
   "cell_type": "markdown",
   "metadata": {},
   "source": [
    "Сохраним запрос:"
   ]
  },
  {
   "cell_type": "code",
   "execution_count": 40,
   "metadata": {},
   "outputs": [],
   "source": [
    "author = \"Python\"  # переменная author - условность"
   ]
  },
  {
   "cell_type": "markdown",
   "metadata": {},
   "source": [
    "Введем запрос в поле для поиска (`.send_keys`) и подождем чуть-чуть:"
   ]
  },
  {
   "cell_type": "code",
   "execution_count": 41,
   "metadata": {},
   "outputs": [],
   "source": [
    "field.send_keys(author)\n",
    "br.implicitly_wait(2)  # подождем пару секунд"
   ]
  },
  {
   "cell_type": "markdown",
   "metadata": {},
   "source": [
    "Теперь найдем кнопку для поиска (значок *лупа* рядом со строкой поиска) через CSS Selector:"
   ]
  },
  {
   "cell_type": "code",
   "execution_count": 42,
   "metadata": {},
   "outputs": [],
   "source": [
    "submit = br.find_element_by_css_selector(\"#search_submit\")"
   ]
  },
  {
   "cell_type": "markdown",
   "metadata": {},
   "source": [
    "Кликнем на нее:"
   ]
  },
  {
   "cell_type": "code",
   "execution_count": 43,
   "metadata": {},
   "outputs": [],
   "source": [
    "submit.click()"
   ]
  },
  {
   "cell_type": "markdown",
   "metadata": {},
   "source": [
    "Сохраним первую страницу с результатами в переменную `page1`."
   ]
  },
  {
   "cell_type": "code",
   "execution_count": 44,
   "metadata": {},
   "outputs": [],
   "source": [
    "page1 = br.page_source"
   ]
  },
  {
   "cell_type": "code",
   "execution_count": 46,
   "metadata": {},
   "outputs": [],
   "source": [
    "# page1"
   ]
  },
  {
   "cell_type": "markdown",
   "metadata": {},
   "source": [
    "Теперь обработаем эту страницу через `BeautifulSoup`:"
   ]
  },
  {
   "cell_type": "code",
   "execution_count": 47,
   "metadata": {},
   "outputs": [],
   "source": [
    "from bs4 import BeautifulSoup"
   ]
  },
  {
   "cell_type": "code",
   "execution_count": 48,
   "metadata": {},
   "outputs": [],
   "source": [
    "soup1 = BeautifulSoup(page1, 'lxml')"
   ]
  },
  {
   "cell_type": "markdown",
   "metadata": {},
   "source": [
    "Найдем все названия книг на этой странице. По исходному коду можно увидеть, что они имеют тэг `a` с атрибутом `class`, равным `name`:"
   ]
  },
  {
   "cell_type": "code",
   "execution_count": 49,
   "metadata": {},
   "outputs": [
    {
     "data": {
      "text/plain": [
       "[<a class=\"name\" href=\"/search/catalog/details/10792503\">Программируем с детьми. Создайте 50 крутых игр на Python</a>,\n",
       " <a class=\"name\" href=\"/search/catalog/details/10790574\">Алгоритмы на графах: Использование языка Python</a>,\n",
       " <a class=\"name\" href=\"/search/catalog/details/10796619\">Python для детей и родителей.</a>,\n",
       " <a class=\"name\" href=\"/search/catalog/details/10795868\">Статистические вычисления на платформе Jupyter Notebook с использованием Python</a>,\n",
       " <a class=\"name\" href=\"/search/catalog/details/10790837\">Изучаем квантовые вычисления на Python и Q#</a>,\n",
       " <a class=\"name\" href=\"/search/catalog/details/10798159\">Программирование на языке Python. Основы структурного программирования</a>,\n",
       " <a class=\"name\" href=\"/search/catalog/details/10597875\">Изучаем Python, том 1</a>,\n",
       " <a class=\"name\" href=\"/search/catalog/details/10776656\">Справочник PYTHON.  Кратко, быстро, под рукой</a>,\n",
       " <a class=\"name\" href=\"/search/catalog/details/10632642\">Изучаем Python, том 2,</a>,\n",
       " <a class=\"name\" href=\"/search/catalog/details/10575345\">Легкий способ выучить Python 3</a>]"
      ]
     },
     "execution_count": 49,
     "metadata": {},
     "output_type": "execute_result"
    }
   ],
   "source": [
    "soup1.find_all('a', {'class':'name'})"
   ]
  },
  {
   "cell_type": "markdown",
   "metadata": {},
   "source": [
    "С помощью списковых включений выберем из ссылок с тэгом `<a>` текст (так мы уже делали, и не раз)."
   ]
  },
  {
   "cell_type": "code",
   "execution_count": 50,
   "metadata": {},
   "outputs": [],
   "source": [
    "books1 = [b.text for b in soup1.find_all('a', {'class':'name'})]"
   ]
  },
  {
   "cell_type": "code",
   "execution_count": 51,
   "metadata": {},
   "outputs": [
    {
     "data": {
      "text/plain": [
       "['Программируем с детьми. Создайте 50 крутых игр на Python',\n",
       " 'Алгоритмы на графах: Использование языка Python',\n",
       " 'Python для детей и родителей.',\n",
       " 'Статистические вычисления на платформе Jupyter Notebook с использованием Python',\n",
       " 'Изучаем квантовые вычисления на Python и Q#',\n",
       " 'Программирование на языке Python. Основы структурного программирования',\n",
       " 'Изучаем Python, том 1',\n",
       " 'Справочник PYTHON.  Кратко, быстро, под рукой',\n",
       " 'Изучаем Python, том 2,',\n",
       " 'Легкий способ выучить Python 3']"
      ]
     },
     "execution_count": 51,
     "metadata": {},
     "output_type": "execute_result"
    }
   ],
   "source": [
    "books1"
   ]
  },
  {
   "cell_type": "markdown",
   "metadata": {},
   "source": [
    "Теперь аналогичным образом сгрузим информацию об авторах:"
   ]
  },
  {
   "cell_type": "code",
   "execution_count": 53,
   "metadata": {},
   "outputs": [],
   "source": [
    "# [a.text for a in soup1.find_all('div', {'class': 'author'})]\n",
    "# то же самое что и\n",
    "authors1 = []\n",
    "for a in soup1.find_all('div', {'class': 'author'}):\n",
    "    authors1.append(a.text)"
   ]
  },
  {
   "cell_type": "code",
   "execution_count": 55,
   "metadata": {},
   "outputs": [
    {
     "data": {
      "text/plain": [
       "['А. Таке',\n",
       " 'О. И. Мельников , А. А. Морозов',\n",
       " 'Б. Пэйн',\n",
       " 'С. Я. Криволапов',\n",
       " 'С. Кайзер, К. Гранад',\n",
       " 'К. А. Майков , А. Н. Пылькин , Ю. С. Соколова , Н. Н. Степанов , Н. А. Тярт',\n",
       " 'М.  Лутц',\n",
       " 'Д. М. Кольцов , Е. В. Дубовик ',\n",
       " 'М.Лутц',\n",
       " 'З. Шоу']"
      ]
     },
     "execution_count": 55,
     "metadata": {},
     "output_type": "execute_result"
    }
   ],
   "source": [
    "authors1"
   ]
  },
  {
   "cell_type": "code",
   "execution_count": 56,
   "metadata": {},
   "outputs": [
    {
     "data": {
      "text/plain": [
       "[<div class=\"author\">А. Таке</div>,\n",
       " <div class=\"author\">О. И. Мельников , А. А. Морозов</div>,\n",
       " <div class=\"author\">Б. Пэйн</div>,\n",
       " <div class=\"author\">С. Я. Криволапов</div>,\n",
       " <div class=\"author\">С. Кайзер, К. Гранад</div>,\n",
       " <div class=\"author\">К. А. Майков , А. Н. Пылькин , Ю. С. Соколова , Н. Н. Степанов , Н. А. Тярт</div>,\n",
       " <div class=\"author\">М.  Лутц</div>,\n",
       " <div class=\"author\">Д. М. Кольцов , Е. В. Дубовик </div>,\n",
       " <div class=\"author\">М.Лутц</div>,\n",
       " <div class=\"author\">З. Шоу</div>]"
      ]
     },
     "execution_count": 56,
     "metadata": {},
     "output_type": "execute_result"
    }
   ],
   "source": [
    "soup1.find_all('div', {'class': 'author'})"
   ]
  },
  {
   "cell_type": "code",
   "execution_count": 57,
   "metadata": {},
   "outputs": [],
   "source": [
    "authors1 = [a.text for a in soup1.find_all('div', {'class': 'author'})]"
   ]
  },
  {
   "cell_type": "markdown",
   "metadata": {},
   "source": [
    "Сгрузим расположение:"
   ]
  },
  {
   "cell_type": "code",
   "execution_count": 58,
   "metadata": {},
   "outputs": [],
   "source": [
    "place1 = [p.text for p in soup1.find_all('div', {'class':'placement'})]"
   ]
  },
  {
   "cell_type": "code",
   "execution_count": 59,
   "metadata": {},
   "outputs": [
    {
     "data": {
      "text/plain": [
       "['Расположение в торговом зале: Уровень 1, зал № 07, секция 08, шкаф 87, полка 05',\n",
       " 'Расположение в торговом зале: Уровень 1, зал № 07, секция 08, шкаф 76, полка 05',\n",
       " 'Расположение в торговом зале: Уровень 1, зал № 07, секция 08, шкаф 76, полка 06',\n",
       " 'Расположение в торговом зале: Уровень 1, зал № 07, секция 09, шкаф 104, полка 06',\n",
       " 'Расположение в торговом зале: Уровень 1, зал № 07, секция 08, шкаф 76, полка 06',\n",
       " 'Расположение в торговом зале: Уровень 1, зал № 07, секция 08, шкаф 76, полка 05',\n",
       " 'Расположение в торговом зале: Уровень 1, зал № 07, секция 08, шкаф 76, полка 01',\n",
       " 'Расположение в торговом зале: Уровень 1, зал № 07, секция 08, шкаф 76, полка 05',\n",
       " 'Расположение в торговом зале: Уровень 1, зал № 07, секция 08, шкаф 76, полка 01',\n",
       " 'Расположение в торговом зале: Уровень 1, зал № 07, секция 08, шкаф 76, полка 05']"
      ]
     },
     "execution_count": 59,
     "metadata": {},
     "output_type": "execute_result"
    }
   ],
   "source": [
    "place1"
   ]
  },
  {
   "cell_type": "markdown",
   "metadata": {},
   "source": [
    "И, конечно, цену:"
   ]
  },
  {
   "cell_type": "code",
   "execution_count": 60,
   "metadata": {},
   "outputs": [],
   "source": [
    "price1 = [p.text for p in soup1.find_all('div', \n",
    "                                         {'class':'title_data price'})]"
   ]
  },
  {
   "cell_type": "code",
   "execution_count": 61,
   "metadata": {},
   "outputs": [
    {
     "data": {
      "text/plain": [
       "['Цена: 1169,00 руб.',\n",
       " 'Цена: 619,00 руб.',\n",
       " 'Цена: 999,00 руб.',\n",
       " 'Цена: 1499,00 руб.',\n",
       " 'Цена: 3569,00 руб.',\n",
       " 'Цена: 679,00 руб.',\n",
       " 'Цена: 2849,00 руб.',\n",
       " 'Цена: 499,00 руб.',\n",
       " 'Цена: 2849,00 руб.',\n",
       " 'Цена: 889,00 руб.']"
      ]
     },
     "execution_count": 61,
     "metadata": {},
     "output_type": "execute_result"
    }
   ],
   "source": [
    "price1"
   ]
  },
  {
   "cell_type": "markdown",
   "metadata": {},
   "source": [
    "Осталось пройтись по всем страницам, которые были выданы в результате поиска. Для примера перейдем на страницу 2 и на этом остановимся."
   ]
  },
  {
   "cell_type": "code",
   "execution_count": 62,
   "metadata": {},
   "outputs": [],
   "source": [
    "next_p = br.find_element_by_css_selector('.next_page')"
   ]
  },
  {
   "cell_type": "code",
   "execution_count": 63,
   "metadata": {},
   "outputs": [],
   "source": [
    "next_p.click()"
   ]
  },
  {
   "cell_type": "markdown",
   "metadata": {},
   "source": [
    "Проделаем то же самое, что и с первой страницей. По-хорошему нужно написать функцию, которая будет искать на странице названия книг, их расположение и цену. Но оставим это в качестве задания читателю :)"
   ]
  },
  {
   "cell_type": "code",
   "execution_count": 64,
   "metadata": {},
   "outputs": [],
   "source": [
    "page2 = br.page_source\n",
    "soup2 = BeautifulSoup(page2, 'lxml')\n",
    "books2 = [b.text for b in soup2.find_all('a', {'class':'name'})]\n",
    "author2 = [a.text for a in soup2.find_all('div', {'class': 'author'})]\n",
    "place2 = [p.text for p in soup2.find_all('div', {'class':'placement'})]\n",
    "price2 = [p.text for p in soup2.find_all('div', {'class':'title_data price'})]"
   ]
  },
  {
   "cell_type": "markdown",
   "metadata": {},
   "source": [
    "Расширим списки результатов с первой страницы данными, полученными со второй страницы, используя метод `.extend()`."
   ]
  },
  {
   "cell_type": "code",
   "execution_count": 65,
   "metadata": {},
   "outputs": [],
   "source": [
    "books1.extend(books2) # books1 + books2\n",
    "authors1.extend(books2)\n",
    "place1.extend(place2)\n",
    "price1.extend(price2)"
   ]
  },
  {
   "cell_type": "markdown",
   "metadata": {},
   "source": [
    "Осталось импортировать библиотеку `pandas` и создать датафрейм."
   ]
  },
  {
   "cell_type": "code",
   "execution_count": 66,
   "metadata": {},
   "outputs": [],
   "source": [
    "import pandas as pd"
   ]
  },
  {
   "cell_type": "markdown",
   "metadata": {},
   "source": [
    "Для разнообразия создадим датафрейм не из списка списков, а из словаря. Ключами словаря будут названия столбцов в таблице, а значениями – списки с сохраненной информацией (названия книг, цены и проч.)."
   ]
  },
  {
   "cell_type": "code",
   "execution_count": 67,
   "metadata": {},
   "outputs": [],
   "source": [
    "df = pd.DataFrame({'book': books1, 'author': authors1,\n",
    "                   'placement': place1, 'price': price1})"
   ]
  },
  {
   "cell_type": "code",
   "execution_count": 68,
   "metadata": {},
   "outputs": [
    {
     "data": {
      "text/html": [
       "<div>\n",
       "<style scoped>\n",
       "    .dataframe tbody tr th:only-of-type {\n",
       "        vertical-align: middle;\n",
       "    }\n",
       "\n",
       "    .dataframe tbody tr th {\n",
       "        vertical-align: top;\n",
       "    }\n",
       "\n",
       "    .dataframe thead th {\n",
       "        text-align: right;\n",
       "    }\n",
       "</style>\n",
       "<table border=\"1\" class=\"dataframe\">\n",
       "  <thead>\n",
       "    <tr style=\"text-align: right;\">\n",
       "      <th></th>\n",
       "      <th>book</th>\n",
       "      <th>author</th>\n",
       "      <th>placement</th>\n",
       "      <th>price</th>\n",
       "    </tr>\n",
       "  </thead>\n",
       "  <tbody>\n",
       "    <tr>\n",
       "      <th>0</th>\n",
       "      <td>Программируем с детьми. Создайте 50 крутых игр...</td>\n",
       "      <td>А. Таке</td>\n",
       "      <td>Расположение в торговом зале: Уровень 1, зал №...</td>\n",
       "      <td>Цена: 1169,00 руб.</td>\n",
       "    </tr>\n",
       "    <tr>\n",
       "      <th>1</th>\n",
       "      <td>Алгоритмы на графах: Использование языка Python</td>\n",
       "      <td>О. И. Мельников , А. А. Морозов</td>\n",
       "      <td>Расположение в торговом зале: Уровень 1, зал №...</td>\n",
       "      <td>Цена: 619,00 руб.</td>\n",
       "    </tr>\n",
       "    <tr>\n",
       "      <th>2</th>\n",
       "      <td>Python для детей и родителей.</td>\n",
       "      <td>Б. Пэйн</td>\n",
       "      <td>Расположение в торговом зале: Уровень 1, зал №...</td>\n",
       "      <td>Цена: 999,00 руб.</td>\n",
       "    </tr>\n",
       "    <tr>\n",
       "      <th>3</th>\n",
       "      <td>Статистические вычисления на платформе Jupyter...</td>\n",
       "      <td>С. Я. Криволапов</td>\n",
       "      <td>Расположение в торговом зале: Уровень 1, зал №...</td>\n",
       "      <td>Цена: 1499,00 руб.</td>\n",
       "    </tr>\n",
       "    <tr>\n",
       "      <th>4</th>\n",
       "      <td>Изучаем квантовые вычисления на Python и Q#</td>\n",
       "      <td>С. Кайзер, К. Гранад</td>\n",
       "      <td>Расположение в торговом зале: Уровень 1, зал №...</td>\n",
       "      <td>Цена: 3569,00 руб.</td>\n",
       "    </tr>\n",
       "  </tbody>\n",
       "</table>\n",
       "</div>"
      ],
      "text/plain": [
       "                                                book  \\\n",
       "0  Программируем с детьми. Создайте 50 крутых игр...   \n",
       "1    Алгоритмы на графах: Использование языка Python   \n",
       "2                      Python для детей и родителей.   \n",
       "3  Статистические вычисления на платформе Jupyter...   \n",
       "4        Изучаем квантовые вычисления на Python и Q#   \n",
       "\n",
       "                            author  \\\n",
       "0                          А. Таке   \n",
       "1  О. И. Мельников , А. А. Морозов   \n",
       "2                          Б. Пэйн   \n",
       "3                 С. Я. Криволапов   \n",
       "4             С. Кайзер, К. Гранад   \n",
       "\n",
       "                                           placement               price  \n",
       "0  Расположение в торговом зале: Уровень 1, зал №...  Цена: 1169,00 руб.  \n",
       "1  Расположение в торговом зале: Уровень 1, зал №...   Цена: 619,00 руб.  \n",
       "2  Расположение в торговом зале: Уровень 1, зал №...   Цена: 999,00 руб.  \n",
       "3  Расположение в торговом зале: Уровень 1, зал №...  Цена: 1499,00 руб.  \n",
       "4  Расположение в торговом зале: Уровень 1, зал №...  Цена: 3569,00 руб.  "
      ]
     },
     "execution_count": 68,
     "metadata": {},
     "output_type": "execute_result"
    }
   ],
   "source": [
    "df.head()"
   ]
  },
  {
   "cell_type": "markdown",
   "metadata": {},
   "source": [
    "Давайте приведем столбец с ценой к числовому типу. Уберем слова *Цена* и *руб*, а потом сконвертируем строки в числа с плавающей точкой. Напишем функцию `get_price()`,"
   ]
  },
  {
   "cell_type": "code",
   "execution_count": 70,
   "metadata": {},
   "outputs": [
    {
     "data": {
      "text/plain": [
       "'Цена: 619,00 руб.'"
      ]
     },
     "execution_count": 70,
     "metadata": {},
     "output_type": "execute_result"
    }
   ],
   "source": [
    "df.iloc[1, 3]"
   ]
  },
  {
   "cell_type": "code",
   "execution_count": 76,
   "metadata": {},
   "outputs": [
    {
     "data": {
      "text/plain": [
       "619.0"
      ]
     },
     "execution_count": 76,
     "metadata": {},
     "output_type": "execute_result"
    }
   ],
   "source": [
    "float(df.iloc[1, 3].split()[1].replace(',', '.'))"
   ]
  },
  {
   "cell_type": "code",
   "execution_count": 81,
   "metadata": {},
   "outputs": [
    {
     "data": {
      "text/plain": [
       "619.0"
      ]
     },
     "execution_count": 81,
     "metadata": {},
     "output_type": "execute_result"
    }
   ],
   "source": [
    "float('.'.join(re.findall(r'\\d+', df.iloc[1, 3])))"
   ]
  },
  {
   "cell_type": "code",
   "execution_count": 78,
   "metadata": {},
   "outputs": [],
   "source": [
    "def get_price(price):\n",
    "    book_price = price.split(' ')[1]  # разобьем строку по пробелу и возьмем второй элемент\n",
    "    book_price = book_price.replace(',', '.')  # заменим запятую на точку\n",
    "    price_num = float(book_price)  # сконвертируем в float\n",
    "    return price_num"
   ]
  },
  {
   "cell_type": "code",
   "execution_count": 82,
   "metadata": {},
   "outputs": [],
   "source": [
    "import re\n",
    "def preis(x):\n",
    "    return float('.'.join(re.findall(r'\\d+',x)))"
   ]
  },
  {
   "cell_type": "code",
   "execution_count": 29,
   "metadata": {},
   "outputs": [
    {
     "data": {
      "text/plain": [
       "1169.0"
      ]
     },
     "execution_count": 29,
     "metadata": {},
     "output_type": "execute_result"
    }
   ],
   "source": [
    "# проверка\n",
    "get_price(df.price[0])"
   ]
  },
  {
   "cell_type": "code",
   "execution_count": 30,
   "metadata": {},
   "outputs": [
    {
     "data": {
      "text/plain": [
       "1169.0"
      ]
     },
     "execution_count": 30,
     "metadata": {},
     "output_type": "execute_result"
    }
   ],
   "source": [
    "preis(df.price[0])"
   ]
  },
  {
   "cell_type": "markdown",
   "metadata": {},
   "source": [
    "Всё отлично работает! Применим функцию к столбцу *price* и создадим новый столбец *nprice*."
   ]
  },
  {
   "cell_type": "code",
   "execution_count": 88,
   "metadata": {},
   "outputs": [],
   "source": [
    "df['nprice'] = df.price.apply(preis)"
   ]
  },
  {
   "cell_type": "code",
   "execution_count": 89,
   "metadata": {},
   "outputs": [
    {
     "data": {
      "text/html": [
       "<div>\n",
       "<style scoped>\n",
       "    .dataframe tbody tr th:only-of-type {\n",
       "        vertical-align: middle;\n",
       "    }\n",
       "\n",
       "    .dataframe tbody tr th {\n",
       "        vertical-align: top;\n",
       "    }\n",
       "\n",
       "    .dataframe thead th {\n",
       "        text-align: right;\n",
       "    }\n",
       "</style>\n",
       "<table border=\"1\" class=\"dataframe\">\n",
       "  <thead>\n",
       "    <tr style=\"text-align: right;\">\n",
       "      <th></th>\n",
       "      <th>book</th>\n",
       "      <th>author</th>\n",
       "      <th>placement</th>\n",
       "      <th>price</th>\n",
       "      <th>nprice</th>\n",
       "    </tr>\n",
       "  </thead>\n",
       "  <tbody>\n",
       "    <tr>\n",
       "      <th>0</th>\n",
       "      <td>Программируем с детьми. Создайте 50 крутых игр...</td>\n",
       "      <td>А. Таке</td>\n",
       "      <td>Расположение в торговом зале: Уровень 1, зал №...</td>\n",
       "      <td>Цена: 1169,00 руб.</td>\n",
       "      <td>1169.0</td>\n",
       "    </tr>\n",
       "    <tr>\n",
       "      <th>1</th>\n",
       "      <td>Алгоритмы на графах: Использование языка Python</td>\n",
       "      <td>О. И. Мельников , А. А. Морозов</td>\n",
       "      <td>Расположение в торговом зале: Уровень 1, зал №...</td>\n",
       "      <td>Цена: 619,00 руб.</td>\n",
       "      <td>619.0</td>\n",
       "    </tr>\n",
       "    <tr>\n",
       "      <th>2</th>\n",
       "      <td>Python для детей и родителей.</td>\n",
       "      <td>Б. Пэйн</td>\n",
       "      <td>Расположение в торговом зале: Уровень 1, зал №...</td>\n",
       "      <td>Цена: 999,00 руб.</td>\n",
       "      <td>999.0</td>\n",
       "    </tr>\n",
       "    <tr>\n",
       "      <th>3</th>\n",
       "      <td>Статистические вычисления на платформе Jupyter...</td>\n",
       "      <td>С. Я. Криволапов</td>\n",
       "      <td>Расположение в торговом зале: Уровень 1, зал №...</td>\n",
       "      <td>Цена: 1499,00 руб.</td>\n",
       "      <td>1499.0</td>\n",
       "    </tr>\n",
       "    <tr>\n",
       "      <th>4</th>\n",
       "      <td>Изучаем квантовые вычисления на Python и Q#</td>\n",
       "      <td>С. Кайзер, К. Гранад</td>\n",
       "      <td>Расположение в торговом зале: Уровень 1, зал №...</td>\n",
       "      <td>Цена: 3569,00 руб.</td>\n",
       "      <td>3569.0</td>\n",
       "    </tr>\n",
       "  </tbody>\n",
       "</table>\n",
       "</div>"
      ],
      "text/plain": [
       "                                                book  \\\n",
       "0  Программируем с детьми. Создайте 50 крутых игр...   \n",
       "1    Алгоритмы на графах: Использование языка Python   \n",
       "2                      Python для детей и родителей.   \n",
       "3  Статистические вычисления на платформе Jupyter...   \n",
       "4        Изучаем квантовые вычисления на Python и Q#   \n",
       "\n",
       "                            author  \\\n",
       "0                          А. Таке   \n",
       "1  О. И. Мельников , А. А. Морозов   \n",
       "2                          Б. Пэйн   \n",
       "3                 С. Я. Криволапов   \n",
       "4             С. Кайзер, К. Гранад   \n",
       "\n",
       "                                           placement               price  \\\n",
       "0  Расположение в торговом зале: Уровень 1, зал №...  Цена: 1169,00 руб.   \n",
       "1  Расположение в торговом зале: Уровень 1, зал №...   Цена: 619,00 руб.   \n",
       "2  Расположение в торговом зале: Уровень 1, зал №...   Цена: 999,00 руб.   \n",
       "3  Расположение в торговом зале: Уровень 1, зал №...  Цена: 1499,00 руб.   \n",
       "4  Расположение в торговом зале: Уровень 1, зал №...  Цена: 3569,00 руб.   \n",
       "\n",
       "   nprice  \n",
       "0  1169.0  \n",
       "1   619.0  \n",
       "2   999.0  \n",
       "3  1499.0  \n",
       "4  3569.0  "
      ]
     },
     "execution_count": 89,
     "metadata": {},
     "output_type": "execute_result"
    }
   ],
   "source": [
    "df.head()"
   ]
  },
  {
   "cell_type": "markdown",
   "metadata": {},
   "source": [
    "Теперь можем расположить книги по цене в порядке возрастания:"
   ]
  },
  {
   "cell_type": "code",
   "execution_count": 90,
   "metadata": {},
   "outputs": [
    {
     "data": {
      "text/html": [
       "<div>\n",
       "<style scoped>\n",
       "    .dataframe tbody tr th:only-of-type {\n",
       "        vertical-align: middle;\n",
       "    }\n",
       "\n",
       "    .dataframe tbody tr th {\n",
       "        vertical-align: top;\n",
       "    }\n",
       "\n",
       "    .dataframe thead th {\n",
       "        text-align: right;\n",
       "    }\n",
       "</style>\n",
       "<table border=\"1\" class=\"dataframe\">\n",
       "  <thead>\n",
       "    <tr style=\"text-align: right;\">\n",
       "      <th></th>\n",
       "      <th>book</th>\n",
       "      <th>author</th>\n",
       "      <th>placement</th>\n",
       "      <th>price</th>\n",
       "      <th>nprice</th>\n",
       "    </tr>\n",
       "  </thead>\n",
       "  <tbody>\n",
       "    <tr>\n",
       "      <th>7</th>\n",
       "      <td>Справочник PYTHON.  Кратко, быстро, под рукой</td>\n",
       "      <td>Д. М. Кольцов , Е. В. Дубовик</td>\n",
       "      <td>Расположение в торговом зале: Уровень 1, зал №...</td>\n",
       "      <td>Цена: 499,00 руб.</td>\n",
       "      <td>499.0</td>\n",
       "    </tr>\n",
       "    <tr>\n",
       "      <th>1</th>\n",
       "      <td>Алгоритмы на графах: Использование языка Python</td>\n",
       "      <td>О. И. Мельников , А. А. Морозов</td>\n",
       "      <td>Расположение в торговом зале: Уровень 1, зал №...</td>\n",
       "      <td>Цена: 619,00 руб.</td>\n",
       "      <td>619.0</td>\n",
       "    </tr>\n",
       "    <tr>\n",
       "      <th>5</th>\n",
       "      <td>Программирование на языке Python. Основы струк...</td>\n",
       "      <td>К. А. Майков , А. Н. Пылькин , Ю. С. Соколова ...</td>\n",
       "      <td>Расположение в торговом зале: Уровень 1, зал №...</td>\n",
       "      <td>Цена: 679,00 руб.</td>\n",
       "      <td>679.0</td>\n",
       "    </tr>\n",
       "    <tr>\n",
       "      <th>11</th>\n",
       "      <td>Python : Карманный справочник</td>\n",
       "      <td>Python : Карманный справочник</td>\n",
       "      <td>Расположение в торговом зале: Уровень 1, зал №...</td>\n",
       "      <td>Цена: 689,00 руб.</td>\n",
       "      <td>689.0</td>\n",
       "    </tr>\n",
       "    <tr>\n",
       "      <th>9</th>\n",
       "      <td>Легкий способ выучить Python 3</td>\n",
       "      <td>З. Шоу</td>\n",
       "      <td>Расположение в торговом зале: Уровень 1, зал №...</td>\n",
       "      <td>Цена: 889,00 руб.</td>\n",
       "      <td>889.0</td>\n",
       "    </tr>\n",
       "    <tr>\n",
       "      <th>2</th>\n",
       "      <td>Python для детей и родителей.</td>\n",
       "      <td>Б. Пэйн</td>\n",
       "      <td>Расположение в торговом зале: Уровень 1, зал №...</td>\n",
       "      <td>Цена: 999,00 руб.</td>\n",
       "      <td>999.0</td>\n",
       "    </tr>\n",
       "    <tr>\n",
       "      <th>13</th>\n",
       "      <td>Простой Python просто с нуля</td>\n",
       "      <td>Простой Python просто с нуля</td>\n",
       "      <td>Расположение в торговом зале: Уровень 1, зал №...</td>\n",
       "      <td>Цена: 1069,00 руб.</td>\n",
       "      <td>1069.0</td>\n",
       "    </tr>\n",
       "    <tr>\n",
       "      <th>10</th>\n",
       "      <td>Программирование на Python в примерах и задачах</td>\n",
       "      <td>Программирование на Python в примерах и задачах</td>\n",
       "      <td>Расположение в торговом зале: Уровень 1, зал №...</td>\n",
       "      <td>Цена: 1169,00 руб.</td>\n",
       "      <td>1169.0</td>\n",
       "    </tr>\n",
       "    <tr>\n",
       "      <th>0</th>\n",
       "      <td>Программируем с детьми. Создайте 50 крутых игр...</td>\n",
       "      <td>А. Таке</td>\n",
       "      <td>Расположение в торговом зале: Уровень 1, зал №...</td>\n",
       "      <td>Цена: 1169,00 руб.</td>\n",
       "      <td>1169.0</td>\n",
       "    </tr>\n",
       "    <tr>\n",
       "      <th>19</th>\n",
       "      <td>Основы Python. Научитесь думать как программист</td>\n",
       "      <td>Основы Python. Научитесь думать как программист</td>\n",
       "      <td>Расположение в торговом зале: Уровень 1, зал №...</td>\n",
       "      <td>Цена: 1259,00 руб.</td>\n",
       "      <td>1259.0</td>\n",
       "    </tr>\n",
       "    <tr>\n",
       "      <th>17</th>\n",
       "      <td>Глубокое обучение на Python</td>\n",
       "      <td>Глубокое обучение на Python</td>\n",
       "      <td>Расположение в торговом зале: Уровень 1, зал №...</td>\n",
       "      <td>Цена: 1289,00 руб.</td>\n",
       "      <td>1289.0</td>\n",
       "    </tr>\n",
       "    <tr>\n",
       "      <th>14</th>\n",
       "      <td>Python. Экспресс-курс</td>\n",
       "      <td>Python. Экспресс-курс</td>\n",
       "      <td>Расположение в торговом зале: Уровень 1, зал №...</td>\n",
       "      <td>Цена: 1399,00 руб.</td>\n",
       "      <td>1399.0</td>\n",
       "    </tr>\n",
       "    <tr>\n",
       "      <th>3</th>\n",
       "      <td>Статистические вычисления на платформе Jupyter...</td>\n",
       "      <td>С. Я. Криволапов</td>\n",
       "      <td>Расположение в торговом зале: Уровень 1, зал №...</td>\n",
       "      <td>Цена: 1499,00 руб.</td>\n",
       "      <td>1499.0</td>\n",
       "    </tr>\n",
       "    <tr>\n",
       "      <th>16</th>\n",
       "      <td>Python для сложных задач: наука о данных и маш...</td>\n",
       "      <td>Python для сложных задач: наука о данных и маш...</td>\n",
       "      <td>Расположение в торговом зале: Уровень 1, зал №...</td>\n",
       "      <td>Цена: 1839,00 руб.</td>\n",
       "      <td>1839.0</td>\n",
       "    </tr>\n",
       "    <tr>\n",
       "      <th>15</th>\n",
       "      <td>Начинаем программировать на Python</td>\n",
       "      <td>Начинаем программировать на Python</td>\n",
       "      <td>Расположение в торговом зале: Уровень 1, зал №...</td>\n",
       "      <td>Цена: 2069,00 руб.</td>\n",
       "      <td>2069.0</td>\n",
       "    </tr>\n",
       "    <tr>\n",
       "      <th>18</th>\n",
       "      <td>Введение в машинное обучение с помощью Python</td>\n",
       "      <td>Введение в машинное обучение с помощью Python</td>\n",
       "      <td>Расположение в торговом зале: Уровень 1, зал №...</td>\n",
       "      <td>Цена: 2849,00 руб.</td>\n",
       "      <td>2849.0</td>\n",
       "    </tr>\n",
       "    <tr>\n",
       "      <th>6</th>\n",
       "      <td>Изучаем Python, том 1</td>\n",
       "      <td>М.  Лутц</td>\n",
       "      <td>Расположение в торговом зале: Уровень 1, зал №...</td>\n",
       "      <td>Цена: 2849,00 руб.</td>\n",
       "      <td>2849.0</td>\n",
       "    </tr>\n",
       "    <tr>\n",
       "      <th>12</th>\n",
       "      <td>Python и машинное обучение: машинное и глубоко...</td>\n",
       "      <td>Python и машинное обучение: машинное и глубоко...</td>\n",
       "      <td>Расположение в торговом зале: Уровень 1, зал №...</td>\n",
       "      <td>Цена: 2849,00 руб.</td>\n",
       "      <td>2849.0</td>\n",
       "    </tr>\n",
       "    <tr>\n",
       "      <th>8</th>\n",
       "      <td>Изучаем Python, том 2,</td>\n",
       "      <td>М.Лутц</td>\n",
       "      <td>Расположение в торговом зале: Уровень 1, зал №...</td>\n",
       "      <td>Цена: 2849,00 руб.</td>\n",
       "      <td>2849.0</td>\n",
       "    </tr>\n",
       "    <tr>\n",
       "      <th>4</th>\n",
       "      <td>Изучаем квантовые вычисления на Python и Q#</td>\n",
       "      <td>С. Кайзер, К. Гранад</td>\n",
       "      <td>Расположение в торговом зале: Уровень 1, зал №...</td>\n",
       "      <td>Цена: 3569,00 руб.</td>\n",
       "      <td>3569.0</td>\n",
       "    </tr>\n",
       "  </tbody>\n",
       "</table>\n",
       "</div>"
      ],
      "text/plain": [
       "                                                 book  \\\n",
       "7       Справочник PYTHON.  Кратко, быстро, под рукой   \n",
       "1     Алгоритмы на графах: Использование языка Python   \n",
       "5   Программирование на языке Python. Основы струк...   \n",
       "11                      Python : Карманный справочник   \n",
       "9                      Легкий способ выучить Python 3   \n",
       "2                       Python для детей и родителей.   \n",
       "13                       Простой Python просто с нуля   \n",
       "10    Программирование на Python в примерах и задачах   \n",
       "0   Программируем с детьми. Создайте 50 крутых игр...   \n",
       "19    Основы Python. Научитесь думать как программист   \n",
       "17                        Глубокое обучение на Python   \n",
       "14                              Python. Экспресс-курс   \n",
       "3   Статистические вычисления на платформе Jupyter...   \n",
       "16  Python для сложных задач: наука о данных и маш...   \n",
       "15                 Начинаем программировать на Python   \n",
       "18      Введение в машинное обучение с помощью Python   \n",
       "6                               Изучаем Python, том 1   \n",
       "12  Python и машинное обучение: машинное и глубоко...   \n",
       "8                              Изучаем Python, том 2,   \n",
       "4         Изучаем квантовые вычисления на Python и Q#   \n",
       "\n",
       "                                               author  \\\n",
       "7                      Д. М. Кольцов , Е. В. Дубовик    \n",
       "1                     О. И. Мельников , А. А. Морозов   \n",
       "5   К. А. Майков , А. Н. Пылькин , Ю. С. Соколова ...   \n",
       "11                      Python : Карманный справочник   \n",
       "9                                              З. Шоу   \n",
       "2                                             Б. Пэйн   \n",
       "13                       Простой Python просто с нуля   \n",
       "10    Программирование на Python в примерах и задачах   \n",
       "0                                             А. Таке   \n",
       "19    Основы Python. Научитесь думать как программист   \n",
       "17                        Глубокое обучение на Python   \n",
       "14                              Python. Экспресс-курс   \n",
       "3                                    С. Я. Криволапов   \n",
       "16  Python для сложных задач: наука о данных и маш...   \n",
       "15                 Начинаем программировать на Python   \n",
       "18      Введение в машинное обучение с помощью Python   \n",
       "6                                            М.  Лутц   \n",
       "12  Python и машинное обучение: машинное и глубоко...   \n",
       "8                                              М.Лутц   \n",
       "4                                С. Кайзер, К. Гранад   \n",
       "\n",
       "                                            placement               price  \\\n",
       "7   Расположение в торговом зале: Уровень 1, зал №...   Цена: 499,00 руб.   \n",
       "1   Расположение в торговом зале: Уровень 1, зал №...   Цена: 619,00 руб.   \n",
       "5   Расположение в торговом зале: Уровень 1, зал №...   Цена: 679,00 руб.   \n",
       "11  Расположение в торговом зале: Уровень 1, зал №...   Цена: 689,00 руб.   \n",
       "9   Расположение в торговом зале: Уровень 1, зал №...   Цена: 889,00 руб.   \n",
       "2   Расположение в торговом зале: Уровень 1, зал №...   Цена: 999,00 руб.   \n",
       "13  Расположение в торговом зале: Уровень 1, зал №...  Цена: 1069,00 руб.   \n",
       "10  Расположение в торговом зале: Уровень 1, зал №...  Цена: 1169,00 руб.   \n",
       "0   Расположение в торговом зале: Уровень 1, зал №...  Цена: 1169,00 руб.   \n",
       "19  Расположение в торговом зале: Уровень 1, зал №...  Цена: 1259,00 руб.   \n",
       "17  Расположение в торговом зале: Уровень 1, зал №...  Цена: 1289,00 руб.   \n",
       "14  Расположение в торговом зале: Уровень 1, зал №...  Цена: 1399,00 руб.   \n",
       "3   Расположение в торговом зале: Уровень 1, зал №...  Цена: 1499,00 руб.   \n",
       "16  Расположение в торговом зале: Уровень 1, зал №...  Цена: 1839,00 руб.   \n",
       "15  Расположение в торговом зале: Уровень 1, зал №...  Цена: 2069,00 руб.   \n",
       "18  Расположение в торговом зале: Уровень 1, зал №...  Цена: 2849,00 руб.   \n",
       "6   Расположение в торговом зале: Уровень 1, зал №...  Цена: 2849,00 руб.   \n",
       "12  Расположение в торговом зале: Уровень 1, зал №...  Цена: 2849,00 руб.   \n",
       "8   Расположение в торговом зале: Уровень 1, зал №...  Цена: 2849,00 руб.   \n",
       "4   Расположение в торговом зале: Уровень 1, зал №...  Цена: 3569,00 руб.   \n",
       "\n",
       "    nprice  \n",
       "7    499.0  \n",
       "1    619.0  \n",
       "5    679.0  \n",
       "11   689.0  \n",
       "9    889.0  \n",
       "2    999.0  \n",
       "13  1069.0  \n",
       "10  1169.0  \n",
       "0   1169.0  \n",
       "19  1259.0  \n",
       "17  1289.0  \n",
       "14  1399.0  \n",
       "3   1499.0  \n",
       "16  1839.0  \n",
       "15  2069.0  \n",
       "18  2849.0  \n",
       "6   2849.0  \n",
       "12  2849.0  \n",
       "8   2849.0  \n",
       "4   3569.0  "
      ]
     },
     "execution_count": 90,
     "metadata": {},
     "output_type": "execute_result"
    }
   ],
   "source": [
    "df.sort_values('nprice')"
   ]
  },
  {
   "cell_type": "markdown",
   "metadata": {},
   "source": [
    "И сохраним всю таблицу в csv-файл:"
   ]
  },
  {
   "cell_type": "code",
   "execution_count": 91,
   "metadata": {},
   "outputs": [],
   "source": [
    "df.to_csv(\"books.csv\", index=False)"
   ]
  },
  {
   "cell_type": "code",
   "execution_count": 92,
   "metadata": {},
   "outputs": [],
   "source": [
    "br.close()"
   ]
  },
  {
   "cell_type": "code",
   "execution_count": null,
   "metadata": {},
   "outputs": [],
   "source": []
  },
  {
   "cell_type": "code",
   "execution_count": 330,
   "metadata": {
    "scrolled": true
   },
   "outputs": [
    {
     "name": "stderr",
     "output_type": "stream",
     "text": [
      "\n",
      "\n",
      "====== WebDriver manager ======\n",
      "Current google-chrome version is 95.0.4638\n",
      "Get LATEST driver version for 95.0.4638\n",
      "Driver [/Users/a18509896/.wdm/drivers/chromedriver/mac64/95.0.4638.17/chromedriver] found in cache\n"
     ]
    }
   ],
   "source": [
    "from selenium import webdriver\n",
    "from webdriver_manager.chrome import ChromeDriverManager\n",
    "\n",
    "br = webdriver.Chrome(ChromeDriverManager().install())\n",
    "\n",
    "# открываем страницу в Chrome в автоматическом режиме\n",
    "br.get(\"http://www.biblio-globus.ru/\")"
   ]
  },
  {
   "cell_type": "code",
   "execution_count": 331,
   "metadata": {},
   "outputs": [],
   "source": [
    "knigi = '//*[@id=\"TableMRight\"]/tbody/tr/td/table/tbody/tr[2]/td[2]/a'"
   ]
  },
  {
   "cell_type": "code",
   "execution_count": 332,
   "metadata": {},
   "outputs": [],
   "source": [
    "knigi_el = br.find_element_by_xpath(knigi)"
   ]
  },
  {
   "cell_type": "code",
   "execution_count": 333,
   "metadata": {},
   "outputs": [],
   "source": [
    "knigi_el.click()"
   ]
  },
  {
   "cell_type": "code",
   "execution_count": 334,
   "metadata": {},
   "outputs": [],
   "source": [
    "det_css = 'body > table > tbody > tr:nth-child(2) > td.column_right > div > div.card-columns > div:nth-child(1) > div > ul > li > ul > li:nth-child(2) > ul > li:nth-child(2) > a'"
   ]
  },
  {
   "cell_type": "code",
   "execution_count": 335,
   "metadata": {},
   "outputs": [],
   "source": [
    "det_el = br.find_element_by_css_selector(det_css)"
   ]
  },
  {
   "cell_type": "code",
   "execution_count": 336,
   "metadata": {},
   "outputs": [],
   "source": [
    "det_el.click()"
   ]
  },
  {
   "cell_type": "code",
   "execution_count": 337,
   "metadata": {},
   "outputs": [],
   "source": [
    "page1 = BeautifulSoup(br.page_source)"
   ]
  },
  {
   "cell_type": "code",
   "execution_count": 338,
   "metadata": {},
   "outputs": [],
   "source": [
    "books_p1 = page1.find_all('div', {'class': 'details_1'})"
   ]
  },
  {
   "cell_type": "code",
   "execution_count": 339,
   "metadata": {},
   "outputs": [
    {
     "data": {
      "text/plain": [
       "12"
      ]
     },
     "execution_count": 339,
     "metadata": {},
     "output_type": "execute_result"
    }
   ],
   "source": [
    "len(books_p1)"
   ]
  },
  {
   "cell_type": "code",
   "execution_count": 340,
   "metadata": {},
   "outputs": [
    {
     "data": {
      "text/plain": [
       "<div class=\"details_1\">\n",
       "<div class=\"author\">А. Брэдли</div>\n",
       "<a class=\"name\" href=\"http://www.biblio-globus.ru/search/catalog/details/10597134\">Красавиц мертвых локоны златые :[роман]</a>\n",
       "<div class=\"title_data green\">\n",
       "                                        В наличии\n",
       "                                    </div>\n",
       "<div class=\"placement\"><b>Расположение в торговом зале:</b> <br/>Уровень 2, зал № 12, секция 01, шкаф 03, полка 01</div>\n",
       "<div class=\"title_data price\">Цена: <span>479,00</span> руб.</div>\n",
       "</div>"
      ]
     },
     "execution_count": 340,
     "metadata": {},
     "output_type": "execute_result"
    }
   ],
   "source": [
    "books_p1[0]"
   ]
  },
  {
   "cell_type": "code",
   "execution_count": 341,
   "metadata": {},
   "outputs": [
    {
     "data": {
      "text/plain": [
       "True"
      ]
     },
     "execution_count": 341,
     "metadata": {},
     "output_type": "execute_result"
    }
   ],
   "source": [
    "books_p1[0].divv is None"
   ]
  },
  {
   "cell_type": "code",
   "execution_count": 342,
   "metadata": {},
   "outputs": [
    {
     "data": {
      "text/plain": [
       "'А. Брэдли'"
      ]
     },
     "execution_count": 342,
     "metadata": {},
     "output_type": "execute_result"
    }
   ],
   "source": [
    "books_p1[0].find('div', {'class': 'author'}).text"
   ]
  },
  {
   "cell_type": "code",
   "execution_count": 343,
   "metadata": {},
   "outputs": [
    {
     "data": {
      "text/plain": [
       "'Красавиц мертвых локоны златые :[роман]'"
      ]
     },
     "execution_count": 343,
     "metadata": {},
     "output_type": "execute_result"
    }
   ],
   "source": [
    "books_p1[0].a.text"
   ]
  },
  {
   "cell_type": "code",
   "execution_count": 344,
   "metadata": {},
   "outputs": [
    {
     "data": {
      "text/plain": [
       "'Расположение в торговом зале: Уровень 2, зал № 12, секция 01, шкаф 03, полка 01'"
      ]
     },
     "execution_count": 344,
     "metadata": {},
     "output_type": "execute_result"
    }
   ],
   "source": [
    "books_p1[0].find('div', {'class': 'placement'}).text"
   ]
  },
  {
   "cell_type": "code",
   "execution_count": 345,
   "metadata": {},
   "outputs": [
    {
     "data": {
      "text/plain": [
       "'Цена: 479,00 руб.'"
      ]
     },
     "execution_count": 345,
     "metadata": {},
     "output_type": "execute_result"
    }
   ],
   "source": [
    "books_p1[0].find('div', {'class': 'title_data price'}).text"
   ]
  },
  {
   "cell_type": "code",
   "execution_count": 346,
   "metadata": {},
   "outputs": [
    {
     "data": {
      "text/plain": [
       "True"
      ]
     },
     "execution_count": 346,
     "metadata": {},
     "output_type": "execute_result"
    }
   ],
   "source": [
    "books_p1[0].find('div', {'class': 'title_data pricee'}) is None"
   ]
  },
  {
   "cell_type": "code",
   "execution_count": 347,
   "metadata": {},
   "outputs": [],
   "source": [
    "titles = []\n",
    "authors = []\n",
    "places = []\n",
    "prices = []\n",
    "for book in books_p1:\n",
    "    if book.find('div', {'class': 'author'}) is not None:\n",
    "        authors.append(book.find('div', {'class': 'author'}).text)\n",
    "    else:\n",
    "        authors.append('')\n",
    "        \n",
    "    if book.a is not None:\n",
    "        titles.append(book.a.text)\n",
    "    else:\n",
    "        titles.append('')\n",
    "        \n",
    "    if book.find('div', {'class': 'placement'}) is not None:\n",
    "        places.append(book.find('div', {'class': 'placement'}).text)\n",
    "    else:\n",
    "        places.append('')\n",
    "        \n",
    "    if book.find('div', {'class': 'title_data price'}) is not None:\n",
    "        prices.append(book.find('div', {'class': 'title_data price'}).text)\n",
    "    else:\n",
    "        prices.append('')"
   ]
  },
  {
   "cell_type": "code",
   "execution_count": 348,
   "metadata": {
    "scrolled": false
   },
   "outputs": [
    {
     "data": {
      "text/plain": [
       "['Красавиц мертвых локоны златые :[роман]',\n",
       " 'День праха: роман',\n",
       " 'Большое небо : роман',\n",
       " 'Вся твоя ложь',\n",
       " 'Блюстители',\n",
       " 'Пандемия',\n",
       " 'Последняя охота',\n",
       " 'Земля мертвых',\n",
       " 'Идеальная няня',\n",
       " 'Я слишком долго мечтала',\n",
       " 'Время - убийца',\n",
       " 'Серебряная дорога']"
      ]
     },
     "execution_count": 348,
     "metadata": {},
     "output_type": "execute_result"
    }
   ],
   "source": [
    "titles"
   ]
  },
  {
   "cell_type": "code",
   "execution_count": 349,
   "metadata": {},
   "outputs": [],
   "source": [
    "def get_page_info(books_p):\n",
    "    titles = []\n",
    "    authors = []\n",
    "    places = []\n",
    "    prices = []\n",
    "    for book in books_p:\n",
    "        if book.div is not None:\n",
    "            authors.append(book.div.text)\n",
    "        else:\n",
    "            authors.append('')\n",
    "\n",
    "        if book.a is not None:\n",
    "            titles.append(book.a.text)\n",
    "        else:\n",
    "            titles.append('')\n",
    "\n",
    "        if book.find('div', {'class': 'placement'}) is not None:\n",
    "            places.append(book.find('div', {'class': 'placement'}).text)\n",
    "        else:\n",
    "            places.append('')\n",
    "\n",
    "        if book.find('div', {'class': 'title_data price'}) is not None:\n",
    "            prices.append(book.find('div', {'class': 'title_data price'}).text)\n",
    "        else:\n",
    "            prices.append('')\n",
    "            \n",
    "    return titles, authors, places, prices"
   ]
  },
  {
   "cell_type": "code",
   "execution_count": 350,
   "metadata": {},
   "outputs": [],
   "source": [
    "next_page = '//*[@id=\"main_wrapper\"]/ul/li[4]/a'"
   ]
  },
  {
   "cell_type": "code",
   "execution_count": 351,
   "metadata": {},
   "outputs": [],
   "source": [
    "page2 = br.find_element_by_xpath(next_page)"
   ]
  },
  {
   "cell_type": "code",
   "execution_count": 352,
   "metadata": {},
   "outputs": [],
   "source": [
    "page2.click()"
   ]
  },
  {
   "cell_type": "code",
   "execution_count": 353,
   "metadata": {},
   "outputs": [],
   "source": [
    "# next_page_2 = '//*[@id=\"main_wrapper\"]/ul/li[8]/a'\n",
    "# next_page_2 = br.find_element_by_xpath(next_page_2)\n",
    "# next_page_2.click()"
   ]
  },
  {
   "cell_type": "code",
   "execution_count": 354,
   "metadata": {},
   "outputs": [],
   "source": [
    "from time import sleep"
   ]
  },
  {
   "cell_type": "code",
   "execution_count": 355,
   "metadata": {},
   "outputs": [],
   "source": [
    "np_xpath = '//*[@id=\"main_wrapper\"]/ul/li[8]/a'"
   ]
  },
  {
   "cell_type": "code",
   "execution_count": 356,
   "metadata": {},
   "outputs": [
    {
     "name": "stdout",
     "output_type": "stream",
     "text": [
      "all pages parsed\n"
     ]
    }
   ],
   "source": [
    "for _ in range(1000):\n",
    "    try:\n",
    "        page = BeautifulSoup(br.page_source)\n",
    "        books = page.find_all('div', {'class': 'details_1'})\n",
    "        t, a, pl, pr = get_page_info(books)\n",
    "        titles.extend(t)\n",
    "        authors.extend(a)\n",
    "        places.extend(pl)\n",
    "        prices.extend(pr)\n",
    "        np = br.find_element_by_xpath(np_xpath)\n",
    "        sleep(3)\n",
    "        np.click()\n",
    "    except:\n",
    "        print('all pages parsed')\n",
    "        break"
   ]
  },
  {
   "cell_type": "code",
   "execution_count": 357,
   "metadata": {},
   "outputs": [],
   "source": [
    "df = pd.DataFrame({'book': titles, 'author': authors,\n",
    "                   'placement': places, 'price': prices})"
   ]
  },
  {
   "cell_type": "code",
   "execution_count": 358,
   "metadata": {},
   "outputs": [
    {
     "data": {
      "text/html": [
       "<div>\n",
       "<style scoped>\n",
       "    .dataframe tbody tr th:only-of-type {\n",
       "        vertical-align: middle;\n",
       "    }\n",
       "\n",
       "    .dataframe tbody tr th {\n",
       "        vertical-align: top;\n",
       "    }\n",
       "\n",
       "    .dataframe thead th {\n",
       "        text-align: right;\n",
       "    }\n",
       "</style>\n",
       "<table border=\"1\" class=\"dataframe\">\n",
       "  <thead>\n",
       "    <tr style=\"text-align: right;\">\n",
       "      <th></th>\n",
       "      <th>book</th>\n",
       "      <th>author</th>\n",
       "      <th>placement</th>\n",
       "      <th>price</th>\n",
       "    </tr>\n",
       "  </thead>\n",
       "  <tbody>\n",
       "    <tr>\n",
       "      <th>0</th>\n",
       "      <td>Красавиц мертвых локоны златые :[роман]</td>\n",
       "      <td>А. Брэдли</td>\n",
       "      <td>Расположение в торговом зале: Уровень 2, зал №...</td>\n",
       "      <td>Цена: 479,00 руб.</td>\n",
       "    </tr>\n",
       "    <tr>\n",
       "      <th>1</th>\n",
       "      <td>День праха: роман</td>\n",
       "      <td>Жан- Кристоф Гранже</td>\n",
       "      <td>Расположение в торговом зале: Уровень 2, зал №...</td>\n",
       "      <td>Цена: 669,00 руб.</td>\n",
       "    </tr>\n",
       "    <tr>\n",
       "      <th>2</th>\n",
       "      <td>Большое небо : роман</td>\n",
       "      <td>Кейт Аткинсон;</td>\n",
       "      <td>Расположение в торговом зале: Уровень 2, зал №...</td>\n",
       "      <td>Цена: 579,00 руб.</td>\n",
       "    </tr>\n",
       "    <tr>\n",
       "      <th>3</th>\n",
       "      <td>Вся твоя ложь</td>\n",
       "      <td>Г. Тайс</td>\n",
       "      <td>Расположение в торговом зале: Уровень 2, зал №...</td>\n",
       "      <td>Цена: 729,00 руб.</td>\n",
       "    </tr>\n",
       "    <tr>\n",
       "      <th>4</th>\n",
       "      <td>Блюстители</td>\n",
       "      <td>Дж. Гришэм</td>\n",
       "      <td>Расположение в торговом зале: Уровень 2, зал №...</td>\n",
       "      <td>Цена: 559,00 руб.</td>\n",
       "    </tr>\n",
       "  </tbody>\n",
       "</table>\n",
       "</div>"
      ],
      "text/plain": [
       "                                      book                author  \\\n",
       "0  Красавиц мертвых локоны златые :[роман]             А. Брэдли   \n",
       "1                        День праха: роман  Жан- Кристоф Гранже    \n",
       "2                     Большое небо : роман        Кейт Аткинсон;   \n",
       "3                            Вся твоя ложь               Г. Тайс   \n",
       "4                               Блюстители            Дж. Гришэм   \n",
       "\n",
       "                                           placement              price  \n",
       "0  Расположение в торговом зале: Уровень 2, зал №...  Цена: 479,00 руб.  \n",
       "1  Расположение в торговом зале: Уровень 2, зал №...  Цена: 669,00 руб.  \n",
       "2  Расположение в торговом зале: Уровень 2, зал №...  Цена: 579,00 руб.  \n",
       "3  Расположение в торговом зале: Уровень 2, зал №...  Цена: 729,00 руб.  \n",
       "4  Расположение в торговом зале: Уровень 2, зал №...  Цена: 559,00 руб.  "
      ]
     },
     "execution_count": 358,
     "metadata": {},
     "output_type": "execute_result"
    }
   ],
   "source": [
    "df.head()"
   ]
  },
  {
   "cell_type": "code",
   "execution_count": null,
   "metadata": {},
   "outputs": [],
   "source": []
  },
  {
   "cell_type": "code",
   "execution_count": null,
   "metadata": {},
   "outputs": [],
   "source": []
  },
  {
   "cell_type": "code",
   "execution_count": null,
   "metadata": {},
   "outputs": [],
   "source": []
  },
  {
   "cell_type": "code",
   "execution_count": null,
   "metadata": {},
   "outputs": [],
   "source": []
  },
  {
   "cell_type": "code",
   "execution_count": null,
   "metadata": {},
   "outputs": [],
   "source": []
  },
  {
   "cell_type": "code",
   "execution_count": null,
   "metadata": {},
   "outputs": [],
   "source": []
  },
  {
   "cell_type": "code",
   "execution_count": null,
   "metadata": {},
   "outputs": [],
   "source": []
  },
  {
   "cell_type": "code",
   "execution_count": null,
   "metadata": {},
   "outputs": [],
   "source": []
  },
  {
   "cell_type": "code",
   "execution_count": null,
   "metadata": {},
   "outputs": [],
   "source": []
  },
  {
   "cell_type": "code",
   "execution_count": 360,
   "metadata": {},
   "outputs": [],
   "source": [
    "# br.close()"
   ]
  }
 ],
 "metadata": {
  "kernelspec": {
   "display_name": "Python 3",
   "language": "python",
   "name": "python3"
  },
  "language_info": {
   "codemirror_mode": {
    "name": "ipython",
    "version": 3
   },
   "file_extension": ".py",
   "mimetype": "text/x-python",
   "name": "python",
   "nbconvert_exporter": "python",
   "pygments_lexer": "ipython3",
   "version": "3.8.5"
  },
  "toc": {
   "base_numbering": 1,
   "nav_menu": {},
   "number_sections": true,
   "sideBar": true,
   "skip_h1_title": false,
   "title_cell": "Table of Contents",
   "title_sidebar": "Contents",
   "toc_cell": false,
   "toc_position": {},
   "toc_section_display": true,
   "toc_window_display": false
  },
  "varInspector": {
   "cols": {
    "lenName": 16,
    "lenType": 16,
    "lenVar": 40
   },
   "kernels_config": {
    "python": {
     "delete_cmd_postfix": "",
     "delete_cmd_prefix": "del ",
     "library": "var_list.py",
     "varRefreshCmd": "print(var_dic_list())"
    },
    "r": {
     "delete_cmd_postfix": ") ",
     "delete_cmd_prefix": "rm(",
     "library": "var_list.r",
     "varRefreshCmd": "cat(var_dic_list()) "
    }
   },
   "types_to_exclude": [
    "module",
    "function",
    "builtin_function_or_method",
    "instance",
    "_Feature"
   ],
   "window_display": false
  }
 },
 "nbformat": 4,
 "nbformat_minor": 2
}
