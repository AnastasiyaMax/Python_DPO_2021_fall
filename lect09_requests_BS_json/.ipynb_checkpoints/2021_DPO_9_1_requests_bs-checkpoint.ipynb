{
 "cells": [
  {
   "cell_type": "markdown",
   "metadata": {},
   "source": [
    "# Парсинг, практика\n",
    "\n",
    "*Анастасия Паршина, НИУ ВШЭ*"
   ]
  },
  {
   "cell_type": "code",
   "execution_count": 65,
   "metadata": {},
   "outputs": [],
   "source": [
    "import requests\n",
    "from bs4 import BeautifulSoup\n",
    "import pandas as pd\n",
    "import re\n",
    "from time import sleep"
   ]
  },
  {
   "cell_type": "markdown",
   "metadata": {},
   "source": [
    "## Задание 1\n",
    "\n",
    "Дана ссылка на сайт [IMDb](https://www.imdb.com/calendar/?ref_=nv_mv_cal). Сохраните название и ссылки всех фильмов на странице. "
   ]
  },
  {
   "cell_type": "code",
   "execution_count": 121,
   "metadata": {},
   "outputs": [
    {
     "name": "stdout",
     "output_type": "stream",
     "text": [
      "https://www.imdb.com/calendar/?ref_=nv_mv_cal\n"
     ]
    }
   ],
   "source": [
    "url = 'https://www.imdb.com/calendar/?ref_=nv_mv_cal'\n",
    "print(url)"
   ]
  },
  {
   "cell_type": "code",
   "execution_count": 122,
   "metadata": {},
   "outputs": [
    {
     "data": {
      "text/plain": [
       "200"
      ]
     },
     "execution_count": 122,
     "metadata": {},
     "output_type": "execute_result"
    }
   ],
   "source": [
    "page = requests.get(url)\n",
    "page.status_code # 200 - все хорошо"
   ]
  },
  {
   "cell_type": "code",
   "execution_count": 124,
   "metadata": {},
   "outputs": [],
   "source": [
    "soup = BeautifulSoup(page.text)\n",
    "#soup"
   ]
  },
  {
   "cell_type": "code",
   "execution_count": 69,
   "metadata": {},
   "outputs": [
    {
     "data": {
      "text/plain": [
       "[<h4>19 October 2021</h4>,\n",
       " <h4>22 October 2021</h4>,\n",
       " <h4>29 October 2021</h4>,\n",
       " <h4>03 November 2021</h4>,\n",
       " <h4>05 November 2021</h4>,\n",
       " <h4>10 November 2021</h4>,\n",
       " <h4>12 November 2021</h4>,\n",
       " <h4>19 November 2021</h4>,\n",
       " <h4>24 November 2021</h4>,\n",
       " <h4>26 November 2021</h4>,\n",
       " <h4>03 December 2021</h4>,\n",
       " <h4>10 December 2021</h4>,\n",
       " <h4>17 December 2021</h4>,\n",
       " <h4>22 December 2021</h4>,\n",
       " <h4>25 December 2021</h4>,\n",
       " <h4>07 January 2022</h4>,\n",
       " <h4>14 January 2022</h4>,\n",
       " <h4>21 January 2022</h4>,\n",
       " <h4>28 January 2022</h4>,\n",
       " <h4>04 February 2022</h4>,\n",
       " <h4>11 February 2022</h4>,\n",
       " <h4>18 February 2022</h4>,\n",
       " <h4>04 March 2022</h4>,\n",
       " <h4>11 March 2022</h4>,\n",
       " <h4>18 March 2022</h4>,\n",
       " <h4>08 April 2022</h4>,\n",
       " <h4>15 April 2022</h4>,\n",
       " <h4>22 April 2022</h4>,\n",
       " <h4>06 May 2022</h4>,\n",
       " <h4>20 May 2022</h4>,\n",
       " <h4>22 May 2022</h4>,\n",
       " <h4>27 May 2022</h4>,\n",
       " <h4>03 June 2022</h4>,\n",
       " <h4>10 June 2022</h4>,\n",
       " <h4>17 June 2022</h4>,\n",
       " <h4>24 June 2022</h4>,\n",
       " <h4>01 July 2022</h4>,\n",
       " <h4>08 July 2022</h4>,\n",
       " <h4>22 July 2022</h4>,\n",
       " <h4>29 July 2022</h4>,\n",
       " <h4>03 August 2022</h4>,\n",
       " <h4>12 August 2022</h4>,\n",
       " <h4>26 August 2022</h4>,\n",
       " <h4>09 September 2022</h4>,\n",
       " <h4>23 September 2022</h4>,\n",
       " <h4>30 September 2022</h4>,\n",
       " <h4>07 October 2022</h4>,\n",
       " <h4>14 October 2022</h4>]"
      ]
     },
     "execution_count": 69,
     "metadata": {},
     "output_type": "execute_result"
    }
   ],
   "source": [
    "dates = soup.find_all('h4') # все наши даты\n",
    "dates"
   ]
  },
  {
   "cell_type": "code",
   "execution_count": 70,
   "metadata": {
    "scrolled": true
   },
   "outputs": [
    {
     "data": {
      "text/plain": [
       "'19 October 2021'"
      ]
     },
     "execution_count": 70,
     "metadata": {},
     "output_type": "execute_result"
    }
   ],
   "source": [
    "soup.find_all('h4')[0].text"
   ]
  },
  {
   "cell_type": "code",
   "execution_count": 71,
   "metadata": {},
   "outputs": [
    {
     "data": {
      "text/plain": [
       "[<a href=\"/title/tt12335692/?ref_=rlm\">Last Man Down</a>,\n",
       " <a href=\"/title/tt11405568/?ref_=rlm\">The Poltergeist Diaries</a>,\n",
       " <a href=\"/title/tt1160419/?ref_=rlm\">Dune</a>,\n",
       " <a href=\"/title/tt8847712/?ref_=rlm\">The French Dispatch</a>,\n",
       " <a href=\"/title/tt7504818/?ref_=rlm\">Ron's Gone Wrong</a>,\n",
       " <a href=\"/title/tt8956324/?ref_=rlm\">Warning</a>,\n",
       " <a href=\"/title/tt15413054/?ref_=rlm\">Cloudy Mountain</a>,\n",
       " <a href=\"/title/tt9639470/?ref_=rlm\">Last Night in Soho</a>,\n",
       " <a href=\"/title/tt7740510/?ref_=rlm\">Antlers</a>,\n",
       " <a href=\"/title/tt13544716/?ref_=rlm\">My Hero Academia: World Heroes' Mission</a>,\n",
       " <a href=\"/title/tt10925852/?ref_=rlm\">A Mouthful of Air</a>,\n",
       " <a href=\"/title/tt9274670/?ref_=rlm\">13 Minutes</a>,\n",
       " <a href=\"/title/tt6992978/?ref_=rlm\">The Souvenir: Part II</a>,\n",
       " <a href=\"/title/tt15331462/?ref_=rlm\">Planet Dune</a>,\n",
       " <a href=\"/title/tt8400856/?ref_=rlm\">The Grand Duke of Corsica</a>,\n",
       " <a href=\"/title/tt9032400/?ref_=rlm\">Eternals</a>,\n",
       " <a href=\"/title/tt12536294/?ref_=rlm\">Spencer</a>,\n",
       " <a href=\"/title/tt11388416/?ref_=rlm\">Ida Red</a>,\n",
       " <a href=\"/title/tt11738830/?ref_=rlm\">The Beta Test</a>,\n",
       " <a href=\"/title/tt6852672/?ref_=rlm\">Violet</a>,\n",
       " <a href=\"/title/tt3876910/?ref_=rlm\">Dangerous</a>,\n",
       " <a href=\"/title/tt2397461/?ref_=rlm\">Clifford the Big Red Dog</a>,\n",
       " <a href=\"/title/tt12789558/?ref_=rlm\">Belfast</a>,\n",
       " <a href=\"/title/tt9568230/?ref_=rlm\">Night Raiders</a>,\n",
       " <a href=\"/title/tt13265876/?ref_=rlm\">Apex</a>,\n",
       " <a href=\"/title/tt4513678/?ref_=rlm\">Ghostbusters: Afterlife</a>,\n",
       " <a href=\"/title/tt9620288/?ref_=rlm\">King Richard</a>,\n",
       " <a href=\"/title/tt10986222/?ref_=rlm\">C'mon C'mon</a>,\n",
       " <a href=\"/title/tt14033502/?ref_=rlm\">Bad Luck Banging or Loony Porn</a>,\n",
       " <a href=\"/title/tt12229370/?ref_=rlm\">Mothering Sunday</a>,\n",
       " <a href=\"/title/tt13432484/?ref_=rlm\">Zeros and Ones</a>,\n",
       " <a href=\"/title/tt6920084/?ref_=rlm\">Resident Evil: Welcome to Raccoon City</a>,\n",
       " <a href=\"/title/tt11214590/?ref_=rlm\">House of Gucci</a>,\n",
       " <a href=\"/title/tt2953050/?ref_=rlm\">Encanto</a>,\n",
       " <a href=\"/title/tt14039582/?ref_=rlm\">Drive My Car</a>,\n",
       " <a href=\"/title/tt10023286/?ref_=rlm\">The Humans</a>,\n",
       " <a href=\"/title/tt11271038/?ref_=rlm\">Licorice Pizza</a>,\n",
       " <a href=\"/title/tt13453006/?ref_=rlm\">Red Rocket</a>,\n",
       " <a href=\"/title/tt10698174/?ref_=rlm\">Wolf</a>,\n",
       " <a href=\"/title/tt3581652/?ref_=rlm\">West Side Story</a>,\n",
       " <a href=\"/title/tt9714030/?ref_=rlm\">France</a>,\n",
       " <a href=\"/title/tt12800524/?ref_=rlm\">Encounter</a>,\n",
       " <a href=\"/title/tt10872600/?ref_=rlm\">Spider-Man: No Way Home</a>,\n",
       " <a href=\"/title/tt7740496/?ref_=rlm\">Nightmare Alley</a>,\n",
       " <a href=\"/title/tt10832274/?ref_=rlm\">Swan Song</a>,\n",
       " <a href=\"/title/tt10838180/?ref_=rlm\">The Matrix Resurrections</a>,\n",
       " <a href=\"/title/tt6856242/?ref_=rlm\">The King's Man</a>,\n",
       " <a href=\"/title/tt6467266/?ref_=rlm\">Sing 2</a>,\n",
       " <a href=\"/title/tt0995854/?ref_=rlm\">A Journal for Jordan</a>,\n",
       " <a href=\"/title/tt10095582/?ref_=rlm\">The Tragedy of Macbeth</a>,\n",
       " <a href=\"/title/tt11729298/?ref_=rlm\">American Underdog</a>,\n",
       " <a href=\"/title/tt8356942/?ref_=rlm\">The 355</a>,\n",
       " <a href=\"/title/tt11245972/?ref_=rlm\">Scream</a>,\n",
       " <a href=\"/title/tt11671006/?ref_=rlm\">The Man from Toronto</a>,\n",
       " <a href=\"/title/tt2180339/?ref_=rlm\">Deep Water</a>,\n",
       " <a href=\"/title/tt13651628/?ref_=rlm\">Belle: The Dragon and the Freckled Princess</a>,\n",
       " <a href=\"/title/tt2224162/?ref_=rlm\">Sesame Street</a>,\n",
       " <a href=\"/title/tt7985704/?ref_=rlm\">Operation Fortune: Ruse de guerre</a>,\n",
       " <a href=\"/title/tt5108870/?ref_=rlm\">Morbius</a>,\n",
       " <a href=\"/title/tt7144666/?ref_=rlm\">The Black Phone</a>,\n",
       " <a href=\"/title/tt5834426/?ref_=rlm\">Moonfall</a>,\n",
       " <a href=\"/title/tt11466222/?ref_=rlm\">Jackass Forever</a>,\n",
       " <a href=\"/title/tt7657566/?ref_=rlm\">Death on the Nile</a>,\n",
       " <a href=\"/title/tt10223460/?ref_=rlm\">Marry Me</a>,\n",
       " <a href=\"/title/tt10503736/?ref_=rlm\">The Ghosts of Borley Rectory</a>,\n",
       " <a href=\"/title/tt1464335/?ref_=rlm\">Uncharted</a>,\n",
       " <a href=\"/title/tt4998632/?ref_=rlm\">Ambulance</a>,\n",
       " <a href=\"/title/tt11252248/?ref_=rlm\">Dog</a>,\n",
       " <a href=\"/title/tt8337158/?ref_=rlm\">Rumble</a>,\n",
       " <a href=\"/title/tt1877830/?ref_=rlm\">The Batman</a>,\n",
       " <a href=\"/title/tt8097030/?ref_=rlm\">Turning Red</a>,\n",
       " <a href=\"/title/tt11703710/?ref_=rlm\">Downton Abbey: A New Era</a>,\n",
       " <a href=\"/title/tt11138512/?ref_=rlm\">The Northman</a>,\n",
       " <a href=\"/title/tt12593682/?ref_=rlm\">Bullet Train</a>,\n",
       " <a href=\"/title/tt12412888/?ref_=rlm\">Sonic the Hedgehog 2</a>,\n",
       " <a href=\"/title/tt4123432/?ref_=rlm\">Fantastic Beasts: The Secrets of Dumbledore</a>,\n",
       " <a href=\"/title/tt11291274/?ref_=rlm\">The Unbearable Weight of Massive Talent</a>,\n",
       " <a href=\"/title/tt8115900/?ref_=rlm\">The Bad Guys</a>,\n",
       " <a href=\"/title/tt9419884/?ref_=rlm\">Doctor Strange in the Multiverse of Madness</a>,\n",
       " <a href=\"/title/tt8509238/?ref_=rlm\">Legally Blonde 3</a>,\n",
       " <a href=\"/title/tt8912936/?ref_=rlm\">DC League of Super-Pets</a>,\n",
       " <a href=\"/title/tt1745960/?ref_=rlm\">Top Gun: Maverick</a>,\n",
       " <a href=\"/title/tt10366206/?ref_=rlm\">John Wick: Chapter 4</a>,\n",
       " <a href=\"/title/tt3704428/?ref_=rlm\">Untitled Elvis Presley Project</a>,\n",
       " <a href=\"/title/tt8041270/?ref_=rlm\">Jurassic World: Dominion</a>,\n",
       " <a href=\"/title/tt10298810/?ref_=rlm\">Lightyear</a>,\n",
       " <a href=\"/title/tt5090568/?ref_=rlm\">Transformers: Rise of the Beasts</a>,\n",
       " <a href=\"/title/tt9411972/?ref_=rlm\">Where the Crawdads Sing</a>,\n",
       " <a href=\"/title/tt5113044/?ref_=rlm\">Minions: The Rise of Gru</a>,\n",
       " <a href=\"/title/tt10648342/?ref_=rlm\">Thor: Love and Thunder</a>,\n",
       " <a href=\"/title/tt10954984/?ref_=rlm\">Nope</a>,\n",
       " <a href=\"/title/tt6443346/?ref_=rlm\">Black Adam</a>,\n",
       " <a href=\"/title/tt13917358/?ref_=rlm\">Guns 3: Alias Billy the Kid</a>,\n",
       " <a href=\"/title/tt9731598/?ref_=rlm\">BROS</a>,\n",
       " <a href=\"/title/tt5500218/?ref_=rlm\">Samaritan</a>,\n",
       " <a href=\"/title/tt10245072/?ref_=rlm\">Salem's Lot</a>,\n",
       " <a href=\"/title/tt10731256/?ref_=rlm\">Don't Worry Darling</a>,\n",
       " <a href=\"/title/tt9603212/?ref_=rlm\">Mission: Impossible 7</a>,\n",
       " <a href=\"/title/tt9362722/?ref_=rlm\">Spider-Man: Into the Spider-Verse 2</a>,\n",
       " <a href=\"/title/tt10665342/?ref_=rlm\">Halloween Ends</a>]"
      ]
     },
     "execution_count": 71,
     "metadata": {},
     "output_type": "execute_result"
    }
   ],
   "source": [
    "# достать ссылки можно так, но как понять, к какой дате они относятся??\n",
    "soup.find_all('a', attrs = {'href' : re.compile('title/tt')}) "
   ]
  },
  {
   "cell_type": "code",
   "execution_count": 72,
   "metadata": {},
   "outputs": [],
   "source": [
    "# пробуем по-другому\n",
    "info = soup.find('div', {'id': 'main'}).find_all('ul')\n",
    "#info"
   ]
  },
  {
   "cell_type": "code",
   "execution_count": 138,
   "metadata": {},
   "outputs": [],
   "source": [
    "films = soup.find('div', {'id': 'main'}).find_all('a')\n",
    "\n",
    "res = []\n",
    "for film in films:\n",
    "    d = {'name': film.text,\n",
    "        'url': 'https://www.imdb.com' + film.get('href')}\n",
    "    res.append(d)"
   ]
  },
  {
   "cell_type": "code",
   "execution_count": 139,
   "metadata": {},
   "outputs": [
    {
     "data": {
      "text/plain": [
       "100"
      ]
     },
     "execution_count": 139,
     "metadata": {},
     "output_type": "execute_result"
    }
   ],
   "source": [
    "len(res)"
   ]
  },
  {
   "cell_type": "code",
   "execution_count": 140,
   "metadata": {},
   "outputs": [],
   "source": [
    "import pandas as pd"
   ]
  },
  {
   "cell_type": "code",
   "execution_count": 141,
   "metadata": {},
   "outputs": [],
   "source": [
    "df = pd.DataFrame(res)"
   ]
  },
  {
   "cell_type": "code",
   "execution_count": 142,
   "metadata": {},
   "outputs": [
    {
     "data": {
      "text/html": [
       "<div>\n",
       "<style scoped>\n",
       "    .dataframe tbody tr th:only-of-type {\n",
       "        vertical-align: middle;\n",
       "    }\n",
       "\n",
       "    .dataframe tbody tr th {\n",
       "        vertical-align: top;\n",
       "    }\n",
       "\n",
       "    .dataframe thead th {\n",
       "        text-align: right;\n",
       "    }\n",
       "</style>\n",
       "<table border=\"1\" class=\"dataframe\">\n",
       "  <thead>\n",
       "    <tr style=\"text-align: right;\">\n",
       "      <th></th>\n",
       "      <th>name</th>\n",
       "      <th>url</th>\n",
       "    </tr>\n",
       "  </thead>\n",
       "  <tbody>\n",
       "    <tr>\n",
       "      <th>0</th>\n",
       "      <td>Last Man Down</td>\n",
       "      <td>https://www.imdb.com/title/tt12335692/?ref_=rlm</td>\n",
       "    </tr>\n",
       "    <tr>\n",
       "      <th>1</th>\n",
       "      <td>The Poltergeist Diaries</td>\n",
       "      <td>https://www.imdb.com/title/tt11405568/?ref_=rlm</td>\n",
       "    </tr>\n",
       "    <tr>\n",
       "      <th>2</th>\n",
       "      <td>Dune</td>\n",
       "      <td>https://www.imdb.com/title/tt1160419/?ref_=rlm</td>\n",
       "    </tr>\n",
       "    <tr>\n",
       "      <th>3</th>\n",
       "      <td>The French Dispatch</td>\n",
       "      <td>https://www.imdb.com/title/tt8847712/?ref_=rlm</td>\n",
       "    </tr>\n",
       "    <tr>\n",
       "      <th>4</th>\n",
       "      <td>Ron's Gone Wrong</td>\n",
       "      <td>https://www.imdb.com/title/tt7504818/?ref_=rlm</td>\n",
       "    </tr>\n",
       "  </tbody>\n",
       "</table>\n",
       "</div>"
      ],
      "text/plain": [
       "                      name                                              url\n",
       "0            Last Man Down  https://www.imdb.com/title/tt12335692/?ref_=rlm\n",
       "1  The Poltergeist Diaries  https://www.imdb.com/title/tt11405568/?ref_=rlm\n",
       "2                     Dune   https://www.imdb.com/title/tt1160419/?ref_=rlm\n",
       "3      The French Dispatch   https://www.imdb.com/title/tt8847712/?ref_=rlm\n",
       "4         Ron's Gone Wrong   https://www.imdb.com/title/tt7504818/?ref_=rlm"
      ]
     },
     "execution_count": 142,
     "metadata": {},
     "output_type": "execute_result"
    }
   ],
   "source": [
    "df.head()"
   ]
  },
  {
   "cell_type": "code",
   "execution_count": null,
   "metadata": {},
   "outputs": [],
   "source": []
  },
  {
   "cell_type": "code",
   "execution_count": null,
   "metadata": {},
   "outputs": [],
   "source": []
  },
  {
   "cell_type": "markdown",
   "metadata": {},
   "source": [
    "## Задание 3\n",
    "\n",
    "Дана ссылка на первую страницу [каталога книжных новинок](https://www.bgshop.ru/catalog/group?id=444&page=1&sort=1&instock=). Соберите информацию о книгах с первых трех страниц. "
   ]
  },
  {
   "cell_type": "code",
   "execution_count": 95,
   "metadata": {},
   "outputs": [
    {
     "data": {
      "text/plain": [
       "['https://www.bgshop.ru/catalog/group?id=444&page=1&sort=1&instock=',\n",
       " 'https://www.bgshop.ru/catalog/group?id=444&page=2&sort=1&instock=',\n",
       " 'https://www.bgshop.ru/catalog/group?id=444&page=3&sort=1&instock=']"
      ]
     },
     "execution_count": 95,
     "metadata": {},
     "output_type": "execute_result"
    }
   ],
   "source": [
    "urls = []\n",
    "\n",
    "for i in range(1,4):\n",
    "    urls.append(f'https://www.bgshop.ru/catalog/group?id=444&page={i}&sort=1&instock=')\n",
    "urls"
   ]
  },
  {
   "cell_type": "code",
   "execution_count": 96,
   "metadata": {},
   "outputs": [
    {
     "data": {
      "text/plain": [
       "200"
      ]
     },
     "execution_count": 96,
     "metadata": {},
     "output_type": "execute_result"
    }
   ],
   "source": [
    "page = requests.get(urls[0])\n",
    "page.status_code"
   ]
  },
  {
   "cell_type": "code",
   "execution_count": 97,
   "metadata": {},
   "outputs": [],
   "source": [
    "soup = BeautifulSoup(page.text)\n",
    "#soup"
   ]
  },
  {
   "cell_type": "code",
   "execution_count": 98,
   "metadata": {},
   "outputs": [
    {
     "data": {
      "text/plain": [
       "<div class=\"product\">\n",
       "<a class=\"img_link\" href=\"/Catalog/GetFullDescription?id=10799787&amp;type=1\"><img alt=\"\" class=\"img-fluid\" src=\"https://static1.bgshop.ru/imagehandler.ashx?fileName=10799787.jpg&amp;width=200\"/></a>\n",
       "<div class=\"text\">\n",
       "<div class=\"author\">Г. Тайс</div>\n",
       "<h3><a href=\"/Catalog/GetFullDescription?id=10799787&amp;type=1\" id=\"p_title_10799787\">Вся твоя ложь</a></h3>\n",
       "<p class=\"price\">\n",
       "<span class=\"im_price_title\" style=\"font-size:0.85em;\">Цена в интернет-магазине: </span><span id=\"p_price_10799787\" style=\"display:block; font-weight:bold; font-size:1.4em; margin:6px 0 5px; color:#111;\">\n",
       "                                    510,00 <span style=\"font-size:.8em; font-weight:normal;\">руб.</span>\n",
       "</span>\n",
       "<span style=\"display:block; text-decoration:line-through; color:#777;\">729,00 руб.</span>\n",
       "</p>\n",
       "<p class=\"status im_status_title\">\n",
       "в наличии                        </p>\n",
       "<p class=\"buttons\">\n",
       "<span class=\"btn btn-primary\" id=\"add_10799787\" onclick=\"AddToBasket(10799787)\"><i class=\"fa fa-shopping-cart\"></i> В корзину</span>\n",
       "<a class=\"btn btn-primary add_but\" href=\"/Basket/Detail\" id=\"added_10799787\">Оформить <i class=\"fa fa-chevron-right\"></i></a>\n",
       "</p>\n",
       "</div>\n",
       "<!-- /.text -->\n",
       "</div>"
      ]
     },
     "execution_count": 98,
     "metadata": {},
     "output_type": "execute_result"
    }
   ],
   "source": [
    "product = soup.find_all('div', {'class':'product'})[0]\n",
    "product"
   ]
  },
  {
   "cell_type": "code",
   "execution_count": 99,
   "metadata": {},
   "outputs": [
    {
     "data": {
      "text/plain": [
       "'https://www.bgshop.ru//Catalog/GetFullDescription?id=10799787&type=1'"
      ]
     },
     "execution_count": 99,
     "metadata": {},
     "output_type": "execute_result"
    }
   ],
   "source": [
    "# ссылка\n",
    "url0 = 'https://www.bgshop.ru/' + product.find_all('a')[0].get('href')\n",
    "url0"
   ]
  },
  {
   "cell_type": "code",
   "execution_count": 100,
   "metadata": {},
   "outputs": [],
   "source": [
    "page0 = requests.get(url0)\n",
    "soup0 = BeautifulSoup(page0.text)\n",
    "#soup0"
   ]
  },
  {
   "cell_type": "code",
   "execution_count": 101,
   "metadata": {},
   "outputs": [
    {
     "data": {
      "text/plain": [
       "<div class=\"row box\" id=\"productMain\">\n",
       "<div class=\"col-md-4\">\n",
       "<a data-fancybox=\"gallery\" href=\"/imagehandler.ashx?filename=10799787.jpg&amp;width=400\"><img alt=\"Вся твоя ложь\" class=\"product_photo zoomIn\" src=\"/imagehandler.ashx?filename=10799787.jpg&amp;width=200\" title=\"Вся твоя ложь\" width=\"200\"/></a>\n",
       "</div>\n",
       "<div class=\"col-md-7\">\n",
       "<div class=\"item-desc\">\n",
       "<p class=\"goToDescription\"><a class=\"scroll-to\" href=\"/Catalog/Search?query=Тайс Г.&amp;page=1\">\n",
       "Тайс Г.             </a></p>\n",
       "<h1 id=\"p_title_10799787\">Вся твоя ложь</h1>\n",
       "<p class=\"item-status\">в наличии</p>\n",
       "<div id=\"old_price\">Цена: <span style=\"text-decoration:line-through; color:#777;\"><b>729,00</b> руб.</span></div>\n",
       "<div id=\"price\">Цена в интернет-магазине: <span id=\"p_price_10799787\" style=\"color: #a42921; font-size:1.2rem;\">510,00 руб.</span></div>\n",
       "<p class=\"buttons\">\n",
       "<span class=\"btn btn-primary\" id=\"add_10799787\" onclick=\"AddToBasket(10799787)\"><i class=\"fa fa-shopping-cart\"></i> В корзину</span>\n",
       "<a class=\"btn btn-primary add_but\" href=\"/Basket/Detail\" id=\"added_10799787\">Перейти в корзину <i class=\"fa fa-chevron-right\"></i></a>\n",
       "</p>\n",
       "<a href=\"https://www.bgshop.ru/information/page/dostavka\" style=\"display:block; margin-top:15px;\" target=\"_blank\"><img alt=\"\" src=\"https://static2.bgshop.ru/banners/delivery_ban101.jpg\" style=\"border:0;\" title=\"Доставка книг по России от 200 руб.*\"/></a>\n",
       "</div>\n",
       "</div>\n",
       "</div>"
      ]
     },
     "execution_count": 101,
     "metadata": {},
     "output_type": "execute_result"
    }
   ],
   "source": [
    "main_info = soup0.find_all('div', {'id':'productMain'})[0]\n",
    "main_info"
   ]
  },
  {
   "cell_type": "code",
   "execution_count": 102,
   "metadata": {},
   "outputs": [
    {
     "data": {
      "text/plain": [
       "'\\r\\nТайс Г.             '"
      ]
     },
     "execution_count": 102,
     "metadata": {},
     "output_type": "execute_result"
    }
   ],
   "source": [
    "author = main_info.find_all('p')[0].text\n",
    "author"
   ]
  },
  {
   "cell_type": "code",
   "execution_count": 103,
   "metadata": {},
   "outputs": [
    {
     "data": {
      "text/plain": [
       "'Вся твоя ложь'"
      ]
     },
     "execution_count": 103,
     "metadata": {},
     "output_type": "execute_result"
    }
   ],
   "source": [
    "title = main_info.find_all('h1')[0].text\n",
    "title"
   ]
  },
  {
   "cell_type": "code",
   "execution_count": 104,
   "metadata": {},
   "outputs": [
    {
     "data": {
      "text/plain": [
       "'в наличии'"
      ]
     },
     "execution_count": 104,
     "metadata": {},
     "output_type": "execute_result"
    }
   ],
   "source": [
    "status = main_info.find_all('p', {'class':'item-status'})[0].text\n",
    "status"
   ]
  },
  {
   "cell_type": "code",
   "execution_count": 105,
   "metadata": {},
   "outputs": [
    {
     "data": {
      "text/plain": [
       "'Цена в интернет-магазине: 510,00\\xa0руб.'"
      ]
     },
     "execution_count": 105,
     "metadata": {},
     "output_type": "execute_result"
    }
   ],
   "source": [
    "price = main_info.find_all('div', {'id':'price'})[0].text\n",
    "price"
   ]
  },
  {
   "cell_type": "code",
   "execution_count": 106,
   "metadata": {},
   "outputs": [
    {
     "data": {
      "text/plain": [
       "510.0"
      ]
     },
     "execution_count": 106,
     "metadata": {},
     "output_type": "execute_result"
    }
   ],
   "source": [
    "price_clean = float(re.findall(r'\\d+,\\d+', price)[0].replace(',', '.'))\n",
    "price_clean"
   ]
  },
  {
   "cell_type": "code",
   "execution_count": 107,
   "metadata": {},
   "outputs": [],
   "source": [
    "books = {}\n",
    "\n",
    "for i in soup.find_all('div', {'class':'product'}):\n",
    "    url0 = 'https://www.bgshop.ru/' + i.find_all('a')[0].get('href')\n",
    "    page0 = requests.get(url0)\n",
    "    soup0 = BeautifulSoup(page0.text)\n",
    "    sleep(1)\n",
    "    \n",
    "    main_info = soup0.find_all('div', {'id':'productMain'})[0]\n",
    "    author = main_info.find_all('p')[0].text\n",
    "    title = main_info.find_all('h1')[0].text\n",
    "    status = main_info.find_all('p', {'class':'item-status'})[0].text\n",
    "    \n",
    "    price = main_info.find_all('div', {'id':'price'})[0].text\n",
    "    price_clean = float(re.findall(r'\\d+,\\d+', price)[0].replace(',', '.'))\n",
    "    \n",
    "    books[title] = [author, status, price_clean, url0]"
   ]
  },
  {
   "cell_type": "markdown",
   "metadata": {},
   "source": [
    "А теперь для всех (трех) страниц с книгами:"
   ]
  },
  {
   "cell_type": "code",
   "execution_count": 108,
   "metadata": {},
   "outputs": [],
   "source": [
    "books = {}\n",
    "for u in urls:\n",
    "    page = requests.get(u)\n",
    "    soup = BeautifulSoup(page.text)\n",
    "    sleep(1)\n",
    "    info = soup.find_all('div', {'class':'product'})\n",
    "    for i in info:\n",
    "        url0 = 'https://www.bgshop.ru/' + i.find_all('a')[0].get('href')\n",
    "        page0 = requests.get(url0)\n",
    "        soup0 = BeautifulSoup(page0.text)\n",
    "        sleep(1)\n",
    "\n",
    "        main_info = soup0.find_all('div', {'id':'productMain'})[0]\n",
    "        author = main_info.find_all('p')[0].text\n",
    "        title = main_info.find_all('h1')[0].text\n",
    "        status = main_info.find_all('p', {'class':'item-status'})[0].text\n",
    "\n",
    "        price = main_info.find_all('div', {'id':'price'})[0].text\n",
    "        price_change = float(re.findall(r'\\d+,\\d+', price)[0].replace(',', '.'))\n",
    "\n",
    "        books[title] = [author, status, price_change, url0]"
   ]
  },
  {
   "cell_type": "code",
   "execution_count": 109,
   "metadata": {},
   "outputs": [
    {
     "data": {
      "text/html": [
       "<div>\n",
       "<style scoped>\n",
       "    .dataframe tbody tr th:only-of-type {\n",
       "        vertical-align: middle;\n",
       "    }\n",
       "\n",
       "    .dataframe tbody tr th {\n",
       "        vertical-align: top;\n",
       "    }\n",
       "\n",
       "    .dataframe thead th {\n",
       "        text-align: right;\n",
       "    }\n",
       "</style>\n",
       "<table border=\"1\" class=\"dataframe\">\n",
       "  <thead>\n",
       "    <tr style=\"text-align: right;\">\n",
       "      <th></th>\n",
       "      <th>Автор</th>\n",
       "      <th>Статус</th>\n",
       "      <th>Цена</th>\n",
       "      <th>Ссылка</th>\n",
       "    </tr>\n",
       "  </thead>\n",
       "  <tbody>\n",
       "    <tr>\n",
       "      <th>Вся твоя ложь</th>\n",
       "      <td>\\r\\nТайс Г.</td>\n",
       "      <td>в наличии</td>\n",
       "      <td>510.0</td>\n",
       "      <td>https://www.bgshop.ru//Catalog/GetFullDescript...</td>\n",
       "    </tr>\n",
       "    <tr>\n",
       "      <th>Преступления любви</th>\n",
       "      <td>\\r\\nМаркиз  де Сад</td>\n",
       "      <td>в наличии</td>\n",
       "      <td>454.0</td>\n",
       "      <td>https://www.bgshop.ru//Catalog/GetFullDescript...</td>\n",
       "    </tr>\n",
       "    <tr>\n",
       "      <th>Кровь и мёд</th>\n",
       "      <td>\\r\\nШелби Махёрин</td>\n",
       "      <td>в наличии</td>\n",
       "      <td>503.0</td>\n",
       "      <td>https://www.bgshop.ru//Catalog/GetFullDescript...</td>\n",
       "    </tr>\n",
       "    <tr>\n",
       "      <th>ВДНХ. Мечта о прекрасном, несбыточном. Живая история выставки</th>\n",
       "      <td>\\r\\nПанкратов Г. В.</td>\n",
       "      <td>в наличии</td>\n",
       "      <td>713.0</td>\n",
       "      <td>https://www.bgshop.ru//Catalog/GetFullDescript...</td>\n",
       "    </tr>\n",
       "    <tr>\n",
       "      <th>Вселенная Хаяо Миядзаки. Картины великого аниматора в деталях</th>\n",
       "      <td>\\r\\nГаэль Бертон</td>\n",
       "      <td>в наличии</td>\n",
       "      <td>759.0</td>\n",
       "      <td>https://www.bgshop.ru//Catalog/GetFullDescript...</td>\n",
       "    </tr>\n",
       "    <tr>\n",
       "      <th>Сумерки хищников</th>\n",
       "      <td>\\r\\nМарк Леви</td>\n",
       "      <td>в наличии</td>\n",
       "      <td>369.0</td>\n",
       "      <td>https://www.bgshop.ru//Catalog/GetFullDescript...</td>\n",
       "    </tr>\n",
       "    <tr>\n",
       "      <th>Порог</th>\n",
       "      <td>\\r\\nОлег Рой</td>\n",
       "      <td>в наличии</td>\n",
       "      <td>573.0</td>\n",
       "      <td>https://www.bgshop.ru//Catalog/GetFullDescript...</td>\n",
       "    </tr>\n",
       "    <tr>\n",
       "      <th>Двойной контроль</th>\n",
       "      <td>\\r\\nЭдвард Сент-Обин</td>\n",
       "      <td>в наличии</td>\n",
       "      <td>468.0</td>\n",
       "      <td>https://www.bgshop.ru//Catalog/GetFullDescript...</td>\n",
       "    </tr>\n",
       "    <tr>\n",
       "      <th>Рождественский Поросёнок</th>\n",
       "      <td>\\r\\nРоулинг Дж.К.</td>\n",
       "      <td>в наличии</td>\n",
       "      <td>583.0</td>\n",
       "      <td>https://www.bgshop.ru//Catalog/GetFullDescript...</td>\n",
       "    </tr>\n",
       "    <tr>\n",
       "      <th>Вакцинация. Спасение человечества или всеобщая эвтаназия?</th>\n",
       "      <td>\\r\\nВалентин Катасонов</td>\n",
       "      <td></td>\n",
       "      <td>1059.0</td>\n",
       "      <td>https://www.bgshop.ru//Catalog/GetFullDescript...</td>\n",
       "    </tr>\n",
       "    <tr>\n",
       "      <th>Сердца четырех</th>\n",
       "      <td>\\r\\nВладимир Сорокин</td>\n",
       "      <td></td>\n",
       "      <td>659.0</td>\n",
       "      <td>https://www.bgshop.ru//Catalog/GetFullDescript...</td>\n",
       "    </tr>\n",
       "    <tr>\n",
       "      <th>One Two Three Four. \"Битлз\" в ритме времени</th>\n",
       "      <td>\\r\\nКрейг Браун</td>\n",
       "      <td>в наличии</td>\n",
       "      <td>895.0</td>\n",
       "      <td>https://www.bgshop.ru//Catalog/GetFullDescript...</td>\n",
       "    </tr>\n",
       "    <tr>\n",
       "      <th>Древний. Предыстория. Книга восьмая. Предрассветный мрак</th>\n",
       "      <td>\\r\\nСергей Сергеевич Тармашев</td>\n",
       "      <td></td>\n",
       "      <td>659.0</td>\n",
       "      <td>https://www.bgshop.ru//Catalog/GetFullDescript...</td>\n",
       "    </tr>\n",
       "    <tr>\n",
       "      <th>Скринлайф: В поисках нового языка кино</th>\n",
       "      <td>\\r\\nБекмамбетов Т.</td>\n",
       "      <td>в наличии</td>\n",
       "      <td>496.0</td>\n",
       "      <td>https://www.bgshop.ru//Catalog/GetFullDescript...</td>\n",
       "    </tr>\n",
       "    <tr>\n",
       "      <th>Кулинарная книга Гарри Поттера. Иллюстрированное неофициальное издание</th>\n",
       "      <td>\\r\\nТом Гримм</td>\n",
       "      <td>в наличии</td>\n",
       "      <td>1269.0</td>\n",
       "      <td>https://www.bgshop.ru//Catalog/GetFullDescript...</td>\n",
       "    </tr>\n",
       "    <tr>\n",
       "      <th>Принципы и парадоксы.25 лет Студии Артемия Лебедева</th>\n",
       "      <td>\\n</td>\n",
       "      <td>в наличии</td>\n",
       "      <td>3324.0</td>\n",
       "      <td>https://www.bgshop.ru//Catalog/GetFullDescript...</td>\n",
       "    </tr>\n",
       "    <tr>\n",
       "      <th>Художница из Джайпура</th>\n",
       "      <td>\\r\\nАлка Джоши</td>\n",
       "      <td>в наличии</td>\n",
       "      <td>689.0</td>\n",
       "      <td>https://www.bgshop.ru//Catalog/GetFullDescript...</td>\n",
       "    </tr>\n",
       "    <tr>\n",
       "      <th>Принцесса на всю голову. Почему мы влюбляемся в сказочных дураков</th>\n",
       "      <td>\\r\\nНаталья Краснова</td>\n",
       "      <td></td>\n",
       "      <td>629.0</td>\n",
       "      <td>https://www.bgshop.ru//Catalog/GetFullDescript...</td>\n",
       "    </tr>\n",
       "    <tr>\n",
       "      <th>Вокруг хлеба и сыра. Домашний творог, мацони, рикотта, брынза и сырники в компании с пряной сдобой, питой и лепешками.</th>\n",
       "      <td>\\r\\nАся Чудновская</td>\n",
       "      <td>в наличии</td>\n",
       "      <td>895.0</td>\n",
       "      <td>https://www.bgshop.ru//Catalog/GetFullDescript...</td>\n",
       "    </tr>\n",
       "    <tr>\n",
       "      <th>Вкусные мечты. Чизкейки, пирожные, банкейки и невероятные торты.</th>\n",
       "      <td>\\r\\nМария Белая</td>\n",
       "      <td>в наличии</td>\n",
       "      <td>790.0</td>\n",
       "      <td>https://www.bgshop.ru//Catalog/GetFullDescript...</td>\n",
       "    </tr>\n",
       "    <tr>\n",
       "      <th>Once Upon a Time in Hollywood</th>\n",
       "      <td>\\r\\nTarantino, Quentin</td>\n",
       "      <td></td>\n",
       "      <td>1149.0</td>\n",
       "      <td>https://www.bgshop.ru//Catalog/GetFullDescript...</td>\n",
       "    </tr>\n",
       "    <tr>\n",
       "      <th>Искусство XX века. Ключи к пониманию. События, художники, эксперименты</th>\n",
       "      <td>\\r\\nАлина Сергеевна Аксенова</td>\n",
       "      <td>в наличии</td>\n",
       "      <td>659.0</td>\n",
       "      <td>https://www.bgshop.ru//Catalog/GetFullDescript...</td>\n",
       "    </tr>\n",
       "    <tr>\n",
       "      <th>Четыре ветра</th>\n",
       "      <td>\\r\\nКристин Ханна</td>\n",
       "      <td>в наличии</td>\n",
       "      <td>538.0</td>\n",
       "      <td>https://www.bgshop.ru//Catalog/GetFullDescript...</td>\n",
       "    </tr>\n",
       "    <tr>\n",
       "      <th>Совдетство</th>\n",
       "      <td>\\r\\nЮрий Михайлович Поляков</td>\n",
       "      <td>в наличии</td>\n",
       "      <td>461.0</td>\n",
       "      <td>https://www.bgshop.ru//Catalog/GetFullDescript...</td>\n",
       "    </tr>\n",
       "    <tr>\n",
       "      <th>Общага-на-Крови (Кинообложка)</th>\n",
       "      <td>\\r\\nАлексей Иванов</td>\n",
       "      <td>в наличии</td>\n",
       "      <td>454.0</td>\n",
       "      <td>https://www.bgshop.ru//Catalog/GetFullDescript...</td>\n",
       "    </tr>\n",
       "    <tr>\n",
       "      <th>Миофасциальный релиз: эффективные методики растяжения мышц и фасций для предупреждения травм и избавления от хронических болей</th>\n",
       "      <td>\\r\\nВиталий Александрович Епифанов</td>\n",
       "      <td>в наличии</td>\n",
       "      <td>1059.0</td>\n",
       "      <td>https://www.bgshop.ru//Catalog/GetFullDescript...</td>\n",
       "    </tr>\n",
       "    <tr>\n",
       "      <th>Золотой жук мисс Бенсон</th>\n",
       "      <td>\\r\\nPейчел Джойс</td>\n",
       "      <td>в наличии</td>\n",
       "      <td>609.0</td>\n",
       "      <td>https://www.bgshop.ru//Catalog/GetFullDescript...</td>\n",
       "    </tr>\n",
       "    <tr>\n",
       "      <th>Сороки-убийцы</th>\n",
       "      <td>\\r\\nЭнтони Горовиц</td>\n",
       "      <td>в наличии</td>\n",
       "      <td>468.0</td>\n",
       "      <td>https://www.bgshop.ru//Catalog/GetFullDescript...</td>\n",
       "    </tr>\n",
       "    <tr>\n",
       "      <th>Клуб убийств по четвергам</th>\n",
       "      <td>\\r\\nРичард Осман</td>\n",
       "      <td></td>\n",
       "      <td>729.0</td>\n",
       "      <td>https://www.bgshop.ru//Catalog/GetFullDescript...</td>\n",
       "    </tr>\n",
       "    <tr>\n",
       "      <th>Дюна</th>\n",
       "      <td>\\r\\nФрэнк Герберт</td>\n",
       "      <td></td>\n",
       "      <td>659.0</td>\n",
       "      <td>https://www.bgshop.ru//Catalog/GetFullDescript...</td>\n",
       "    </tr>\n",
       "    <tr>\n",
       "      <th>Перевод с подстрочника</th>\n",
       "      <td>\\r\\nЕвгений Чижов</td>\n",
       "      <td>в наличии</td>\n",
       "      <td>503.0</td>\n",
       "      <td>https://www.bgshop.ru//Catalog/GetFullDescript...</td>\n",
       "    </tr>\n",
       "    <tr>\n",
       "      <th>Жизнь сквозь смех. Реальная история нереальной женщины</th>\n",
       "      <td>\\r\\nМарина Гавриловна Федункив</td>\n",
       "      <td>в наличии</td>\n",
       "      <td>391.0</td>\n",
       "      <td>https://www.bgshop.ru//Catalog/GetFullDescript...</td>\n",
       "    </tr>\n",
       "    <tr>\n",
       "      <th>Все ее удовольствия</th>\n",
       "      <td>\\r\\nРинат Валиуллин</td>\n",
       "      <td>в наличии</td>\n",
       "      <td>335.0</td>\n",
       "      <td>https://www.bgshop.ru//Catalog/GetFullDescript...</td>\n",
       "    </tr>\n",
       "    <tr>\n",
       "      <th>Вельш-корги-пемброк</th>\n",
       "      <td>\\r\\nШилова О.Б.</td>\n",
       "      <td>в наличии</td>\n",
       "      <td>853.0</td>\n",
       "      <td>https://www.bgshop.ru//Catalog/GetFullDescript...</td>\n",
       "    </tr>\n",
       "    <tr>\n",
       "      <th>Брать, давать и наслаждаться. Как оставаться в ресурсе, что бы с вами ни происходило</th>\n",
       "      <td>\\r\\nТатьяна Владимировна Мужицкая</td>\n",
       "      <td>в наличии</td>\n",
       "      <td>859.0</td>\n",
       "      <td>https://www.bgshop.ru//Catalog/GetFullDescript...</td>\n",
       "    </tr>\n",
       "    <tr>\n",
       "      <th>Блюстители</th>\n",
       "      <td>\\r\\nДжон Гришэм</td>\n",
       "      <td>в наличии</td>\n",
       "      <td>391.0</td>\n",
       "      <td>https://www.bgshop.ru//Catalog/GetFullDescript...</td>\n",
       "    </tr>\n",
       "  </tbody>\n",
       "</table>\n",
       "</div>"
      ],
      "text/plain": [
       "                                                                                              Автор  \\\n",
       "Вся твоя ложь                                                              \\r\\nТайс Г.                \n",
       "Преступления любви                                                  \\r\\nМаркиз  де Сад                \n",
       "Кровь и мёд                                                          \\r\\nШелби Махёрин                \n",
       "ВДНХ. Мечта о прекрасном, несбыточном. Живая ис...                 \\r\\nПанкратов Г. В.                \n",
       "Вселенная Хаяо Миядзаки. Картины великого анима...                    \\r\\nГаэль Бертон                \n",
       "Сумерки хищников                                                         \\r\\nМарк Леви                \n",
       "Порог                                                                     \\r\\nОлег Рой                \n",
       "Двойной контроль                                                  \\r\\nЭдвард Сент-Обин                \n",
       "Рождественский Поросёнок                                             \\r\\nРоулинг Дж.К.                \n",
       "Вакцинация. Спасение человечества или всеобщая ...              \\r\\nВалентин Катасонов                \n",
       "Сердца четырех                                                    \\r\\nВладимир Сорокин                \n",
       "One Two Three Four. \"Битлз\" в ритме времени                            \\r\\nКрейг Браун                \n",
       "Древний. Предыстория. Книга восьмая. Предрассве...       \\r\\nСергей Сергеевич Тармашев                \n",
       "Скринлайф: В поисках нового языка кино                              \\r\\nБекмамбетов Т.                \n",
       "Кулинарная книга Гарри Поттера. Иллюстрированно...                       \\r\\nТом Гримм                \n",
       "Принципы и парадоксы.25 лет Студии Артемия Лебе...                                               \\n   \n",
       "Художница из Джайпура                                                   \\r\\nАлка Джоши                \n",
       "Принцесса на всю голову. Почему мы влюбляемся в...                \\r\\nНаталья Краснова                \n",
       "Вокруг хлеба и сыра. Домашний творог, мацони, р...                  \\r\\nАся Чудновская                \n",
       "Вкусные мечты. Чизкейки, пирожные, банкейки и н...                     \\r\\nМария Белая                \n",
       "Once Upon a Time in Hollywood                                   \\r\\nTarantino, Quentin                \n",
       "Искусство XX века. Ключи к пониманию. События, ...        \\r\\nАлина Сергеевна Аксенова                \n",
       "Четыре ветра                                                         \\r\\nКристин Ханна                \n",
       "Совдетство                                                 \\r\\nЮрий Михайлович Поляков                \n",
       "Общага-на-Крови (Кинообложка)                                       \\r\\nАлексей Иванов                \n",
       "Миофасциальный релиз: эффективные методики раст...  \\r\\nВиталий Александрович Епифанов                \n",
       "Золотой жук мисс Бенсон                                               \\r\\nPейчел Джойс                \n",
       "Сороки-убийцы                                                       \\r\\nЭнтони Горовиц                \n",
       "Клуб убийств по четвергам                                             \\r\\nРичард Осман                \n",
       "Дюна                                                                 \\r\\nФрэнк Герберт                \n",
       "Перевод с подстрочника                                               \\r\\nЕвгений Чижов                \n",
       "Жизнь сквозь смех. Реальная история нереальной ...      \\r\\nМарина Гавриловна Федункив                \n",
       "Все ее удовольствия                                                \\r\\nРинат Валиуллин                \n",
       "Вельш-корги-пемброк                                                    \\r\\nШилова О.Б.                \n",
       "Брать, давать и наслаждаться. Как оставаться в ...   \\r\\nТатьяна Владимировна Мужицкая                \n",
       "Блюстители                                                             \\r\\nДжон Гришэм                \n",
       "\n",
       "                                                       Статус    Цена  \\\n",
       "Вся твоя ложь                                       в наличии   510.0   \n",
       "Преступления любви                                  в наличии   454.0   \n",
       "Кровь и мёд                                         в наличии   503.0   \n",
       "ВДНХ. Мечта о прекрасном, несбыточном. Живая ис...  в наличии   713.0   \n",
       "Вселенная Хаяо Миядзаки. Картины великого анима...  в наличии   759.0   \n",
       "Сумерки хищников                                    в наличии   369.0   \n",
       "Порог                                               в наличии   573.0   \n",
       "Двойной контроль                                    в наличии   468.0   \n",
       "Рождественский Поросёнок                            в наличии   583.0   \n",
       "Вакцинация. Спасение человечества или всеобщая ...             1059.0   \n",
       "Сердца четырех                                                  659.0   \n",
       "One Two Three Four. \"Битлз\" в ритме времени         в наличии   895.0   \n",
       "Древний. Предыстория. Книга восьмая. Предрассве...              659.0   \n",
       "Скринлайф: В поисках нового языка кино              в наличии   496.0   \n",
       "Кулинарная книга Гарри Поттера. Иллюстрированно...  в наличии  1269.0   \n",
       "Принципы и парадоксы.25 лет Студии Артемия Лебе...  в наличии  3324.0   \n",
       "Художница из Джайпура                               в наличии   689.0   \n",
       "Принцесса на всю голову. Почему мы влюбляемся в...              629.0   \n",
       "Вокруг хлеба и сыра. Домашний творог, мацони, р...  в наличии   895.0   \n",
       "Вкусные мечты. Чизкейки, пирожные, банкейки и н...  в наличии   790.0   \n",
       "Once Upon a Time in Hollywood                                  1149.0   \n",
       "Искусство XX века. Ключи к пониманию. События, ...  в наличии   659.0   \n",
       "Четыре ветра                                        в наличии   538.0   \n",
       "Совдетство                                          в наличии   461.0   \n",
       "Общага-на-Крови (Кинообложка)                       в наличии   454.0   \n",
       "Миофасциальный релиз: эффективные методики раст...  в наличии  1059.0   \n",
       "Золотой жук мисс Бенсон                             в наличии   609.0   \n",
       "Сороки-убийцы                                       в наличии   468.0   \n",
       "Клуб убийств по четвергам                                       729.0   \n",
       "Дюна                                                            659.0   \n",
       "Перевод с подстрочника                              в наличии   503.0   \n",
       "Жизнь сквозь смех. Реальная история нереальной ...  в наличии   391.0   \n",
       "Все ее удовольствия                                 в наличии   335.0   \n",
       "Вельш-корги-пемброк                                 в наличии   853.0   \n",
       "Брать, давать и наслаждаться. Как оставаться в ...  в наличии   859.0   \n",
       "Блюстители                                          в наличии   391.0   \n",
       "\n",
       "                                                                                               Ссылка  \n",
       "Вся твоя ложь                                       https://www.bgshop.ru//Catalog/GetFullDescript...  \n",
       "Преступления любви                                  https://www.bgshop.ru//Catalog/GetFullDescript...  \n",
       "Кровь и мёд                                         https://www.bgshop.ru//Catalog/GetFullDescript...  \n",
       "ВДНХ. Мечта о прекрасном, несбыточном. Живая ис...  https://www.bgshop.ru//Catalog/GetFullDescript...  \n",
       "Вселенная Хаяо Миядзаки. Картины великого анима...  https://www.bgshop.ru//Catalog/GetFullDescript...  \n",
       "Сумерки хищников                                    https://www.bgshop.ru//Catalog/GetFullDescript...  \n",
       "Порог                                               https://www.bgshop.ru//Catalog/GetFullDescript...  \n",
       "Двойной контроль                                    https://www.bgshop.ru//Catalog/GetFullDescript...  \n",
       "Рождественский Поросёнок                            https://www.bgshop.ru//Catalog/GetFullDescript...  \n",
       "Вакцинация. Спасение человечества или всеобщая ...  https://www.bgshop.ru//Catalog/GetFullDescript...  \n",
       "Сердца четырех                                      https://www.bgshop.ru//Catalog/GetFullDescript...  \n",
       "One Two Three Four. \"Битлз\" в ритме времени         https://www.bgshop.ru//Catalog/GetFullDescript...  \n",
       "Древний. Предыстория. Книга восьмая. Предрассве...  https://www.bgshop.ru//Catalog/GetFullDescript...  \n",
       "Скринлайф: В поисках нового языка кино              https://www.bgshop.ru//Catalog/GetFullDescript...  \n",
       "Кулинарная книга Гарри Поттера. Иллюстрированно...  https://www.bgshop.ru//Catalog/GetFullDescript...  \n",
       "Принципы и парадоксы.25 лет Студии Артемия Лебе...  https://www.bgshop.ru//Catalog/GetFullDescript...  \n",
       "Художница из Джайпура                               https://www.bgshop.ru//Catalog/GetFullDescript...  \n",
       "Принцесса на всю голову. Почему мы влюбляемся в...  https://www.bgshop.ru//Catalog/GetFullDescript...  \n",
       "Вокруг хлеба и сыра. Домашний творог, мацони, р...  https://www.bgshop.ru//Catalog/GetFullDescript...  \n",
       "Вкусные мечты. Чизкейки, пирожные, банкейки и н...  https://www.bgshop.ru//Catalog/GetFullDescript...  \n",
       "Once Upon a Time in Hollywood                       https://www.bgshop.ru//Catalog/GetFullDescript...  \n",
       "Искусство XX века. Ключи к пониманию. События, ...  https://www.bgshop.ru//Catalog/GetFullDescript...  \n",
       "Четыре ветра                                        https://www.bgshop.ru//Catalog/GetFullDescript...  \n",
       "Совдетство                                          https://www.bgshop.ru//Catalog/GetFullDescript...  \n",
       "Общага-на-Крови (Кинообложка)                       https://www.bgshop.ru//Catalog/GetFullDescript...  \n",
       "Миофасциальный релиз: эффективные методики раст...  https://www.bgshop.ru//Catalog/GetFullDescript...  \n",
       "Золотой жук мисс Бенсон                             https://www.bgshop.ru//Catalog/GetFullDescript...  \n",
       "Сороки-убийцы                                       https://www.bgshop.ru//Catalog/GetFullDescript...  \n",
       "Клуб убийств по четвергам                           https://www.bgshop.ru//Catalog/GetFullDescript...  \n",
       "Дюна                                                https://www.bgshop.ru//Catalog/GetFullDescript...  \n",
       "Перевод с подстрочника                              https://www.bgshop.ru//Catalog/GetFullDescript...  \n",
       "Жизнь сквозь смех. Реальная история нереальной ...  https://www.bgshop.ru//Catalog/GetFullDescript...  \n",
       "Все ее удовольствия                                 https://www.bgshop.ru//Catalog/GetFullDescript...  \n",
       "Вельш-корги-пемброк                                 https://www.bgshop.ru//Catalog/GetFullDescript...  \n",
       "Брать, давать и наслаждаться. Как оставаться в ...  https://www.bgshop.ru//Catalog/GetFullDescript...  \n",
       "Блюстители                                          https://www.bgshop.ru//Catalog/GetFullDescript...  "
      ]
     },
     "execution_count": 109,
     "metadata": {},
     "output_type": "execute_result"
    }
   ],
   "source": [
    "df = pd.DataFrame(books, index = ['Автор', 'Статус', 'Цена', 'Ссылка']).transpose()\n",
    "df"
   ]
  },
  {
   "cell_type": "markdown",
   "metadata": {},
   "source": [
    "## Задание 4\n",
    "\n",
    "Дана ссылка на [сайт газеты \"Московский комсомолец\"](https://www.mk.ru/news/). Соберите ссылки на новости первой страницы, время публикации, заголовок. Пройдите по ссылкам и соберите количество просмотров и хэштеги статьи. "
   ]
  },
  {
   "cell_type": "code",
   "execution_count": 110,
   "metadata": {},
   "outputs": [],
   "source": [
    "url = 'https://www.mk.ru/news/'\n",
    "page = requests.get(url)\n",
    "soup = BeautifulSoup(page.text)"
   ]
  },
  {
   "cell_type": "code",
   "execution_count": 111,
   "metadata": {},
   "outputs": [
    {
     "data": {
      "text/plain": [
       "<li class=\"news-listing__item\">\n",
       "<a class=\"news-listing__item-link\" href=\"https://www.mk.ru/moscow/2021/10/19/v-moskve-predupredili-o-nepoladkakh-servisa-oplaty-parkovki.html\">\n",
       "<span class=\"news-listing__item-time\">20:31</span>\n",
       "<h3 class=\"news-listing__item-title\">В Москве предупредили о неполадках сервиса оплаты парковки</h3>\n",
       "</a>\n",
       "</li>"
      ]
     },
     "execution_count": 111,
     "metadata": {},
     "output_type": "execute_result"
    }
   ],
   "source": [
    "soup.find_all('li', {'class':'news-listing__item'})[0]"
   ]
  },
  {
   "cell_type": "code",
   "execution_count": 112,
   "metadata": {},
   "outputs": [
    {
     "data": {
      "text/plain": [
       "'https://www.mk.ru/moscow/2021/10/19/v-moskve-predupredili-o-nepoladkakh-servisa-oplaty-parkovki.html'"
      ]
     },
     "execution_count": 112,
     "metadata": {},
     "output_type": "execute_result"
    }
   ],
   "source": [
    "url0 = soup.find_all('li', {'class':'news-listing__item'})[0].find('a').get('href')\n",
    "url0"
   ]
  },
  {
   "cell_type": "code",
   "execution_count": 113,
   "metadata": {},
   "outputs": [
    {
     "data": {
      "text/plain": [
       "'20:31'"
      ]
     },
     "execution_count": 113,
     "metadata": {},
     "output_type": "execute_result"
    }
   ],
   "source": [
    "time = soup.find_all('li', {'class':'news-listing__item'})[0].find('span').text\n",
    "time"
   ]
  },
  {
   "cell_type": "code",
   "execution_count": 114,
   "metadata": {},
   "outputs": [
    {
     "data": {
      "text/plain": [
       "'В Москве предупредили о неполадках сервиса оплаты парковки'"
      ]
     },
     "execution_count": 114,
     "metadata": {},
     "output_type": "execute_result"
    }
   ],
   "source": [
    "title = soup.find_all('li', {'class':'news-listing__item'})[0].find('h3').text\n",
    "title"
   ]
  },
  {
   "cell_type": "code",
   "execution_count": 115,
   "metadata": {},
   "outputs": [],
   "source": [
    "page0 = requests.get(url0)\n",
    "soup0 = BeautifulSoup(page0.text)"
   ]
  },
  {
   "cell_type": "code",
   "execution_count": 116,
   "metadata": {},
   "outputs": [
    {
     "data": {
      "text/plain": [
       "'369'"
      ]
     },
     "execution_count": 116,
     "metadata": {},
     "output_type": "execute_result"
    }
   ],
   "source": [
    "soup0.find_all('span', {'class':'meta__item_views'})[0].text.strip()"
   ]
  },
  {
   "cell_type": "code",
   "execution_count": 117,
   "metadata": {},
   "outputs": [
    {
     "data": {
      "text/plain": [
       "'\\nМосква\\nАвто \\n'"
      ]
     },
     "execution_count": 117,
     "metadata": {},
     "output_type": "execute_result"
    }
   ],
   "source": [
    "soup0.find('div', {'class':'article__tag'}).text"
   ]
  },
  {
   "cell_type": "code",
   "execution_count": 118,
   "metadata": {},
   "outputs": [
    {
     "data": {
      "text/plain": [
       "['Москва', 'Авто ']"
      ]
     },
     "execution_count": 118,
     "metadata": {},
     "output_type": "execute_result"
    }
   ],
   "source": [
    "re.findall(r'[^\\n]+', soup0.find('div', {'class':'article__tag'}).text)"
   ]
  },
  {
   "cell_type": "code",
   "execution_count": 119,
   "metadata": {},
   "outputs": [],
   "source": [
    "news = {}\n",
    "for i in soup.find_all('li', {'class':'news-listing__item'}):\n",
    "    url0 = i.find('a').get('href')\n",
    "    time = i.find('span').text\n",
    "    title = i.find('h3').text\n",
    "    \n",
    "    page0 = requests.get(url0)\n",
    "    soup0 = BeautifulSoup(page0.text)\n",
    "    sleep(1)\n",
    "    \n",
    "    view = int(soup0.find_all('span', {'class':'meta__item_views'})[0].text.strip())\n",
    "    \n",
    "    if soup0.find('div', {'class':'article__tag'}) is None:\n",
    "        tags = ''\n",
    "    else:\n",
    "        tags = ', '.join(re.findall(r'[^\\n]+', soup0.find('div', {'class':'article__tag'}).text))\n",
    "        \n",
    "    news[title] = [url0, time, view, tags]"
   ]
  },
  {
   "cell_type": "code",
   "execution_count": 120,
   "metadata": {},
   "outputs": [
    {
     "data": {
      "text/html": [
       "<div>\n",
       "<style scoped>\n",
       "    .dataframe tbody tr th:only-of-type {\n",
       "        vertical-align: middle;\n",
       "    }\n",
       "\n",
       "    .dataframe tbody tr th {\n",
       "        vertical-align: top;\n",
       "    }\n",
       "\n",
       "    .dataframe thead th {\n",
       "        text-align: right;\n",
       "    }\n",
       "</style>\n",
       "<table border=\"1\" class=\"dataframe\">\n",
       "  <thead>\n",
       "    <tr style=\"text-align: right;\">\n",
       "      <th></th>\n",
       "      <th>Ссылка</th>\n",
       "      <th>Время</th>\n",
       "      <th>Просмотры</th>\n",
       "      <th>Теги</th>\n",
       "    </tr>\n",
       "  </thead>\n",
       "  <tbody>\n",
       "    <tr>\n",
       "      <th>В Москве предупредили о неполадках сервиса оплаты парковки</th>\n",
       "      <td>https://www.mk.ru/moscow/2021/10/19/v-moskve-p...</td>\n",
       "      <td>20:31</td>\n",
       "      <td>369</td>\n",
       "      <td>Москва, Авто</td>\n",
       "    </tr>\n",
       "    <tr>\n",
       "      <th>Луганская девочка пожаловалась в ООН на давление сайта «Миротворец»</th>\n",
       "      <td>https://www.mk.ru/politics/2021/10/19/luganska...</td>\n",
       "      <td>20:29</td>\n",
       "      <td>648</td>\n",
       "      <td>ООН, Украина, Донбасс, Луганск</td>\n",
       "    </tr>\n",
       "    <tr>\n",
       "      <th>В США самолет с пассажирами рассыпался при взлете</th>\n",
       "      <td>https://www.mk.ru/incident/2021/10/19/v-ssha-s...</td>\n",
       "      <td>20:26</td>\n",
       "      <td>2533</td>\n",
       "      <td>США</td>\n",
       "    </tr>\n",
       "    <tr>\n",
       "      <th>Дайвер нашел 900-летний меч крестоносцев у берегов Израиля</th>\n",
       "      <td>https://www.mk.ru/culture/2021/10/19/dayver-na...</td>\n",
       "      <td>20:13</td>\n",
       "      <td>995</td>\n",
       "      <td>Израиль, Тель-Авив</td>\n",
       "    </tr>\n",
       "    <tr>\n",
       "      <th>Представитель Дерипаски: обыскиваемые в США дома принадлежат родственникам бизнесмена</th>\n",
       "      <td>https://www.mk.ru/social/2021/10/19/predstavit...</td>\n",
       "      <td>20:02</td>\n",
       "      <td>1292</td>\n",
       "      <td>Министерство юстиции, Олег Дерипаска, США, Ваш...</td>\n",
       "    </tr>\n",
       "    <tr>\n",
       "      <th>...</th>\n",
       "      <td>...</td>\n",
       "      <td>...</td>\n",
       "      <td>...</td>\n",
       "      <td>...</td>\n",
       "    </tr>\n",
       "    <tr>\n",
       "      <th>Вертолет Ми-8 с пассажирами экстренно сел на Таймыре</th>\n",
       "      <td>https://www.mk.ru/incident/2021/10/19/vertolet...</td>\n",
       "      <td>10:59</td>\n",
       "      <td>1047</td>\n",
       "      <td>МЧС, Красноярск</td>\n",
       "    </tr>\n",
       "    <tr>\n",
       "      <th>Старшего брата убитой в Вологде девочки забрали из семьи</th>\n",
       "      <td>https://www.mk.ru/incident/2021/10/19/starsheg...</td>\n",
       "      <td>10:58</td>\n",
       "      <td>4023</td>\n",
       "      <td>ВКонтакте, Вологда, Карелия</td>\n",
       "    </tr>\n",
       "    <tr>\n",
       "      <th>Глава Group-IB Сачков пожаловался на условия в СИЗО: запретили переписку</th>\n",
       "      <td>https://www.mk.ru/politics/2021/10/19/glava-gr...</td>\n",
       "      <td>10:52</td>\n",
       "      <td>1340</td>\n",
       "      <td>Россия</td>\n",
       "    </tr>\n",
       "    <tr>\n",
       "      <th>Кабмин дополнительно выделил больше 28 млрд рублей семьям с детьми</th>\n",
       "      <td>https://www.mk.ru/economics/2021/10/19/kabmin-...</td>\n",
       "      <td>10:44</td>\n",
       "      <td>1295</td>\n",
       "      <td>Правительство РФ, Россия</td>\n",
       "    </tr>\n",
       "    <tr>\n",
       "      <th>В Крыму вводят обязательную вакцинацию для отдельных категорий граждан</th>\n",
       "      <td>https://www.mk.ru/social/2021/10/19/v-krymu-vv...</td>\n",
       "      <td>10:42</td>\n",
       "      <td>1286</td>\n",
       "      <td>Роспотребнадзор, Крым</td>\n",
       "    </tr>\n",
       "  </tbody>\n",
       "</table>\n",
       "<p>137 rows × 4 columns</p>\n",
       "</div>"
      ],
      "text/plain": [
       "                                                                                               Ссылка  \\\n",
       "В Москве предупредили о неполадках сервиса опла...  https://www.mk.ru/moscow/2021/10/19/v-moskve-p...   \n",
       "Луганская девочка пожаловалась в ООН на давлени...  https://www.mk.ru/politics/2021/10/19/luganska...   \n",
       "В США самолет с пассажирами рассыпался при взлете   https://www.mk.ru/incident/2021/10/19/v-ssha-s...   \n",
       "Дайвер нашел 900-летний меч крестоносцев у бере...  https://www.mk.ru/culture/2021/10/19/dayver-na...   \n",
       "Представитель Дерипаски: обыскиваемые в США дом...  https://www.mk.ru/social/2021/10/19/predstavit...   \n",
       "...                                                                                               ...   \n",
       "Вертолет Ми-8 с пассажирами экстренно сел на Та...  https://www.mk.ru/incident/2021/10/19/vertolet...   \n",
       "Старшего брата убитой в Вологде девочки забрали...  https://www.mk.ru/incident/2021/10/19/starsheg...   \n",
       "Глава Group-IB Сачков пожаловался на условия в ...  https://www.mk.ru/politics/2021/10/19/glava-gr...   \n",
       "Кабмин дополнительно выделил больше 28 млрд руб...  https://www.mk.ru/economics/2021/10/19/kabmin-...   \n",
       "В Крыму вводят обязательную вакцинацию для отде...  https://www.mk.ru/social/2021/10/19/v-krymu-vv...   \n",
       "\n",
       "                                                    Время  Просмотры  \\\n",
       "В Москве предупредили о неполадках сервиса опла...  20:31        369   \n",
       "Луганская девочка пожаловалась в ООН на давлени...  20:29        648   \n",
       "В США самолет с пассажирами рассыпался при взлете   20:26       2533   \n",
       "Дайвер нашел 900-летний меч крестоносцев у бере...  20:13        995   \n",
       "Представитель Дерипаски: обыскиваемые в США дом...  20:02       1292   \n",
       "...                                                   ...        ...   \n",
       "Вертолет Ми-8 с пассажирами экстренно сел на Та...  10:59       1047   \n",
       "Старшего брата убитой в Вологде девочки забрали...  10:58       4023   \n",
       "Глава Group-IB Сачков пожаловался на условия в ...  10:52       1340   \n",
       "Кабмин дополнительно выделил больше 28 млрд руб...  10:44       1295   \n",
       "В Крыму вводят обязательную вакцинацию для отде...  10:42       1286   \n",
       "\n",
       "                                                                                                 Теги  \n",
       "В Москве предупредили о неполадках сервиса опла...                                      Москва, Авто   \n",
       "Луганская девочка пожаловалась в ООН на давлени...                     ООН, Украина, Донбасс, Луганск  \n",
       "В США самолет с пассажирами рассыпался при взлете                                                 США  \n",
       "Дайвер нашел 900-летний меч крестоносцев у бере...                                 Израиль, Тель-Авив  \n",
       "Представитель Дерипаски: обыскиваемые в США дом...  Министерство юстиции, Олег Дерипаска, США, Ваш...  \n",
       "...                                                                                               ...  \n",
       "Вертолет Ми-8 с пассажирами экстренно сел на Та...                                    МЧС, Красноярск  \n",
       "Старшего брата убитой в Вологде девочки забрали...                        ВКонтакте, Вологда, Карелия  \n",
       "Глава Group-IB Сачков пожаловался на условия в ...                                             Россия  \n",
       "Кабмин дополнительно выделил больше 28 млрд руб...                           Правительство РФ, Россия  \n",
       "В Крыму вводят обязательную вакцинацию для отде...                              Роспотребнадзор, Крым  \n",
       "\n",
       "[137 rows x 4 columns]"
      ]
     },
     "execution_count": 120,
     "metadata": {},
     "output_type": "execute_result"
    }
   ],
   "source": [
    "# можно также сразу указывать, что у нас данные из словаря, orient='index' вместо transpose()\n",
    "df = pd.DataFrame.from_dict(news, orient='index', columns = ['Ссылка','Время','Просмотры','Теги'])\n",
    "df"
   ]
  },
  {
   "cell_type": "code",
   "execution_count": null,
   "metadata": {},
   "outputs": [],
   "source": []
  },
  {
   "cell_type": "code",
   "execution_count": null,
   "metadata": {},
   "outputs": [],
   "source": []
  }
 ],
 "metadata": {
  "kernelspec": {
   "display_name": "Python 3",
   "language": "python",
   "name": "python3"
  },
  "language_info": {
   "codemirror_mode": {
    "name": "ipython",
    "version": 3
   },
   "file_extension": ".py",
   "mimetype": "text/x-python",
   "name": "python",
   "nbconvert_exporter": "python",
   "pygments_lexer": "ipython3",
   "version": "3.8.5"
  },
  "toc": {
   "base_numbering": 1,
   "nav_menu": {},
   "number_sections": true,
   "sideBar": true,
   "skip_h1_title": false,
   "title_cell": "Table of Contents",
   "title_sidebar": "Contents",
   "toc_cell": false,
   "toc_position": {},
   "toc_section_display": true,
   "toc_window_display": false
  },
  "varInspector": {
   "cols": {
    "lenName": 16,
    "lenType": 16,
    "lenVar": 40
   },
   "kernels_config": {
    "python": {
     "delete_cmd_postfix": "",
     "delete_cmd_prefix": "del ",
     "library": "var_list.py",
     "varRefreshCmd": "print(var_dic_list())"
    },
    "r": {
     "delete_cmd_postfix": ") ",
     "delete_cmd_prefix": "rm(",
     "library": "var_list.r",
     "varRefreshCmd": "cat(var_dic_list()) "
    }
   },
   "types_to_exclude": [
    "module",
    "function",
    "builtin_function_or_method",
    "instance",
    "_Feature"
   ],
   "window_display": false
  }
 },
 "nbformat": 4,
 "nbformat_minor": 4
}
