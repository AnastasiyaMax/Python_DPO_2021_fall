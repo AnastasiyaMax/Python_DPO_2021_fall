{
 "cells": [
  {
   "cell_type": "markdown",
   "metadata": {},
   "source": [
    "# Парсинг, практика\n",
    "\n",
    "*Анастасия Паршина, НИУ ВШЭ*"
   ]
  },
  {
   "cell_type": "code",
   "execution_count": 36,
   "metadata": {},
   "outputs": [],
   "source": [
    "import requests\n",
    "from bs4 import BeautifulSoup\n",
    "import pandas as pd\n",
    "import re\n",
    "from time import sleep"
   ]
  },
  {
   "cell_type": "markdown",
   "metadata": {},
   "source": [
    "## Задание 1\n",
    "\n",
    "Дана ссылка на сайт [IMDb](https://www.imdb.com/calendar/?ref_=nv_mv_cal). Сохраните название и ссылки всех фильмов на странице. "
   ]
  },
  {
   "cell_type": "code",
   "execution_count": 2,
   "metadata": {},
   "outputs": [
    {
     "name": "stdout",
     "output_type": "stream",
     "text": [
      "https://www.imdb.com/calendar/?ref_=nv_mv_cal\n"
     ]
    }
   ],
   "source": [
    "url = 'https://www.imdb.com/calendar/?ref_=nv_mv_cal'\n",
    "print(url)"
   ]
  },
  {
   "cell_type": "code",
   "execution_count": 3,
   "metadata": {},
   "outputs": [
    {
     "data": {
      "text/plain": [
       "200"
      ]
     },
     "execution_count": 3,
     "metadata": {},
     "output_type": "execute_result"
    }
   ],
   "source": [
    "page = requests.get(url)\n",
    "page.status_code # 200 - все хорошо"
   ]
  },
  {
   "cell_type": "code",
   "execution_count": 4,
   "metadata": {},
   "outputs": [],
   "source": [
    "soup = BeautifulSoup(page.text)\n",
    "#soup"
   ]
  },
  {
   "cell_type": "code",
   "execution_count": 5,
   "metadata": {},
   "outputs": [
    {
     "data": {
      "text/plain": [
       "[<h4>19 October 2021</h4>,\n",
       " <h4>22 October 2021</h4>,\n",
       " <h4>29 October 2021</h4>,\n",
       " <h4>03 November 2021</h4>,\n",
       " <h4>05 November 2021</h4>,\n",
       " <h4>10 November 2021</h4>,\n",
       " <h4>12 November 2021</h4>,\n",
       " <h4>19 November 2021</h4>,\n",
       " <h4>24 November 2021</h4>,\n",
       " <h4>26 November 2021</h4>,\n",
       " <h4>03 December 2021</h4>,\n",
       " <h4>10 December 2021</h4>,\n",
       " <h4>17 December 2021</h4>,\n",
       " <h4>22 December 2021</h4>,\n",
       " <h4>25 December 2021</h4>,\n",
       " <h4>07 January 2022</h4>,\n",
       " <h4>14 January 2022</h4>,\n",
       " <h4>21 January 2022</h4>,\n",
       " <h4>28 January 2022</h4>,\n",
       " <h4>04 February 2022</h4>,\n",
       " <h4>11 February 2022</h4>,\n",
       " <h4>18 February 2022</h4>,\n",
       " <h4>04 March 2022</h4>,\n",
       " <h4>11 March 2022</h4>,\n",
       " <h4>18 March 2022</h4>,\n",
       " <h4>25 March 2022</h4>,\n",
       " <h4>08 April 2022</h4>,\n",
       " <h4>15 April 2022</h4>,\n",
       " <h4>22 April 2022</h4>,\n",
       " <h4>06 May 2022</h4>,\n",
       " <h4>20 May 2022</h4>,\n",
       " <h4>22 May 2022</h4>,\n",
       " <h4>27 May 2022</h4>,\n",
       " <h4>03 June 2022</h4>,\n",
       " <h4>10 June 2022</h4>,\n",
       " <h4>17 June 2022</h4>,\n",
       " <h4>24 June 2022</h4>,\n",
       " <h4>01 July 2022</h4>,\n",
       " <h4>08 July 2022</h4>,\n",
       " <h4>22 July 2022</h4>,\n",
       " <h4>29 July 2022</h4>,\n",
       " <h4>03 August 2022</h4>,\n",
       " <h4>12 August 2022</h4>,\n",
       " <h4>26 August 2022</h4>,\n",
       " <h4>09 September 2022</h4>,\n",
       " <h4>23 September 2022</h4>,\n",
       " <h4>30 September 2022</h4>,\n",
       " <h4>07 October 2022</h4>,\n",
       " <h4>14 October 2022</h4>]"
      ]
     },
     "execution_count": 5,
     "metadata": {},
     "output_type": "execute_result"
    }
   ],
   "source": [
    "dates = soup.find_all('h4') # все наши даты\n",
    "dates"
   ]
  },
  {
   "cell_type": "code",
   "execution_count": 6,
   "metadata": {
    "scrolled": true
   },
   "outputs": [
    {
     "data": {
      "text/plain": [
       "'19 October 2021'"
      ]
     },
     "execution_count": 6,
     "metadata": {},
     "output_type": "execute_result"
    }
   ],
   "source": [
    "soup.find_all('h4')[0].text"
   ]
  },
  {
   "cell_type": "code",
   "execution_count": 7,
   "metadata": {},
   "outputs": [
    {
     "data": {
      "text/plain": [
       "[<a href=\"/title/tt12335692/?ref_=rlm\">Last Man Down</a>,\n",
       " <a href=\"/title/tt1160419/?ref_=rlm\">Dune</a>,\n",
       " <a href=\"/title/tt8847712/?ref_=rlm\">The French Dispatch</a>,\n",
       " <a href=\"/title/tt7504818/?ref_=rlm\">Ron's Gone Wrong</a>,\n",
       " <a href=\"/title/tt8956324/?ref_=rlm\">Warning</a>,\n",
       " <a href=\"/title/tt9639470/?ref_=rlm\">Last Night in Soho</a>,\n",
       " <a href=\"/title/tt7740510/?ref_=rlm\">Antlers</a>,\n",
       " <a href=\"/title/tt13544716/?ref_=rlm\">My Hero Academia: World Heroes' Mission</a>,\n",
       " <a href=\"/title/tt10925852/?ref_=rlm\">A Mouthful of Air</a>,\n",
       " <a href=\"/title/tt6992978/?ref_=rlm\">The Souvenir: Part II</a>,\n",
       " <a href=\"/title/tt9274670/?ref_=rlm\">13 Minutes</a>,\n",
       " <a href=\"/title/tt8400856/?ref_=rlm\">The Grand Duke of Corsica</a>,\n",
       " <a href=\"/title/tt9032400/?ref_=rlm\">Eternals</a>,\n",
       " <a href=\"/title/tt12536294/?ref_=rlm\">Spencer</a>,\n",
       " <a href=\"/title/tt11388416/?ref_=rlm\">Ida Red</a>,\n",
       " <a href=\"/title/tt6852672/?ref_=rlm\">Violet</a>,\n",
       " <a href=\"/title/tt11738830/?ref_=rlm\">The Beta Test</a>,\n",
       " <a href=\"/title/tt3876910/?ref_=rlm\">Dangerous</a>,\n",
       " <a href=\"/title/tt2397461/?ref_=rlm\">Clifford the Big Red Dog</a>,\n",
       " <a href=\"/title/tt12789558/?ref_=rlm\">Belfast</a>,\n",
       " <a href=\"/title/tt9568230/?ref_=rlm\">Night Raiders</a>,\n",
       " <a href=\"/title/tt13265876/?ref_=rlm\">Apex</a>,\n",
       " <a href=\"/title/tt4513678/?ref_=rlm\">Ghostbusters: Afterlife</a>,\n",
       " <a href=\"/title/tt9620288/?ref_=rlm\">King Richard</a>,\n",
       " <a href=\"/title/tt10986222/?ref_=rlm\">C'mon C'mon</a>,\n",
       " <a href=\"/title/tt14033502/?ref_=rlm\">Bad Luck Banging or Loony Porn</a>,\n",
       " <a href=\"/title/tt12229370/?ref_=rlm\">Mothering Sunday</a>,\n",
       " <a href=\"/title/tt14405338/?ref_=rlm\">A House on the Bayou</a>,\n",
       " <a href=\"/title/tt6920084/?ref_=rlm\">Resident Evil: Welcome to Raccoon City</a>,\n",
       " <a href=\"/title/tt11214590/?ref_=rlm\">House of Gucci</a>,\n",
       " <a href=\"/title/tt2953050/?ref_=rlm\">Encanto</a>,\n",
       " <a href=\"/title/tt14039582/?ref_=rlm\">Drive My Car</a>,\n",
       " <a href=\"/title/tt10023286/?ref_=rlm\">The Humans</a>,\n",
       " <a href=\"/title/tt11271038/?ref_=rlm\">Licorice Pizza</a>,\n",
       " <a href=\"/title/tt10698174/?ref_=rlm\">Wolf</a>,\n",
       " <a href=\"/title/tt13453006/?ref_=rlm\">Red Rocket</a>,\n",
       " <a href=\"/title/tt3581652/?ref_=rlm\">West Side Story</a>,\n",
       " <a href=\"/title/tt9714030/?ref_=rlm\">France</a>,\n",
       " <a href=\"/title/tt12800524/?ref_=rlm\">Encounter</a>,\n",
       " <a href=\"/title/tt10872600/?ref_=rlm\">Spider-Man: No Way Home</a>,\n",
       " <a href=\"/title/tt7740496/?ref_=rlm\">Nightmare Alley</a>,\n",
       " <a href=\"/title/tt10832274/?ref_=rlm\">Swan Song</a>,\n",
       " <a href=\"/title/tt10838180/?ref_=rlm\">The Matrix Resurrections</a>,\n",
       " <a href=\"/title/tt6856242/?ref_=rlm\">The King's Man</a>,\n",
       " <a href=\"/title/tt6467266/?ref_=rlm\">Sing 2</a>,\n",
       " <a href=\"/title/tt0995854/?ref_=rlm\">A Journal for Jordan</a>,\n",
       " <a href=\"/title/tt10095582/?ref_=rlm\">The Tragedy of Macbeth</a>,\n",
       " <a href=\"/title/tt11729298/?ref_=rlm\">American Underdog</a>,\n",
       " <a href=\"/title/tt8356942/?ref_=rlm\">The 355</a>,\n",
       " <a href=\"/title/tt11245972/?ref_=rlm\">Scream</a>,\n",
       " <a href=\"/title/tt11671006/?ref_=rlm\">The Man from Toronto</a>,\n",
       " <a href=\"/title/tt2180339/?ref_=rlm\">Deep Water</a>,\n",
       " <a href=\"/title/tt2224162/?ref_=rlm\">Sesame Street</a>,\n",
       " <a href=\"/title/tt7985704/?ref_=rlm\">Operation Fortune: Ruse de guerre</a>,\n",
       " <a href=\"/title/tt5108870/?ref_=rlm\">Morbius</a>,\n",
       " <a href=\"/title/tt7144666/?ref_=rlm\">The Black Phone</a>,\n",
       " <a href=\"/title/tt5834426/?ref_=rlm\">Moonfall</a>,\n",
       " <a href=\"/title/tt11466222/?ref_=rlm\">Jackass Forever</a>,\n",
       " <a href=\"/title/tt7657566/?ref_=rlm\">Death on the Nile</a>,\n",
       " <a href=\"/title/tt10223460/?ref_=rlm\">Marry Me</a>,\n",
       " <a href=\"/title/tt1464335/?ref_=rlm\">Uncharted</a>,\n",
       " <a href=\"/title/tt4998632/?ref_=rlm\">Ambulance</a>,\n",
       " <a href=\"/title/tt11252248/?ref_=rlm\">Dog</a>,\n",
       " <a href=\"/title/tt8337158/?ref_=rlm\">Rumble</a>,\n",
       " <a href=\"/title/tt10503736/?ref_=rlm\">The Ghosts of Borley Rectory</a>,\n",
       " <a href=\"/title/tt1877830/?ref_=rlm\">The Batman</a>,\n",
       " <a href=\"/title/tt8097030/?ref_=rlm\">Turning Red</a>,\n",
       " <a href=\"/title/tt11703710/?ref_=rlm\">Downton Abbey: A New Era</a>,\n",
       " <a href=\"/title/tt9419884/?ref_=rlm\">Doctor Strange in the Multiverse of Madness</a>,\n",
       " <a href=\"/title/tt11138512/?ref_=rlm\">The Northman</a>,\n",
       " <a href=\"/title/tt12593682/?ref_=rlm\">Bullet Train</a>,\n",
       " <a href=\"/title/tt12412888/?ref_=rlm\">Sonic the Hedgehog 2</a>,\n",
       " <a href=\"/title/tt4123432/?ref_=rlm\">Fantastic Beasts: The Secrets of Dumbledore</a>,\n",
       " <a href=\"/title/tt13320622/?ref_=rlm\">Lost City of D</a>,\n",
       " <a href=\"/title/tt11291274/?ref_=rlm\">The Unbearable Weight of Massive Talent</a>,\n",
       " <a href=\"/title/tt8115900/?ref_=rlm\">The Bad Guys</a>,\n",
       " <a href=\"/title/tt10648342/?ref_=rlm\">Thor: Love and Thunder</a>,\n",
       " <a href=\"/title/tt8509238/?ref_=rlm\">Legally Blonde 3</a>,\n",
       " <a href=\"/title/tt8912936/?ref_=rlm\">DC League of Super-Pets</a>,\n",
       " <a href=\"/title/tt1745960/?ref_=rlm\">Top Gun: Maverick</a>,\n",
       " <a href=\"/title/tt10366206/?ref_=rlm\">John Wick: Chapter 4</a>,\n",
       " <a href=\"/title/tt3704428/?ref_=rlm\">Untitled Elvis Presley Project</a>,\n",
       " <a href=\"/title/tt8041270/?ref_=rlm\">Jurassic World: Dominion</a>,\n",
       " <a href=\"/title/tt10298810/?ref_=rlm\">Lightyear</a>,\n",
       " <a href=\"/title/tt5090568/?ref_=rlm\">Transformers: Rise of the Beasts</a>,\n",
       " <a href=\"/title/tt9411972/?ref_=rlm\">Where the Crawdads Sing</a>,\n",
       " <a href=\"/title/tt5113044/?ref_=rlm\">Minions: The Rise of Gru</a>,\n",
       " <a href=\"/title/tt9114286/?ref_=rlm\">Black Panther: Wakanda Forever</a>,\n",
       " <a href=\"/title/tt10954984/?ref_=rlm\">Nope</a>,\n",
       " <a href=\"/title/tt1462764/?ref_=rlm\">Indiana Jones 5</a>,\n",
       " <a href=\"/title/tt6443346/?ref_=rlm\">Black Adam</a>,\n",
       " <a href=\"/title/tt13917358/?ref_=rlm\">Guns 3: Alias Billy the Kid</a>,\n",
       " <a href=\"/title/tt9731598/?ref_=rlm\">BROS</a>,\n",
       " <a href=\"/title/tt5500218/?ref_=rlm\">Samaritan</a>,\n",
       " <a href=\"/title/tt10245072/?ref_=rlm\">Salem's Lot</a>,\n",
       " <a href=\"/title/tt9204328/?ref_=rlm\">Dark Harvest</a>,\n",
       " <a href=\"/title/tt10731256/?ref_=rlm\">Don't Worry Darling</a>,\n",
       " <a href=\"/title/tt9603212/?ref_=rlm\">Mission: Impossible 7</a>,\n",
       " <a href=\"/title/tt9362722/?ref_=rlm\">Spider-Man: Into the Spider-Verse 2</a>,\n",
       " <a href=\"/title/tt10665342/?ref_=rlm\">Halloween Ends</a>]"
      ]
     },
     "execution_count": 7,
     "metadata": {},
     "output_type": "execute_result"
    }
   ],
   "source": [
    "# достать ссылки можно так, но как понять, к какой дате они относятся??\n",
    "soup.find_all('a', attrs = {'href' : re.compile('title/tt')}) "
   ]
  },
  {
   "cell_type": "code",
   "execution_count": 8,
   "metadata": {},
   "outputs": [],
   "source": [
    "# пробуем по-другому\n",
    "info = soup.find_all('div', {'id': 'main'})[0].find_all('ul')\n",
    "#info"
   ]
  },
  {
   "cell_type": "markdown",
   "metadata": {},
   "source": [
    "Теперь количество дат соответствует количеству элементов полученного выше списка."
   ]
  },
  {
   "cell_type": "code",
   "execution_count": 9,
   "metadata": {},
   "outputs": [
    {
     "data": {
      "text/plain": [
       "<ul>\n",
       "<li>\n",
       "<a href=\"/title/tt12335692/?ref_=rlm\">Last Man Down</a> (2021)\n",
       "                        </li>\n",
       "</ul>"
      ]
     },
     "execution_count": 9,
     "metadata": {},
     "output_type": "execute_result"
    }
   ],
   "source": [
    "info[0]"
   ]
  },
  {
   "cell_type": "code",
   "execution_count": 10,
   "metadata": {},
   "outputs": [
    {
     "data": {
      "text/plain": [
       "<a href=\"/title/tt12335692/?ref_=rlm\">Last Man Down</a>"
      ]
     },
     "execution_count": 10,
     "metadata": {},
     "output_type": "execute_result"
    }
   ],
   "source": [
    "info[0].find_all('a')[0]"
   ]
  },
  {
   "cell_type": "code",
   "execution_count": 11,
   "metadata": {},
   "outputs": [
    {
     "data": {
      "text/plain": [
       "'https://www.imdb.com/title/tt12335692/?ref_=rlm'"
      ]
     },
     "execution_count": 11,
     "metadata": {},
     "output_type": "execute_result"
    }
   ],
   "source": [
    "'https://www.imdb.com' + info[0].find_all('a')[0].get('href')"
   ]
  },
  {
   "cell_type": "code",
   "execution_count": 12,
   "metadata": {},
   "outputs": [
    {
     "data": {
      "text/plain": [
       "['https://www.imdb.com/title/tt12335692/?ref_=rlm']"
      ]
     },
     "execution_count": 12,
     "metadata": {},
     "output_type": "execute_result"
    }
   ],
   "source": [
    "urls = ['https://www.imdb.com' + i.get('href') for i in info[0].find_all('a')]\n",
    "urls # это ссылки на все фильмы соответствующей даты"
   ]
  },
  {
   "cell_type": "code",
   "execution_count": 13,
   "metadata": {},
   "outputs": [
    {
     "data": {
      "text/plain": [
       "'Last Man Down'"
      ]
     },
     "execution_count": 13,
     "metadata": {},
     "output_type": "execute_result"
    }
   ],
   "source": [
    "info[0].find_all('a')[0].text"
   ]
  },
  {
   "cell_type": "code",
   "execution_count": 14,
   "metadata": {},
   "outputs": [
    {
     "data": {
      "text/plain": [
       "['Last Man Down']"
      ]
     },
     "execution_count": 14,
     "metadata": {},
     "output_type": "execute_result"
    }
   ],
   "source": [
    "names = [i.text for i in info[0].find_all('a')]\n",
    "names"
   ]
  },
  {
   "cell_type": "code",
   "execution_count": 15,
   "metadata": {},
   "outputs": [],
   "source": [
    "movies = {}\n",
    "for d in range(len(dates)):\n",
    "    \n",
    "    names = [i.text for i in info[d].find_all('a')]\n",
    "    urls = ['https://www.imdb.com' + i.get('href') for i in info[d].find_all('a')]\n",
    "    \n",
    "    urls_names = {}\n",
    "    for x in range(len(names)):\n",
    "        urls_names[names[x]] = [urls[x]] # ключом словаря будет дата, а значением — ссылка\n",
    "    \n",
    "    movies[dates[d].text] = urls_names\n",
    "#movies"
   ]
  },
  {
   "cell_type": "code",
   "execution_count": 18,
   "metadata": {},
   "outputs": [
    {
     "data": {
      "text/html": [
       "<div>\n",
       "<style scoped>\n",
       "    .dataframe tbody tr th:only-of-type {\n",
       "        vertical-align: middle;\n",
       "    }\n",
       "\n",
       "    .dataframe tbody tr th {\n",
       "        vertical-align: top;\n",
       "    }\n",
       "\n",
       "    .dataframe thead th {\n",
       "        text-align: right;\n",
       "    }\n",
       "</style>\n",
       "<table border=\"1\" class=\"dataframe\">\n",
       "  <thead>\n",
       "    <tr style=\"text-align: right;\">\n",
       "      <th></th>\n",
       "      <th>Eternals</th>\n",
       "      <th>Spencer</th>\n",
       "      <th>Ida Red</th>\n",
       "      <th>Violet</th>\n",
       "      <th>The Beta Test</th>\n",
       "      <th>Dangerous</th>\n",
       "    </tr>\n",
       "  </thead>\n",
       "  <tbody>\n",
       "    <tr>\n",
       "      <th>Ссылка</th>\n",
       "      <td>https://www.imdb.com/title/tt9032400/?ref_=rlm</td>\n",
       "      <td>https://www.imdb.com/title/tt12536294/?ref_=rlm</td>\n",
       "      <td>https://www.imdb.com/title/tt11388416/?ref_=rlm</td>\n",
       "      <td>https://www.imdb.com/title/tt6852672/?ref_=rlm</td>\n",
       "      <td>https://www.imdb.com/title/tt11738830/?ref_=rlm</td>\n",
       "      <td>https://www.imdb.com/title/tt3876910/?ref_=rlm</td>\n",
       "    </tr>\n",
       "  </tbody>\n",
       "</table>\n",
       "</div>"
      ],
      "text/plain": [
       "                                              Eternals  \\\n",
       "Ссылка  https://www.imdb.com/title/tt9032400/?ref_=rlm   \n",
       "\n",
       "                                                Spencer  \\\n",
       "Ссылка  https://www.imdb.com/title/tt12536294/?ref_=rlm   \n",
       "\n",
       "                                                Ida Red  \\\n",
       "Ссылка  https://www.imdb.com/title/tt11388416/?ref_=rlm   \n",
       "\n",
       "                                                Violet  \\\n",
       "Ссылка  https://www.imdb.com/title/tt6852672/?ref_=rlm   \n",
       "\n",
       "                                          The Beta Test  \\\n",
       "Ссылка  https://www.imdb.com/title/tt11738830/?ref_=rlm   \n",
       "\n",
       "                                             Dangerous  \n",
       "Ссылка  https://www.imdb.com/title/tt3876910/?ref_=rlm  "
      ]
     },
     "execution_count": 18,
     "metadata": {},
     "output_type": "execute_result"
    }
   ],
   "source": [
    "rows = ['Ссылка']\n",
    "df = pd.DataFrame(movies['05 November 2021'], index = rows)\n",
    "df"
   ]
  },
  {
   "cell_type": "code",
   "execution_count": 19,
   "metadata": {},
   "outputs": [],
   "source": [
    "df.columns = [['05 November 2021']*len(movies['05 November 2021'].keys()),\n",
    "                            list(movies['05 November 2021'].keys())]"
   ]
  },
  {
   "cell_type": "markdown",
   "metadata": {},
   "source": [
    "## Задание 2\n",
    "\n",
    "Соберите информацию о сотрудниках [кафедры высшей математики](https://hmat.hse.ru/persons). Если сотрудник ведет какие-то курсы, то также название курса и ссылка на его страницу."
   ]
  },
  {
   "cell_type": "code",
   "execution_count": 23,
   "metadata": {},
   "outputs": [
    {
     "data": {
      "text/plain": [
       "200"
      ]
     },
     "execution_count": 23,
     "metadata": {},
     "output_type": "execute_result"
    }
   ],
   "source": [
    "url = 'https://hmat.hse.ru/persons'\n",
    "page = requests.get(url)\n",
    "page.status_code"
   ]
  },
  {
   "cell_type": "code",
   "execution_count": 24,
   "metadata": {},
   "outputs": [],
   "source": [
    "soup = BeautifulSoup(page.text)\n",
    "#soup"
   ]
  },
  {
   "cell_type": "code",
   "execution_count": 25,
   "metadata": {},
   "outputs": [],
   "source": [
    "info = soup.find_all('div', {'class': 'fa-person__box'})\n",
    "#info"
   ]
  },
  {
   "cell_type": "code",
   "execution_count": 26,
   "metadata": {},
   "outputs": [
    {
     "data": {
      "text/plain": [
       "<div class=\"fa-person__box\">\n",
       "<a class=\"fa-person__name\" href=\"//www.hse.ru/org/persons/207912918\">\n",
       "\t\t\t\t\t\t\tЛатышев Александр Михайлович\n",
       "\t\t\t\t\t\t</a>\n",
       "<p class=\"fa-person__info\">Старший преподаватель</p>\n",
       "</div>"
      ]
     },
     "execution_count": 26,
     "metadata": {},
     "output_type": "execute_result"
    }
   ],
   "source": [
    "info[14]"
   ]
  },
  {
   "cell_type": "code",
   "execution_count": 27,
   "metadata": {},
   "outputs": [
    {
     "data": {
      "text/plain": [
       "'Латышев Александр Михайлович'"
      ]
     },
     "execution_count": 27,
     "metadata": {},
     "output_type": "execute_result"
    }
   ],
   "source": [
    "name = info[14].find('a').text.strip()\n",
    "name"
   ]
  },
  {
   "cell_type": "code",
   "execution_count": 28,
   "metadata": {},
   "outputs": [
    {
     "data": {
      "text/plain": [
       "'Старший преподаватель'"
      ]
     },
     "execution_count": 28,
     "metadata": {},
     "output_type": "execute_result"
    }
   ],
   "source": [
    "degree = info[14].find('p').text.strip()\n",
    "degree"
   ]
  },
  {
   "cell_type": "code",
   "execution_count": 29,
   "metadata": {},
   "outputs": [
    {
     "data": {
      "text/plain": [
       "'https://www.hse.ru/org/persons/207912918'"
      ]
     },
     "execution_count": 29,
     "metadata": {},
     "output_type": "execute_result"
    }
   ],
   "source": [
    "url_person = 'https:' + info[14].find('a').get('href')\n",
    "url_person"
   ]
  },
  {
   "cell_type": "code",
   "execution_count": 30,
   "metadata": {},
   "outputs": [
    {
     "data": {
      "text/plain": [
       "'https://www.hse.ru/org/persons/207912918'"
      ]
     },
     "execution_count": 30,
     "metadata": {},
     "output_type": "execute_result"
    }
   ],
   "source": [
    "url0 = 'https://www.hse.ru/org/persons/207912918'\n",
    "url0"
   ]
  },
  {
   "cell_type": "code",
   "execution_count": 31,
   "metadata": {},
   "outputs": [
    {
     "data": {
      "text/plain": [
       "200"
      ]
     },
     "execution_count": 31,
     "metadata": {},
     "output_type": "execute_result"
    }
   ],
   "source": [
    "page0 = requests.get(url0)\n",
    "page0.status_code"
   ]
  },
  {
   "cell_type": "code",
   "execution_count": 32,
   "metadata": {},
   "outputs": [],
   "source": [
    "soup0 = BeautifulSoup(page0.text)\n",
    "#soup0"
   ]
  },
  {
   "cell_type": "code",
   "execution_count": 33,
   "metadata": {},
   "outputs": [
    {
     "data": {
      "text/plain": [
       "[<div class=\"b-person-data\" tab-index=\"teaching\" tab-node=\"edu-courses\"><a id=\"m-teaching\"></a><h3>Учебные курсы (2021/2022 уч. год)</h3><ul class=\"g-ul g-list g-list_closer\"><li><a class=\"link\" href=\"https://www.hse.ru/edu/courses/395858382\">Математический анализ</a> (Бакалавриат; где читается: <a class=\"link\" href=\"https://chemistry.hse.ru/\">Факультет химии</a>; 2-й курс, 1-4 модуль)<span class=\"language-label\">Рус</span></li><li><span class=\"link edu-courses-archive-toogle\">Архив учебных курсов</span></li></ul></div>]"
      ]
     },
     "execution_count": 33,
     "metadata": {},
     "output_type": "execute_result"
    }
   ],
   "source": [
    "courses = soup0.find_all('div', {'tab-node':'edu-courses'})\n",
    "courses"
   ]
  },
  {
   "cell_type": "code",
   "execution_count": 34,
   "metadata": {},
   "outputs": [
    {
     "data": {
      "text/plain": [
       "[<a class=\"link\" href=\"https://www.hse.ru/edu/courses/395858382\">Математический анализ</a>,\n",
       " <a class=\"link\" href=\"https://chemistry.hse.ru/\">Факультет химии</a>]"
      ]
     },
     "execution_count": 34,
     "metadata": {},
     "output_type": "execute_result"
    }
   ],
   "source": [
    "courses_info = courses[0].find_all('a', {'class':'link'})\n",
    "courses_info"
   ]
  },
  {
   "cell_type": "code",
   "execution_count": 38,
   "metadata": {},
   "outputs": [
    {
     "ename": "KeyboardInterrupt",
     "evalue": "",
     "output_type": "error",
     "traceback": [
      "\u001b[0;31m---------------------------------------------------------------------------\u001b[0m",
      "\u001b[0;31mKeyboardInterrupt\u001b[0m                         Traceback (most recent call last)",
      "\u001b[0;32m<ipython-input-38-6c5e8600cc3f>\u001b[0m in \u001b[0;36m<module>\u001b[0;34m\u001b[0m\n\u001b[1;32m      9\u001b[0m     \u001b[0msoup0\u001b[0m \u001b[0;34m=\u001b[0m \u001b[0mBeautifulSoup\u001b[0m\u001b[0;34m(\u001b[0m\u001b[0mpage0\u001b[0m\u001b[0;34m.\u001b[0m\u001b[0mtext\u001b[0m\u001b[0;34m)\u001b[0m\u001b[0;34m\u001b[0m\u001b[0;34m\u001b[0m\u001b[0m\n\u001b[1;32m     10\u001b[0m \u001b[0;34m\u001b[0m\u001b[0m\n\u001b[0;32m---> 11\u001b[0;31m     \u001b[0msleep\u001b[0m\u001b[0;34m(\u001b[0m\u001b[0;36m1\u001b[0m\u001b[0;34m)\u001b[0m\u001b[0;34m\u001b[0m\u001b[0;34m\u001b[0m\u001b[0m\n\u001b[0m\u001b[1;32m     12\u001b[0m \u001b[0;34m\u001b[0m\u001b[0m\n\u001b[1;32m     13\u001b[0m     \u001b[0mcourses\u001b[0m \u001b[0;34m=\u001b[0m \u001b[0msoup0\u001b[0m\u001b[0;34m.\u001b[0m\u001b[0mfind_all\u001b[0m\u001b[0;34m(\u001b[0m\u001b[0;34m'div'\u001b[0m\u001b[0;34m,\u001b[0m \u001b[0;34m{\u001b[0m\u001b[0;34m'tab-node'\u001b[0m\u001b[0;34m:\u001b[0m\u001b[0;34m'edu-courses'\u001b[0m\u001b[0;34m}\u001b[0m\u001b[0;34m)\u001b[0m\u001b[0;34m\u001b[0m\u001b[0;34m\u001b[0m\u001b[0m\n",
      "\u001b[0;31mKeyboardInterrupt\u001b[0m: "
     ]
    }
   ],
   "source": [
    "staff = {}\n",
    "\n",
    "for i in info:\n",
    "    name = i.find('a').text.strip()\n",
    "    degree = i.find('p').text.strip()\n",
    "    url_person = 'https:' + i.find('a').get('href')\n",
    "    \n",
    "    page0 = requests.get(url_person)\n",
    "    soup0 = BeautifulSoup(page0.text)\n",
    "    \n",
    "    sleep(1)\n",
    "    \n",
    "    courses = soup0.find_all('div', {'tab-node':'edu-courses'})\n",
    "    if len(courses) != 0:\n",
    "        courses_info = courses[0].find_all('a', {'class':'link'})\n",
    "\n",
    "        empty_dict = {}\n",
    "\n",
    "        for i in range(0, len(courses_info), 2):\n",
    "\n",
    "            key = courses_info[i].get('href')\n",
    "            value_name = courses_info[i].text\n",
    "            value_fac = courses_info[i+1].text\n",
    "\n",
    "            empty_dict[key] = [value_name, value_fac]\n",
    "\n",
    "        staff[f'{name}({degree})'] = empty_dict\n",
    "    "
   ]
  },
  {
   "cell_type": "code",
   "execution_count": null,
   "metadata": {},
   "outputs": [],
   "source": [
    "rows = ['Название', 'Факультет']\n",
    "df = pd.DataFrame(staff[list(staff.keys())[0]], index = rows)\n",
    "\n",
    "df.columns = [[list(staff.keys())[0]]*len(staff[list(staff.keys())[0]].keys()),\n",
    "                            list(staff[list(staff.keys())[0]].keys())]\n",
    "\n",
    "df"
   ]
  },
  {
   "cell_type": "code",
   "execution_count": null,
   "metadata": {},
   "outputs": [],
   "source": [
    "for i in list(staff.keys())[1:]:\n",
    "    df_to_join = pd.DataFrame(staff[i], index = rows)\n",
    "    df_to_join.columns = [[i]*len(staff[i].keys()),\n",
    "                            list(staff[i].keys())]\n",
    "    \n",
    "    df = df.join(df_to_join)"
   ]
  },
  {
   "cell_type": "code",
   "execution_count": null,
   "metadata": {},
   "outputs": [],
   "source": [
    "df.transpose()"
   ]
  },
  {
   "cell_type": "markdown",
   "metadata": {},
   "source": [
    "## Задание 3\n",
    "\n",
    "Дана ссылка на первую страницу [каталога книжных новинок](https://www.bgshop.ru/catalog/group?id=444&page=1&sort=1&instock=). Соберите информацию о книгах с первых трех страниц. "
   ]
  },
  {
   "cell_type": "code",
   "execution_count": 39,
   "metadata": {},
   "outputs": [
    {
     "data": {
      "text/plain": [
       "['https://www.bgshop.ru/catalog/group?id=444&page=1&sort=1&instock=',\n",
       " 'https://www.bgshop.ru/catalog/group?id=444&page=2&sort=1&instock=',\n",
       " 'https://www.bgshop.ru/catalog/group?id=444&page=3&sort=1&instock=']"
      ]
     },
     "execution_count": 39,
     "metadata": {},
     "output_type": "execute_result"
    }
   ],
   "source": [
    "urls = []\n",
    "\n",
    "for i in range(1,4):\n",
    "    urls.append(f'https://www.bgshop.ru/catalog/group?id=444&page={i}&sort=1&instock=')\n",
    "urls"
   ]
  },
  {
   "cell_type": "code",
   "execution_count": 40,
   "metadata": {},
   "outputs": [
    {
     "data": {
      "text/plain": [
       "200"
      ]
     },
     "execution_count": 40,
     "metadata": {},
     "output_type": "execute_result"
    }
   ],
   "source": [
    "page = requests.get(urls[0])\n",
    "page.status_code"
   ]
  },
  {
   "cell_type": "code",
   "execution_count": 41,
   "metadata": {},
   "outputs": [],
   "source": [
    "soup = BeautifulSoup(page.text)\n",
    "#soup"
   ]
  },
  {
   "cell_type": "code",
   "execution_count": 42,
   "metadata": {},
   "outputs": [
    {
     "data": {
      "text/plain": [
       "<div class=\"product\">\n",
       "<a class=\"img_link\" href=\"/Catalog/GetFullDescription?id=10799787&amp;type=1\"><img alt=\"\" class=\"img-fluid\" src=\"https://static1.bgshop.ru/imagehandler.ashx?fileName=10799787.jpg&amp;width=200\"/></a>\n",
       "<div class=\"text\">\n",
       "<div class=\"author\">Г. Тайс</div>\n",
       "<h3><a href=\"/Catalog/GetFullDescription?id=10799787&amp;type=1\" id=\"p_title_10799787\">Вся твоя ложь</a></h3>\n",
       "<p class=\"price\">\n",
       "<span class=\"im_price_title\" style=\"font-size:0.85em;\">Цена в интернет-магазине: </span><span id=\"p_price_10799787\" style=\"display:block; font-weight:bold; font-size:1.4em; margin:6px 0 5px; color:#111;\">\n",
       "                                589,00 <span style=\"font-size:.8em; font-weight:normal;\">руб.</span>\n",
       "</span>\n",
       "<span style=\"display:block;\"> </span>\n",
       "</p>\n",
       "<p class=\"status im_status_title\">\n",
       "в наличии                        </p>\n",
       "<p class=\"buttons\">\n",
       "<span class=\"btn btn-primary\" id=\"add_10799787\" onclick=\"AddToBasket(10799787)\"><i class=\"fa fa-shopping-cart\"></i> В корзину</span>\n",
       "<a class=\"btn btn-primary add_but\" href=\"/Basket/Detail\" id=\"added_10799787\">Оформить <i class=\"fa fa-chevron-right\"></i></a>\n",
       "</p>\n",
       "</div>\n",
       "<!-- /.text -->\n",
       "</div>"
      ]
     },
     "execution_count": 42,
     "metadata": {},
     "output_type": "execute_result"
    }
   ],
   "source": [
    "product = soup.find_all('div', {'class':'product'})[0]\n",
    "product"
   ]
  },
  {
   "cell_type": "code",
   "execution_count": 43,
   "metadata": {},
   "outputs": [
    {
     "data": {
      "text/plain": [
       "'https://www.bgshop.ru//Catalog/GetFullDescription?id=10799787&type=1'"
      ]
     },
     "execution_count": 43,
     "metadata": {},
     "output_type": "execute_result"
    }
   ],
   "source": [
    "# ссылка\n",
    "url0 = 'https://www.bgshop.ru/' + product.find_all('a')[0].get('href')\n",
    "url0"
   ]
  },
  {
   "cell_type": "code",
   "execution_count": 44,
   "metadata": {},
   "outputs": [],
   "source": [
    "page0 = requests.get(url0)\n",
    "soup0 = BeautifulSoup(page0.text)\n",
    "#soup0"
   ]
  },
  {
   "cell_type": "code",
   "execution_count": 45,
   "metadata": {},
   "outputs": [
    {
     "data": {
      "text/plain": [
       "<div class=\"row box\" id=\"productMain\">\n",
       "<div class=\"col-md-4\">\n",
       "<a data-fancybox=\"gallery\" href=\"/imagehandler.ashx?filename=10799787.jpg&amp;width=400\"><img alt=\"Вся твоя ложь\" class=\"product_photo zoomIn\" src=\"/imagehandler.ashx?filename=10799787.jpg&amp;width=200\" title=\"Вся твоя ложь\" width=\"200\"/></a>\n",
       "</div>\n",
       "<div class=\"col-md-7\">\n",
       "<div class=\"item-desc\">\n",
       "<p class=\"goToDescription\"><a class=\"scroll-to\" href=\"/Catalog/Search?query=Тайс Г.&amp;page=1\">\n",
       "Тайс Г.             </a></p>\n",
       "<h1 id=\"p_title_10799787\">Вся твоя ложь</h1>\n",
       "<p class=\"item-status\">в наличии</p>\n",
       "<div id=\"price\">Цена в интернет-магазине: <span id=\"p_price_10799787\" style=\"color: #a42921; font-size:1.2rem;\">729,00 руб.</span></div>\n",
       "<p class=\"buttons\">\n",
       "<span class=\"btn btn-primary\" id=\"add_10799787\" onclick=\"AddToBasket(10799787)\"><i class=\"fa fa-shopping-cart\"></i> В корзину</span>\n",
       "<a class=\"btn btn-primary add_but\" href=\"/Basket/Detail\" id=\"added_10799787\">Перейти в корзину <i class=\"fa fa-chevron-right\"></i></a>\n",
       "</p>\n",
       "<a href=\"https://www.bgshop.ru/information/page/dostavka\" style=\"display:block; margin-top:15px;\" target=\"_blank\"><img alt=\"\" src=\"https://static2.bgshop.ru/banners/delivery_ban101.jpg\" style=\"border:0;\" title=\"Доставка книг по России от 200 руб.*\"/></a>\n",
       "</div>\n",
       "</div>\n",
       "</div>"
      ]
     },
     "execution_count": 45,
     "metadata": {},
     "output_type": "execute_result"
    }
   ],
   "source": [
    "main_info = soup0.find_all('div', {'id':'productMain'})[0]\n",
    "main_info"
   ]
  },
  {
   "cell_type": "code",
   "execution_count": 46,
   "metadata": {},
   "outputs": [
    {
     "data": {
      "text/plain": [
       "'\\r\\nТайс Г.             '"
      ]
     },
     "execution_count": 46,
     "metadata": {},
     "output_type": "execute_result"
    }
   ],
   "source": [
    "author = main_info.find_all('p')[0].text\n",
    "author"
   ]
  },
  {
   "cell_type": "code",
   "execution_count": 47,
   "metadata": {},
   "outputs": [
    {
     "data": {
      "text/plain": [
       "'Вся твоя ложь'"
      ]
     },
     "execution_count": 47,
     "metadata": {},
     "output_type": "execute_result"
    }
   ],
   "source": [
    "title = main_info.find_all('h1')[0].text\n",
    "title"
   ]
  },
  {
   "cell_type": "code",
   "execution_count": 48,
   "metadata": {},
   "outputs": [
    {
     "data": {
      "text/plain": [
       "'в наличии'"
      ]
     },
     "execution_count": 48,
     "metadata": {},
     "output_type": "execute_result"
    }
   ],
   "source": [
    "status = main_info.find_all('p', {'class':'item-status'})[0].text\n",
    "status"
   ]
  },
  {
   "cell_type": "code",
   "execution_count": 49,
   "metadata": {},
   "outputs": [
    {
     "data": {
      "text/plain": [
       "'Цена в интернет-магазине: 729,00\\xa0руб.'"
      ]
     },
     "execution_count": 49,
     "metadata": {},
     "output_type": "execute_result"
    }
   ],
   "source": [
    "price = main_info.find_all('div', {'id':'price'})[0].text\n",
    "price"
   ]
  },
  {
   "cell_type": "code",
   "execution_count": 50,
   "metadata": {},
   "outputs": [
    {
     "data": {
      "text/plain": [
       "729.0"
      ]
     },
     "execution_count": 50,
     "metadata": {},
     "output_type": "execute_result"
    }
   ],
   "source": [
    "price_clean = float(re.findall(r'\\d+,\\d+', price)[0].replace(',', '.'))\n",
    "price_clean"
   ]
  },
  {
   "cell_type": "code",
   "execution_count": 51,
   "metadata": {},
   "outputs": [],
   "source": [
    "books = {}\n",
    "\n",
    "for i in soup.find_all('div', {'class':'product'}):\n",
    "    url0 = 'https://www.bgshop.ru/' + i.find_all('a')[0].get('href')\n",
    "    page0 = requests.get(url0)\n",
    "    soup0 = BeautifulSoup(page0.text)\n",
    "    sleep(1)\n",
    "    \n",
    "    main_info = soup0.find_all('div', {'id':'productMain'})[0]\n",
    "    author = main_info.find_all('p')[0].text\n",
    "    title = main_info.find_all('h1')[0].text\n",
    "    status = main_info.find_all('p', {'class':'item-status'})[0].text\n",
    "    \n",
    "    price = main_info.find_all('div', {'id':'price'})[0].text\n",
    "    price_clean = float(re.findall(r'\\d+,\\d+', price)[0].replace(',', '.'))\n",
    "    \n",
    "    books[title] = [author, status, price_clean, url0]"
   ]
  },
  {
   "cell_type": "markdown",
   "metadata": {},
   "source": [
    "А теперь для всех (трех) страниц с книгами:"
   ]
  },
  {
   "cell_type": "code",
   "execution_count": 52,
   "metadata": {},
   "outputs": [],
   "source": [
    "books = {}\n",
    "for u in urls:\n",
    "    page = requests.get(u)\n",
    "    soup = BeautifulSoup(page.text)\n",
    "    sleep(1)\n",
    "    info = soup.find_all('div', {'class':'product'})\n",
    "    for i in info:\n",
    "        url0 = 'https://www.bgshop.ru/' + i.find_all('a')[0].get('href')\n",
    "        page0 = requests.get(url0)\n",
    "        soup0 = BeautifulSoup(page0.text)\n",
    "        sleep(1)\n",
    "\n",
    "        main_info = soup0.find_all('div', {'id':'productMain'})[0]\n",
    "        author = main_info.find_all('p')[0].text\n",
    "        title = main_info.find_all('h1')[0].text\n",
    "        status = main_info.find_all('p', {'class':'item-status'})[0].text\n",
    "\n",
    "        price = main_info.find_all('div', {'id':'price'})[0].text\n",
    "        price_change = float(re.findall(r'\\d+,\\d+', price)[0].replace(',', '.'))\n",
    "\n",
    "        books[title] = [author, status, price_change, url0]"
   ]
  },
  {
   "cell_type": "code",
   "execution_count": 53,
   "metadata": {},
   "outputs": [
    {
     "data": {
      "text/html": [
       "<div>\n",
       "<style scoped>\n",
       "    .dataframe tbody tr th:only-of-type {\n",
       "        vertical-align: middle;\n",
       "    }\n",
       "\n",
       "    .dataframe tbody tr th {\n",
       "        vertical-align: top;\n",
       "    }\n",
       "\n",
       "    .dataframe thead th {\n",
       "        text-align: right;\n",
       "    }\n",
       "</style>\n",
       "<table border=\"1\" class=\"dataframe\">\n",
       "  <thead>\n",
       "    <tr style=\"text-align: right;\">\n",
       "      <th></th>\n",
       "      <th>Автор</th>\n",
       "      <th>Статус</th>\n",
       "      <th>Цена</th>\n",
       "      <th>Ссылка</th>\n",
       "    </tr>\n",
       "  </thead>\n",
       "  <tbody>\n",
       "    <tr>\n",
       "      <th>Вся твоя ложь</th>\n",
       "      <td>\\r\\nТайс Г.</td>\n",
       "      <td>в наличии</td>\n",
       "      <td>729.0</td>\n",
       "      <td>https://www.bgshop.ru//Catalog/GetFullDescript...</td>\n",
       "    </tr>\n",
       "    <tr>\n",
       "      <th>Преступления любви</th>\n",
       "      <td>\\r\\nМаркиз  де Сад</td>\n",
       "      <td>в наличии</td>\n",
       "      <td>649.0</td>\n",
       "      <td>https://www.bgshop.ru//Catalog/GetFullDescript...</td>\n",
       "    </tr>\n",
       "    <tr>\n",
       "      <th>Кровь и мёд</th>\n",
       "      <td>\\r\\nШелби Махёрин</td>\n",
       "      <td></td>\n",
       "      <td>719.0</td>\n",
       "      <td>https://www.bgshop.ru//Catalog/GetFullDescript...</td>\n",
       "    </tr>\n",
       "    <tr>\n",
       "      <th>ВДНХ. Мечта о прекрасном, несбыточном. Живая история выставки</th>\n",
       "      <td>\\r\\nПанкратов Г. В.</td>\n",
       "      <td>в наличии</td>\n",
       "      <td>1019.0</td>\n",
       "      <td>https://www.bgshop.ru//Catalog/GetFullDescript...</td>\n",
       "    </tr>\n",
       "    <tr>\n",
       "      <th>Вселенная Хаяо Миядзаки. Картины великого аниматора в деталях</th>\n",
       "      <td>\\r\\nГаэль Бертон</td>\n",
       "      <td>в наличии</td>\n",
       "      <td>759.0</td>\n",
       "      <td>https://www.bgshop.ru//Catalog/GetFullDescript...</td>\n",
       "    </tr>\n",
       "    <tr>\n",
       "      <th>Сумерки хищников</th>\n",
       "      <td>\\r\\nМарк Леви</td>\n",
       "      <td>в наличии</td>\n",
       "      <td>509.0</td>\n",
       "      <td>https://www.bgshop.ru//Catalog/GetFullDescript...</td>\n",
       "    </tr>\n",
       "    <tr>\n",
       "      <th>Порог</th>\n",
       "      <td>\\r\\nОлег Рой</td>\n",
       "      <td>в наличии</td>\n",
       "      <td>819.0</td>\n",
       "      <td>https://www.bgshop.ru//Catalog/GetFullDescript...</td>\n",
       "    </tr>\n",
       "    <tr>\n",
       "      <th>Двойной контроль</th>\n",
       "      <td>\\r\\nЭдвард Сент-Обин</td>\n",
       "      <td>в наличии</td>\n",
       "      <td>669.0</td>\n",
       "      <td>https://www.bgshop.ru//Catalog/GetFullDescript...</td>\n",
       "    </tr>\n",
       "    <tr>\n",
       "      <th>Рождественский Поросёнок</th>\n",
       "      <td>\\r\\nРоулинг Дж.К.</td>\n",
       "      <td>в наличии</td>\n",
       "      <td>583.0</td>\n",
       "      <td>https://www.bgshop.ru//Catalog/GetFullDescript...</td>\n",
       "    </tr>\n",
       "    <tr>\n",
       "      <th>Вакцинация. Спасение человечества или всеобщая эвтаназия?</th>\n",
       "      <td>\\r\\nВалентин Катасонов</td>\n",
       "      <td></td>\n",
       "      <td>1059.0</td>\n",
       "      <td>https://www.bgshop.ru//Catalog/GetFullDescript...</td>\n",
       "    </tr>\n",
       "    <tr>\n",
       "      <th>Сердца четырех</th>\n",
       "      <td>\\r\\nВладимир Сорокин</td>\n",
       "      <td></td>\n",
       "      <td>659.0</td>\n",
       "      <td>https://www.bgshop.ru//Catalog/GetFullDescript...</td>\n",
       "    </tr>\n",
       "    <tr>\n",
       "      <th>One Two Three Four. \"Битлз\" в ритме времени</th>\n",
       "      <td>\\r\\nКрейг Браун</td>\n",
       "      <td></td>\n",
       "      <td>1279.0</td>\n",
       "      <td>https://www.bgshop.ru//Catalog/GetFullDescript...</td>\n",
       "    </tr>\n",
       "    <tr>\n",
       "      <th>Древний. Предыстория. Книга восьмая. Предрассветный мрак</th>\n",
       "      <td>\\r\\nСергей Сергеевич Тармашев</td>\n",
       "      <td></td>\n",
       "      <td>659.0</td>\n",
       "      <td>https://www.bgshop.ru//Catalog/GetFullDescript...</td>\n",
       "    </tr>\n",
       "    <tr>\n",
       "      <th>Скринлайф: В поисках нового языка кино</th>\n",
       "      <td>\\r\\nБекмамбетов Т.</td>\n",
       "      <td>в наличии</td>\n",
       "      <td>709.0</td>\n",
       "      <td>https://www.bgshop.ru//Catalog/GetFullDescript...</td>\n",
       "    </tr>\n",
       "    <tr>\n",
       "      <th>Кулинарная книга Гарри Поттера. Иллюстрированное неофициальное издание</th>\n",
       "      <td>\\r\\nТом Гримм</td>\n",
       "      <td>в наличии</td>\n",
       "      <td>1269.0</td>\n",
       "      <td>https://www.bgshop.ru//Catalog/GetFullDescript...</td>\n",
       "    </tr>\n",
       "    <tr>\n",
       "      <th>Принципы и парадоксы.25 лет Студии Артемия Лебедева</th>\n",
       "      <td>\\n</td>\n",
       "      <td>в наличии</td>\n",
       "      <td>4749.0</td>\n",
       "      <td>https://www.bgshop.ru//Catalog/GetFullDescript...</td>\n",
       "    </tr>\n",
       "    <tr>\n",
       "      <th>Художница из Джайпура</th>\n",
       "      <td>\\r\\nАлка Джоши</td>\n",
       "      <td>в наличии</td>\n",
       "      <td>689.0</td>\n",
       "      <td>https://www.bgshop.ru//Catalog/GetFullDescript...</td>\n",
       "    </tr>\n",
       "    <tr>\n",
       "      <th>Вокруг хлеба и сыра. Домашний творог, мацони, рикотта, брынза и сырники в компании с пряной сдобой, питой и лепешками.</th>\n",
       "      <td>\\r\\nАся Чудновская</td>\n",
       "      <td>в наличии</td>\n",
       "      <td>1279.0</td>\n",
       "      <td>https://www.bgshop.ru//Catalog/GetFullDescript...</td>\n",
       "    </tr>\n",
       "    <tr>\n",
       "      <th>Вкусные мечты. Чизкейки, пирожные, банкейки и невероятные торты.</th>\n",
       "      <td>\\r\\nМария Белая</td>\n",
       "      <td>в наличии</td>\n",
       "      <td>1129.0</td>\n",
       "      <td>https://www.bgshop.ru//Catalog/GetFullDescript...</td>\n",
       "    </tr>\n",
       "    <tr>\n",
       "      <th>Once Upon a Time in Hollywood</th>\n",
       "      <td>\\r\\nTarantino, Quentin</td>\n",
       "      <td></td>\n",
       "      <td>1149.0</td>\n",
       "      <td>https://www.bgshop.ru//Catalog/GetFullDescript...</td>\n",
       "    </tr>\n",
       "    <tr>\n",
       "      <th>Искусство XX века. Ключи к пониманию. События, художники, эксперименты</th>\n",
       "      <td>\\r\\nАлина Сергеевна Аксенова</td>\n",
       "      <td>в наличии</td>\n",
       "      <td>659.0</td>\n",
       "      <td>https://www.bgshop.ru//Catalog/GetFullDescript...</td>\n",
       "    </tr>\n",
       "    <tr>\n",
       "      <th>Четыре ветра</th>\n",
       "      <td>\\r\\nКристин Ханна</td>\n",
       "      <td>в наличии</td>\n",
       "      <td>769.0</td>\n",
       "      <td>https://www.bgshop.ru//Catalog/GetFullDescript...</td>\n",
       "    </tr>\n",
       "    <tr>\n",
       "      <th>Совдетство</th>\n",
       "      <td>\\r\\nЮрий Михайлович Поляков</td>\n",
       "      <td>в наличии</td>\n",
       "      <td>659.0</td>\n",
       "      <td>https://www.bgshop.ru//Catalog/GetFullDescript...</td>\n",
       "    </tr>\n",
       "    <tr>\n",
       "      <th>Общага-на-Крови (Кинообложка)</th>\n",
       "      <td>\\r\\nАлексей Иванов</td>\n",
       "      <td>в наличии</td>\n",
       "      <td>649.0</td>\n",
       "      <td>https://www.bgshop.ru//Catalog/GetFullDescript...</td>\n",
       "    </tr>\n",
       "    <tr>\n",
       "      <th>Миофасциальный релиз: эффективные методики растяжения мышц и фасций для предупреждения травм и избавления от хронических болей</th>\n",
       "      <td>\\r\\nВиталий Александрович Епифанов</td>\n",
       "      <td>в наличии</td>\n",
       "      <td>1059.0</td>\n",
       "      <td>https://www.bgshop.ru//Catalog/GetFullDescript...</td>\n",
       "    </tr>\n",
       "    <tr>\n",
       "      <th>Золотой жук мисс Бенсон</th>\n",
       "      <td>\\r\\nPейчел Джойс</td>\n",
       "      <td>в наличии</td>\n",
       "      <td>609.0</td>\n",
       "      <td>https://www.bgshop.ru//Catalog/GetFullDescript...</td>\n",
       "    </tr>\n",
       "    <tr>\n",
       "      <th>Сороки-убийцы</th>\n",
       "      <td>\\r\\nЭнтони Горовиц</td>\n",
       "      <td>в наличии</td>\n",
       "      <td>669.0</td>\n",
       "      <td>https://www.bgshop.ru//Catalog/GetFullDescript...</td>\n",
       "    </tr>\n",
       "    <tr>\n",
       "      <th>Клуб убийств по четвергам</th>\n",
       "      <td>\\r\\nРичард Осман</td>\n",
       "      <td>в наличии</td>\n",
       "      <td>729.0</td>\n",
       "      <td>https://www.bgshop.ru//Catalog/GetFullDescript...</td>\n",
       "    </tr>\n",
       "    <tr>\n",
       "      <th>Дюна</th>\n",
       "      <td>\\r\\nФрэнк Герберт</td>\n",
       "      <td>в наличии</td>\n",
       "      <td>659.0</td>\n",
       "      <td>https://www.bgshop.ru//Catalog/GetFullDescript...</td>\n",
       "    </tr>\n",
       "    <tr>\n",
       "      <th>Перевод с подстрочника</th>\n",
       "      <td>\\r\\nЕвгений Чижов</td>\n",
       "      <td></td>\n",
       "      <td>719.0</td>\n",
       "      <td>https://www.bgshop.ru//Catalog/GetFullDescript...</td>\n",
       "    </tr>\n",
       "    <tr>\n",
       "      <th>Жизнь сквозь смех. Реальная история нереальной женщины</th>\n",
       "      <td>\\r\\nМарина Гавриловна Федункив</td>\n",
       "      <td>в наличии</td>\n",
       "      <td>559.0</td>\n",
       "      <td>https://www.bgshop.ru//Catalog/GetFullDescript...</td>\n",
       "    </tr>\n",
       "    <tr>\n",
       "      <th>Все ее удовольствия</th>\n",
       "      <td>\\r\\nРинат Валиуллин</td>\n",
       "      <td>в наличии</td>\n",
       "      <td>479.0</td>\n",
       "      <td>https://www.bgshop.ru//Catalog/GetFullDescript...</td>\n",
       "    </tr>\n",
       "    <tr>\n",
       "      <th>Вельш-корги-пемброк</th>\n",
       "      <td>\\r\\nШилова О.Б.</td>\n",
       "      <td>в наличии</td>\n",
       "      <td>1219.0</td>\n",
       "      <td>https://www.bgshop.ru//Catalog/GetFullDescript...</td>\n",
       "    </tr>\n",
       "    <tr>\n",
       "      <th>Брать, давать и наслаждаться. Как оставаться в ресурсе, что бы с вами ни происходило</th>\n",
       "      <td>\\r\\nТатьяна Владимировна Мужицкая</td>\n",
       "      <td>в наличии</td>\n",
       "      <td>859.0</td>\n",
       "      <td>https://www.bgshop.ru//Catalog/GetFullDescript...</td>\n",
       "    </tr>\n",
       "    <tr>\n",
       "      <th>Блюстители</th>\n",
       "      <td>\\r\\nДжон Гришэм</td>\n",
       "      <td>в наличии</td>\n",
       "      <td>559.0</td>\n",
       "      <td>https://www.bgshop.ru//Catalog/GetFullDescript...</td>\n",
       "    </tr>\n",
       "    <tr>\n",
       "      <th>Пост</th>\n",
       "      <td>\\r\\nДмитрий Алексеевич Глуховский</td>\n",
       "      <td>в наличии</td>\n",
       "      <td>891.0</td>\n",
       "      <td>https://www.bgshop.ru//Catalog/GetFullDescript...</td>\n",
       "    </tr>\n",
       "  </tbody>\n",
       "</table>\n",
       "</div>"
      ],
      "text/plain": [
       "                                                                                              Автор  \\\n",
       "Вся твоя ложь                                                              \\r\\nТайс Г.                \n",
       "Преступления любви                                                  \\r\\nМаркиз  де Сад                \n",
       "Кровь и мёд                                                          \\r\\nШелби Махёрин                \n",
       "ВДНХ. Мечта о прекрасном, несбыточном. Живая ис...                 \\r\\nПанкратов Г. В.                \n",
       "Вселенная Хаяо Миядзаки. Картины великого анима...                    \\r\\nГаэль Бертон                \n",
       "Сумерки хищников                                                         \\r\\nМарк Леви                \n",
       "Порог                                                                     \\r\\nОлег Рой                \n",
       "Двойной контроль                                                  \\r\\nЭдвард Сент-Обин                \n",
       "Рождественский Поросёнок                                             \\r\\nРоулинг Дж.К.                \n",
       "Вакцинация. Спасение человечества или всеобщая ...              \\r\\nВалентин Катасонов                \n",
       "Сердца четырех                                                    \\r\\nВладимир Сорокин                \n",
       "One Two Three Four. \"Битлз\" в ритме времени                            \\r\\nКрейг Браун                \n",
       "Древний. Предыстория. Книга восьмая. Предрассве...       \\r\\nСергей Сергеевич Тармашев                \n",
       "Скринлайф: В поисках нового языка кино                              \\r\\nБекмамбетов Т.                \n",
       "Кулинарная книга Гарри Поттера. Иллюстрированно...                       \\r\\nТом Гримм                \n",
       "Принципы и парадоксы.25 лет Студии Артемия Лебе...                                               \\n   \n",
       "Художница из Джайпура                                                   \\r\\nАлка Джоши                \n",
       "Вокруг хлеба и сыра. Домашний творог, мацони, р...                  \\r\\nАся Чудновская                \n",
       "Вкусные мечты. Чизкейки, пирожные, банкейки и н...                     \\r\\nМария Белая                \n",
       "Once Upon a Time in Hollywood                                   \\r\\nTarantino, Quentin                \n",
       "Искусство XX века. Ключи к пониманию. События, ...        \\r\\nАлина Сергеевна Аксенова                \n",
       "Четыре ветра                                                         \\r\\nКристин Ханна                \n",
       "Совдетство                                                 \\r\\nЮрий Михайлович Поляков                \n",
       "Общага-на-Крови (Кинообложка)                                       \\r\\nАлексей Иванов                \n",
       "Миофасциальный релиз: эффективные методики раст...  \\r\\nВиталий Александрович Епифанов                \n",
       "Золотой жук мисс Бенсон                                               \\r\\nPейчел Джойс                \n",
       "Сороки-убийцы                                                       \\r\\nЭнтони Горовиц                \n",
       "Клуб убийств по четвергам                                             \\r\\nРичард Осман                \n",
       "Дюна                                                                 \\r\\nФрэнк Герберт                \n",
       "Перевод с подстрочника                                               \\r\\nЕвгений Чижов                \n",
       "Жизнь сквозь смех. Реальная история нереальной ...      \\r\\nМарина Гавриловна Федункив                \n",
       "Все ее удовольствия                                                \\r\\nРинат Валиуллин                \n",
       "Вельш-корги-пемброк                                                    \\r\\nШилова О.Б.                \n",
       "Брать, давать и наслаждаться. Как оставаться в ...   \\r\\nТатьяна Владимировна Мужицкая                \n",
       "Блюстители                                                             \\r\\nДжон Гришэм                \n",
       "Пост                                                 \\r\\nДмитрий Алексеевич Глуховский                \n",
       "\n",
       "                                                       Статус    Цена  \\\n",
       "Вся твоя ложь                                       в наличии   729.0   \n",
       "Преступления любви                                  в наличии   649.0   \n",
       "Кровь и мёд                                                     719.0   \n",
       "ВДНХ. Мечта о прекрасном, несбыточном. Живая ис...  в наличии  1019.0   \n",
       "Вселенная Хаяо Миядзаки. Картины великого анима...  в наличии   759.0   \n",
       "Сумерки хищников                                    в наличии   509.0   \n",
       "Порог                                               в наличии   819.0   \n",
       "Двойной контроль                                    в наличии   669.0   \n",
       "Рождественский Поросёнок                            в наличии   583.0   \n",
       "Вакцинация. Спасение человечества или всеобщая ...             1059.0   \n",
       "Сердца четырех                                                  659.0   \n",
       "One Two Three Four. \"Битлз\" в ритме времени                    1279.0   \n",
       "Древний. Предыстория. Книга восьмая. Предрассве...              659.0   \n",
       "Скринлайф: В поисках нового языка кино              в наличии   709.0   \n",
       "Кулинарная книга Гарри Поттера. Иллюстрированно...  в наличии  1269.0   \n",
       "Принципы и парадоксы.25 лет Студии Артемия Лебе...  в наличии  4749.0   \n",
       "Художница из Джайпура                               в наличии   689.0   \n",
       "Вокруг хлеба и сыра. Домашний творог, мацони, р...  в наличии  1279.0   \n",
       "Вкусные мечты. Чизкейки, пирожные, банкейки и н...  в наличии  1129.0   \n",
       "Once Upon a Time in Hollywood                                  1149.0   \n",
       "Искусство XX века. Ключи к пониманию. События, ...  в наличии   659.0   \n",
       "Четыре ветра                                        в наличии   769.0   \n",
       "Совдетство                                          в наличии   659.0   \n",
       "Общага-на-Крови (Кинообложка)                       в наличии   649.0   \n",
       "Миофасциальный релиз: эффективные методики раст...  в наличии  1059.0   \n",
       "Золотой жук мисс Бенсон                             в наличии   609.0   \n",
       "Сороки-убийцы                                       в наличии   669.0   \n",
       "Клуб убийств по четвергам                           в наличии   729.0   \n",
       "Дюна                                                в наличии   659.0   \n",
       "Перевод с подстрочника                                          719.0   \n",
       "Жизнь сквозь смех. Реальная история нереальной ...  в наличии   559.0   \n",
       "Все ее удовольствия                                 в наличии   479.0   \n",
       "Вельш-корги-пемброк                                 в наличии  1219.0   \n",
       "Брать, давать и наслаждаться. Как оставаться в ...  в наличии   859.0   \n",
       "Блюстители                                          в наличии   559.0   \n",
       "Пост                                                в наличии   891.0   \n",
       "\n",
       "                                                                                               Ссылка  \n",
       "Вся твоя ложь                                       https://www.bgshop.ru//Catalog/GetFullDescript...  \n",
       "Преступления любви                                  https://www.bgshop.ru//Catalog/GetFullDescript...  \n",
       "Кровь и мёд                                         https://www.bgshop.ru//Catalog/GetFullDescript...  \n",
       "ВДНХ. Мечта о прекрасном, несбыточном. Живая ис...  https://www.bgshop.ru//Catalog/GetFullDescript...  \n",
       "Вселенная Хаяо Миядзаки. Картины великого анима...  https://www.bgshop.ru//Catalog/GetFullDescript...  \n",
       "Сумерки хищников                                    https://www.bgshop.ru//Catalog/GetFullDescript...  \n",
       "Порог                                               https://www.bgshop.ru//Catalog/GetFullDescript...  \n",
       "Двойной контроль                                    https://www.bgshop.ru//Catalog/GetFullDescript...  \n",
       "Рождественский Поросёнок                            https://www.bgshop.ru//Catalog/GetFullDescript...  \n",
       "Вакцинация. Спасение человечества или всеобщая ...  https://www.bgshop.ru//Catalog/GetFullDescript...  \n",
       "Сердца четырех                                      https://www.bgshop.ru//Catalog/GetFullDescript...  \n",
       "One Two Three Four. \"Битлз\" в ритме времени         https://www.bgshop.ru//Catalog/GetFullDescript...  \n",
       "Древний. Предыстория. Книга восьмая. Предрассве...  https://www.bgshop.ru//Catalog/GetFullDescript...  \n",
       "Скринлайф: В поисках нового языка кино              https://www.bgshop.ru//Catalog/GetFullDescript...  \n",
       "Кулинарная книга Гарри Поттера. Иллюстрированно...  https://www.bgshop.ru//Catalog/GetFullDescript...  \n",
       "Принципы и парадоксы.25 лет Студии Артемия Лебе...  https://www.bgshop.ru//Catalog/GetFullDescript...  \n",
       "Художница из Джайпура                               https://www.bgshop.ru//Catalog/GetFullDescript...  \n",
       "Вокруг хлеба и сыра. Домашний творог, мацони, р...  https://www.bgshop.ru//Catalog/GetFullDescript...  \n",
       "Вкусные мечты. Чизкейки, пирожные, банкейки и н...  https://www.bgshop.ru//Catalog/GetFullDescript...  \n",
       "Once Upon a Time in Hollywood                       https://www.bgshop.ru//Catalog/GetFullDescript...  \n",
       "Искусство XX века. Ключи к пониманию. События, ...  https://www.bgshop.ru//Catalog/GetFullDescript...  \n",
       "Четыре ветра                                        https://www.bgshop.ru//Catalog/GetFullDescript...  \n",
       "Совдетство                                          https://www.bgshop.ru//Catalog/GetFullDescript...  \n",
       "Общага-на-Крови (Кинообложка)                       https://www.bgshop.ru//Catalog/GetFullDescript...  \n",
       "Миофасциальный релиз: эффективные методики раст...  https://www.bgshop.ru//Catalog/GetFullDescript...  \n",
       "Золотой жук мисс Бенсон                             https://www.bgshop.ru//Catalog/GetFullDescript...  \n",
       "Сороки-убийцы                                       https://www.bgshop.ru//Catalog/GetFullDescript...  \n",
       "Клуб убийств по четвергам                           https://www.bgshop.ru//Catalog/GetFullDescript...  \n",
       "Дюна                                                https://www.bgshop.ru//Catalog/GetFullDescript...  \n",
       "Перевод с подстрочника                              https://www.bgshop.ru//Catalog/GetFullDescript...  \n",
       "Жизнь сквозь смех. Реальная история нереальной ...  https://www.bgshop.ru//Catalog/GetFullDescript...  \n",
       "Все ее удовольствия                                 https://www.bgshop.ru//Catalog/GetFullDescript...  \n",
       "Вельш-корги-пемброк                                 https://www.bgshop.ru//Catalog/GetFullDescript...  \n",
       "Брать, давать и наслаждаться. Как оставаться в ...  https://www.bgshop.ru//Catalog/GetFullDescript...  \n",
       "Блюстители                                          https://www.bgshop.ru//Catalog/GetFullDescript...  \n",
       "Пост                                                https://www.bgshop.ru//Catalog/GetFullDescript...  "
      ]
     },
     "execution_count": 53,
     "metadata": {},
     "output_type": "execute_result"
    }
   ],
   "source": [
    "df = pd.DataFrame(books, index = ['Автор', 'Статус', 'Цена', 'Ссылка']).transpose()\n",
    "df"
   ]
  },
  {
   "cell_type": "markdown",
   "metadata": {},
   "source": [
    "## Задание 4\n",
    "\n",
    "Дана ссылка на [сайт газеты \"Московский комсомолец\"](https://www.mk.ru/news/). Соберите ссылки на новости первой страницы, время публикации, заголовок. Пройдите по ссылкам и соберите количество просмотров и хэштеги статьи. "
   ]
  },
  {
   "cell_type": "code",
   "execution_count": 54,
   "metadata": {},
   "outputs": [],
   "source": [
    "url = 'https://www.mk.ru/news/'\n",
    "page = requests.get(url)\n",
    "soup = BeautifulSoup(page.text)"
   ]
  },
  {
   "cell_type": "code",
   "execution_count": 55,
   "metadata": {},
   "outputs": [
    {
     "data": {
      "text/plain": [
       "<li class=\"news-listing__item news-listing__item_hot\">\n",
       "<a class=\"news-listing__item-link\" href=\"https://www.mk.ru/incident/2021/10/16/v-moskve-zaderzhany-kavkazcy-posle-vtorogo-incidenta-v-metro.html\">\n",
       "<span class=\"news-listing__item-time\">09:41</span>\n",
       "<h3 class=\"news-listing__item-title\">В Москве задержаны кавказцы после второго инцидента в метро</h3>\n",
       "</a>\n",
       "</li>"
      ]
     },
     "execution_count": 55,
     "metadata": {},
     "output_type": "execute_result"
    }
   ],
   "source": [
    "soup.find_all('li', {'class':'news-listing__item'})[0]"
   ]
  },
  {
   "cell_type": "code",
   "execution_count": 56,
   "metadata": {},
   "outputs": [
    {
     "data": {
      "text/plain": [
       "'https://www.mk.ru/incident/2021/10/16/v-moskve-zaderzhany-kavkazcy-posle-vtorogo-incidenta-v-metro.html'"
      ]
     },
     "execution_count": 56,
     "metadata": {},
     "output_type": "execute_result"
    }
   ],
   "source": [
    "url0 = soup.find_all('li', {'class':'news-listing__item'})[0].find('a').get('href')\n",
    "url0"
   ]
  },
  {
   "cell_type": "code",
   "execution_count": 57,
   "metadata": {},
   "outputs": [
    {
     "data": {
      "text/plain": [
       "'09:41'"
      ]
     },
     "execution_count": 57,
     "metadata": {},
     "output_type": "execute_result"
    }
   ],
   "source": [
    "time = soup.find_all('li', {'class':'news-listing__item'})[0].find('span').text\n",
    "time"
   ]
  },
  {
   "cell_type": "code",
   "execution_count": 58,
   "metadata": {},
   "outputs": [
    {
     "data": {
      "text/plain": [
       "'В Москве задержаны кавказцы после второго инцидента в метро'"
      ]
     },
     "execution_count": 58,
     "metadata": {},
     "output_type": "execute_result"
    }
   ],
   "source": [
    "title = soup.find_all('li', {'class':'news-listing__item'})[0].find('h3').text\n",
    "title"
   ]
  },
  {
   "cell_type": "code",
   "execution_count": 59,
   "metadata": {},
   "outputs": [],
   "source": [
    "page0 = requests.get(url0)\n",
    "soup0 = BeautifulSoup(page0.text)"
   ]
  },
  {
   "cell_type": "code",
   "execution_count": 60,
   "metadata": {},
   "outputs": [
    {
     "data": {
      "text/plain": [
       "'1275'"
      ]
     },
     "execution_count": 60,
     "metadata": {},
     "output_type": "execute_result"
    }
   ],
   "source": [
    "soup0.find_all('span', {'class':'meta__item_views'})[0].text.strip()"
   ]
  },
  {
   "cell_type": "code",
   "execution_count": 61,
   "metadata": {},
   "outputs": [
    {
     "data": {
      "text/plain": [
       "'\\nПолиция\\nСКР\\nМосква\\n'"
      ]
     },
     "execution_count": 61,
     "metadata": {},
     "output_type": "execute_result"
    }
   ],
   "source": [
    "soup0.find('div', {'class':'article__tag'}).text"
   ]
  },
  {
   "cell_type": "code",
   "execution_count": 62,
   "metadata": {},
   "outputs": [
    {
     "data": {
      "text/plain": [
       "['Полиция', 'СКР', 'Москва']"
      ]
     },
     "execution_count": 62,
     "metadata": {},
     "output_type": "execute_result"
    }
   ],
   "source": [
    "re.findall(r'[^\\n]+', soup0.find('div', {'class':'article__tag'}).text)"
   ]
  },
  {
   "cell_type": "code",
   "execution_count": 64,
   "metadata": {},
   "outputs": [
    {
     "ename": "ConnectionError",
     "evalue": "HTTPSConnectionPool(host='www.mk.ru', port=443): Max retries exceeded with url: /social/2021/10/16/uspenskaya-pokazala-pikantnoe-foto-s-baskovym.html (Caused by NewConnectionError('<urllib3.connection.HTTPSConnection object at 0x7ff52736eb50>: Failed to establish a new connection: [Errno 60] Operation timed out'))",
     "output_type": "error",
     "traceback": [
      "\u001b[0;31m---------------------------------------------------------------------------\u001b[0m",
      "\u001b[0;31mTimeoutError\u001b[0m                              Traceback (most recent call last)",
      "\u001b[0;32m~/opt/anaconda3/lib/python3.8/site-packages/urllib3/connection.py\u001b[0m in \u001b[0;36m_new_conn\u001b[0;34m(self)\u001b[0m\n\u001b[1;32m    168\u001b[0m         \u001b[0;32mtry\u001b[0m\u001b[0;34m:\u001b[0m\u001b[0;34m\u001b[0m\u001b[0;34m\u001b[0m\u001b[0m\n\u001b[0;32m--> 169\u001b[0;31m             conn = connection.create_connection(\n\u001b[0m\u001b[1;32m    170\u001b[0m                 \u001b[0;34m(\u001b[0m\u001b[0mself\u001b[0m\u001b[0;34m.\u001b[0m\u001b[0m_dns_host\u001b[0m\u001b[0;34m,\u001b[0m \u001b[0mself\u001b[0m\u001b[0;34m.\u001b[0m\u001b[0mport\u001b[0m\u001b[0;34m)\u001b[0m\u001b[0;34m,\u001b[0m \u001b[0mself\u001b[0m\u001b[0;34m.\u001b[0m\u001b[0mtimeout\u001b[0m\u001b[0;34m,\u001b[0m \u001b[0;34m**\u001b[0m\u001b[0mextra_kw\u001b[0m\u001b[0;34m\u001b[0m\u001b[0;34m\u001b[0m\u001b[0m\n",
      "\u001b[0;32m~/opt/anaconda3/lib/python3.8/site-packages/urllib3/util/connection.py\u001b[0m in \u001b[0;36mcreate_connection\u001b[0;34m(address, timeout, source_address, socket_options)\u001b[0m\n\u001b[1;32m     95\u001b[0m     \u001b[0;32mif\u001b[0m \u001b[0merr\u001b[0m \u001b[0;32mis\u001b[0m \u001b[0;32mnot\u001b[0m \u001b[0;32mNone\u001b[0m\u001b[0;34m:\u001b[0m\u001b[0;34m\u001b[0m\u001b[0;34m\u001b[0m\u001b[0m\n\u001b[0;32m---> 96\u001b[0;31m         \u001b[0;32mraise\u001b[0m \u001b[0merr\u001b[0m\u001b[0;34m\u001b[0m\u001b[0;34m\u001b[0m\u001b[0m\n\u001b[0m\u001b[1;32m     97\u001b[0m \u001b[0;34m\u001b[0m\u001b[0m\n",
      "\u001b[0;32m~/opt/anaconda3/lib/python3.8/site-packages/urllib3/util/connection.py\u001b[0m in \u001b[0;36mcreate_connection\u001b[0;34m(address, timeout, source_address, socket_options)\u001b[0m\n\u001b[1;32m     85\u001b[0m                 \u001b[0msock\u001b[0m\u001b[0;34m.\u001b[0m\u001b[0mbind\u001b[0m\u001b[0;34m(\u001b[0m\u001b[0msource_address\u001b[0m\u001b[0;34m)\u001b[0m\u001b[0;34m\u001b[0m\u001b[0;34m\u001b[0m\u001b[0m\n\u001b[0;32m---> 86\u001b[0;31m             \u001b[0msock\u001b[0m\u001b[0;34m.\u001b[0m\u001b[0mconnect\u001b[0m\u001b[0;34m(\u001b[0m\u001b[0msa\u001b[0m\u001b[0;34m)\u001b[0m\u001b[0;34m\u001b[0m\u001b[0;34m\u001b[0m\u001b[0m\n\u001b[0m\u001b[1;32m     87\u001b[0m             \u001b[0;32mreturn\u001b[0m \u001b[0msock\u001b[0m\u001b[0;34m\u001b[0m\u001b[0;34m\u001b[0m\u001b[0m\n",
      "\u001b[0;31mTimeoutError\u001b[0m: [Errno 60] Operation timed out",
      "\nDuring handling of the above exception, another exception occurred:\n",
      "\u001b[0;31mNewConnectionError\u001b[0m                        Traceback (most recent call last)",
      "\u001b[0;32m~/opt/anaconda3/lib/python3.8/site-packages/urllib3/connectionpool.py\u001b[0m in \u001b[0;36murlopen\u001b[0;34m(self, method, url, body, headers, retries, redirect, assert_same_host, timeout, pool_timeout, release_conn, chunked, body_pos, **response_kw)\u001b[0m\n\u001b[1;32m    698\u001b[0m             \u001b[0;31m# Make the request on the httplib connection object.\u001b[0m\u001b[0;34m\u001b[0m\u001b[0;34m\u001b[0m\u001b[0;34m\u001b[0m\u001b[0m\n\u001b[0;32m--> 699\u001b[0;31m             httplib_response = self._make_request(\n\u001b[0m\u001b[1;32m    700\u001b[0m                 \u001b[0mconn\u001b[0m\u001b[0;34m,\u001b[0m\u001b[0;34m\u001b[0m\u001b[0;34m\u001b[0m\u001b[0m\n",
      "\u001b[0;32m~/opt/anaconda3/lib/python3.8/site-packages/urllib3/connectionpool.py\u001b[0m in \u001b[0;36m_make_request\u001b[0;34m(self, conn, method, url, timeout, chunked, **httplib_request_kw)\u001b[0m\n\u001b[1;32m    381\u001b[0m         \u001b[0;32mtry\u001b[0m\u001b[0;34m:\u001b[0m\u001b[0;34m\u001b[0m\u001b[0;34m\u001b[0m\u001b[0m\n\u001b[0;32m--> 382\u001b[0;31m             \u001b[0mself\u001b[0m\u001b[0;34m.\u001b[0m\u001b[0m_validate_conn\u001b[0m\u001b[0;34m(\u001b[0m\u001b[0mconn\u001b[0m\u001b[0;34m)\u001b[0m\u001b[0;34m\u001b[0m\u001b[0;34m\u001b[0m\u001b[0m\n\u001b[0m\u001b[1;32m    383\u001b[0m         \u001b[0;32mexcept\u001b[0m \u001b[0;34m(\u001b[0m\u001b[0mSocketTimeout\u001b[0m\u001b[0;34m,\u001b[0m \u001b[0mBaseSSLError\u001b[0m\u001b[0;34m)\u001b[0m \u001b[0;32mas\u001b[0m \u001b[0me\u001b[0m\u001b[0;34m:\u001b[0m\u001b[0;34m\u001b[0m\u001b[0;34m\u001b[0m\u001b[0m\n",
      "\u001b[0;32m~/opt/anaconda3/lib/python3.8/site-packages/urllib3/connectionpool.py\u001b[0m in \u001b[0;36m_validate_conn\u001b[0;34m(self, conn)\u001b[0m\n\u001b[1;32m   1009\u001b[0m         \u001b[0;32mif\u001b[0m \u001b[0;32mnot\u001b[0m \u001b[0mgetattr\u001b[0m\u001b[0;34m(\u001b[0m\u001b[0mconn\u001b[0m\u001b[0;34m,\u001b[0m \u001b[0;34m\"sock\"\u001b[0m\u001b[0;34m,\u001b[0m \u001b[0;32mNone\u001b[0m\u001b[0;34m)\u001b[0m\u001b[0;34m:\u001b[0m  \u001b[0;31m# AppEngine might not have  `.sock`\u001b[0m\u001b[0;34m\u001b[0m\u001b[0;34m\u001b[0m\u001b[0m\n\u001b[0;32m-> 1010\u001b[0;31m             \u001b[0mconn\u001b[0m\u001b[0;34m.\u001b[0m\u001b[0mconnect\u001b[0m\u001b[0;34m(\u001b[0m\u001b[0;34m)\u001b[0m\u001b[0;34m\u001b[0m\u001b[0;34m\u001b[0m\u001b[0m\n\u001b[0m\u001b[1;32m   1011\u001b[0m \u001b[0;34m\u001b[0m\u001b[0m\n",
      "\u001b[0;32m~/opt/anaconda3/lib/python3.8/site-packages/urllib3/connection.py\u001b[0m in \u001b[0;36mconnect\u001b[0;34m(self)\u001b[0m\n\u001b[1;32m    352\u001b[0m         \u001b[0;31m# Add certificate verification\u001b[0m\u001b[0;34m\u001b[0m\u001b[0;34m\u001b[0m\u001b[0;34m\u001b[0m\u001b[0m\n\u001b[0;32m--> 353\u001b[0;31m         \u001b[0mconn\u001b[0m \u001b[0;34m=\u001b[0m \u001b[0mself\u001b[0m\u001b[0;34m.\u001b[0m\u001b[0m_new_conn\u001b[0m\u001b[0;34m(\u001b[0m\u001b[0;34m)\u001b[0m\u001b[0;34m\u001b[0m\u001b[0;34m\u001b[0m\u001b[0m\n\u001b[0m\u001b[1;32m    354\u001b[0m         \u001b[0mhostname\u001b[0m \u001b[0;34m=\u001b[0m \u001b[0mself\u001b[0m\u001b[0;34m.\u001b[0m\u001b[0mhost\u001b[0m\u001b[0;34m\u001b[0m\u001b[0;34m\u001b[0m\u001b[0m\n",
      "\u001b[0;32m~/opt/anaconda3/lib/python3.8/site-packages/urllib3/connection.py\u001b[0m in \u001b[0;36m_new_conn\u001b[0;34m(self)\u001b[0m\n\u001b[1;32m    180\u001b[0m         \u001b[0;32mexcept\u001b[0m \u001b[0mSocketError\u001b[0m \u001b[0;32mas\u001b[0m \u001b[0me\u001b[0m\u001b[0;34m:\u001b[0m\u001b[0;34m\u001b[0m\u001b[0;34m\u001b[0m\u001b[0m\n\u001b[0;32m--> 181\u001b[0;31m             raise NewConnectionError(\n\u001b[0m\u001b[1;32m    182\u001b[0m                 \u001b[0mself\u001b[0m\u001b[0;34m,\u001b[0m \u001b[0;34m\"Failed to establish a new connection: %s\"\u001b[0m \u001b[0;34m%\u001b[0m \u001b[0me\u001b[0m\u001b[0;34m\u001b[0m\u001b[0;34m\u001b[0m\u001b[0m\n",
      "\u001b[0;31mNewConnectionError\u001b[0m: <urllib3.connection.HTTPSConnection object at 0x7ff52736eb50>: Failed to establish a new connection: [Errno 60] Operation timed out",
      "\nDuring handling of the above exception, another exception occurred:\n",
      "\u001b[0;31mMaxRetryError\u001b[0m                             Traceback (most recent call last)",
      "\u001b[0;32m~/opt/anaconda3/lib/python3.8/site-packages/requests/adapters.py\u001b[0m in \u001b[0;36msend\u001b[0;34m(self, request, stream, timeout, verify, cert, proxies)\u001b[0m\n\u001b[1;32m    438\u001b[0m             \u001b[0;32mif\u001b[0m \u001b[0;32mnot\u001b[0m \u001b[0mchunked\u001b[0m\u001b[0;34m:\u001b[0m\u001b[0;34m\u001b[0m\u001b[0;34m\u001b[0m\u001b[0m\n\u001b[0;32m--> 439\u001b[0;31m                 resp = conn.urlopen(\n\u001b[0m\u001b[1;32m    440\u001b[0m                     \u001b[0mmethod\u001b[0m\u001b[0;34m=\u001b[0m\u001b[0mrequest\u001b[0m\u001b[0;34m.\u001b[0m\u001b[0mmethod\u001b[0m\u001b[0;34m,\u001b[0m\u001b[0;34m\u001b[0m\u001b[0;34m\u001b[0m\u001b[0m\n",
      "\u001b[0;32m~/opt/anaconda3/lib/python3.8/site-packages/urllib3/connectionpool.py\u001b[0m in \u001b[0;36murlopen\u001b[0;34m(self, method, url, body, headers, retries, redirect, assert_same_host, timeout, pool_timeout, release_conn, chunked, body_pos, **response_kw)\u001b[0m\n\u001b[1;32m    754\u001b[0m \u001b[0;34m\u001b[0m\u001b[0m\n\u001b[0;32m--> 755\u001b[0;31m             retries = retries.increment(\n\u001b[0m\u001b[1;32m    756\u001b[0m                 \u001b[0mmethod\u001b[0m\u001b[0;34m,\u001b[0m \u001b[0murl\u001b[0m\u001b[0;34m,\u001b[0m \u001b[0merror\u001b[0m\u001b[0;34m=\u001b[0m\u001b[0me\u001b[0m\u001b[0;34m,\u001b[0m \u001b[0m_pool\u001b[0m\u001b[0;34m=\u001b[0m\u001b[0mself\u001b[0m\u001b[0;34m,\u001b[0m \u001b[0m_stacktrace\u001b[0m\u001b[0;34m=\u001b[0m\u001b[0msys\u001b[0m\u001b[0;34m.\u001b[0m\u001b[0mexc_info\u001b[0m\u001b[0;34m(\u001b[0m\u001b[0;34m)\u001b[0m\u001b[0;34m[\u001b[0m\u001b[0;36m2\u001b[0m\u001b[0;34m]\u001b[0m\u001b[0;34m\u001b[0m\u001b[0;34m\u001b[0m\u001b[0m\n",
      "\u001b[0;32m~/opt/anaconda3/lib/python3.8/site-packages/urllib3/util/retry.py\u001b[0m in \u001b[0;36mincrement\u001b[0;34m(self, method, url, response, error, _pool, _stacktrace)\u001b[0m\n\u001b[1;32m    573\u001b[0m         \u001b[0;32mif\u001b[0m \u001b[0mnew_retry\u001b[0m\u001b[0;34m.\u001b[0m\u001b[0mis_exhausted\u001b[0m\u001b[0;34m(\u001b[0m\u001b[0;34m)\u001b[0m\u001b[0;34m:\u001b[0m\u001b[0;34m\u001b[0m\u001b[0;34m\u001b[0m\u001b[0m\n\u001b[0;32m--> 574\u001b[0;31m             \u001b[0;32mraise\u001b[0m \u001b[0mMaxRetryError\u001b[0m\u001b[0;34m(\u001b[0m\u001b[0m_pool\u001b[0m\u001b[0;34m,\u001b[0m \u001b[0murl\u001b[0m\u001b[0;34m,\u001b[0m \u001b[0merror\u001b[0m \u001b[0;32mor\u001b[0m \u001b[0mResponseError\u001b[0m\u001b[0;34m(\u001b[0m\u001b[0mcause\u001b[0m\u001b[0;34m)\u001b[0m\u001b[0;34m)\u001b[0m\u001b[0;34m\u001b[0m\u001b[0;34m\u001b[0m\u001b[0m\n\u001b[0m\u001b[1;32m    575\u001b[0m \u001b[0;34m\u001b[0m\u001b[0m\n",
      "\u001b[0;31mMaxRetryError\u001b[0m: HTTPSConnectionPool(host='www.mk.ru', port=443): Max retries exceeded with url: /social/2021/10/16/uspenskaya-pokazala-pikantnoe-foto-s-baskovym.html (Caused by NewConnectionError('<urllib3.connection.HTTPSConnection object at 0x7ff52736eb50>: Failed to establish a new connection: [Errno 60] Operation timed out'))",
      "\nDuring handling of the above exception, another exception occurred:\n",
      "\u001b[0;31mConnectionError\u001b[0m                           Traceback (most recent call last)",
      "\u001b[0;32m<ipython-input-64-8882adb9189c>\u001b[0m in \u001b[0;36m<module>\u001b[0;34m\u001b[0m\n\u001b[1;32m      5\u001b[0m     \u001b[0mtitle\u001b[0m \u001b[0;34m=\u001b[0m \u001b[0mi\u001b[0m\u001b[0;34m.\u001b[0m\u001b[0mfind\u001b[0m\u001b[0;34m(\u001b[0m\u001b[0;34m'h3'\u001b[0m\u001b[0;34m)\u001b[0m\u001b[0;34m.\u001b[0m\u001b[0mtext\u001b[0m\u001b[0;34m\u001b[0m\u001b[0;34m\u001b[0m\u001b[0m\n\u001b[1;32m      6\u001b[0m \u001b[0;34m\u001b[0m\u001b[0m\n\u001b[0;32m----> 7\u001b[0;31m     \u001b[0mpage0\u001b[0m \u001b[0;34m=\u001b[0m \u001b[0mrequests\u001b[0m\u001b[0;34m.\u001b[0m\u001b[0mget\u001b[0m\u001b[0;34m(\u001b[0m\u001b[0murl0\u001b[0m\u001b[0;34m)\u001b[0m\u001b[0;34m\u001b[0m\u001b[0;34m\u001b[0m\u001b[0m\n\u001b[0m\u001b[1;32m      8\u001b[0m     \u001b[0msoup0\u001b[0m \u001b[0;34m=\u001b[0m \u001b[0mBeautifulSoup\u001b[0m\u001b[0;34m(\u001b[0m\u001b[0mpage0\u001b[0m\u001b[0;34m.\u001b[0m\u001b[0mtext\u001b[0m\u001b[0;34m)\u001b[0m\u001b[0;34m\u001b[0m\u001b[0;34m\u001b[0m\u001b[0m\n\u001b[1;32m      9\u001b[0m     \u001b[0msleep\u001b[0m\u001b[0;34m(\u001b[0m\u001b[0;36m1\u001b[0m\u001b[0;34m)\u001b[0m\u001b[0;34m\u001b[0m\u001b[0;34m\u001b[0m\u001b[0m\n",
      "\u001b[0;32m~/opt/anaconda3/lib/python3.8/site-packages/requests/api.py\u001b[0m in \u001b[0;36mget\u001b[0;34m(url, params, **kwargs)\u001b[0m\n\u001b[1;32m     74\u001b[0m \u001b[0;34m\u001b[0m\u001b[0m\n\u001b[1;32m     75\u001b[0m     \u001b[0mkwargs\u001b[0m\u001b[0;34m.\u001b[0m\u001b[0msetdefault\u001b[0m\u001b[0;34m(\u001b[0m\u001b[0;34m'allow_redirects'\u001b[0m\u001b[0;34m,\u001b[0m \u001b[0;32mTrue\u001b[0m\u001b[0;34m)\u001b[0m\u001b[0;34m\u001b[0m\u001b[0;34m\u001b[0m\u001b[0m\n\u001b[0;32m---> 76\u001b[0;31m     \u001b[0;32mreturn\u001b[0m \u001b[0mrequest\u001b[0m\u001b[0;34m(\u001b[0m\u001b[0;34m'get'\u001b[0m\u001b[0;34m,\u001b[0m \u001b[0murl\u001b[0m\u001b[0;34m,\u001b[0m \u001b[0mparams\u001b[0m\u001b[0;34m=\u001b[0m\u001b[0mparams\u001b[0m\u001b[0;34m,\u001b[0m \u001b[0;34m**\u001b[0m\u001b[0mkwargs\u001b[0m\u001b[0;34m)\u001b[0m\u001b[0;34m\u001b[0m\u001b[0;34m\u001b[0m\u001b[0m\n\u001b[0m\u001b[1;32m     77\u001b[0m \u001b[0;34m\u001b[0m\u001b[0m\n\u001b[1;32m     78\u001b[0m \u001b[0;34m\u001b[0m\u001b[0m\n",
      "\u001b[0;32m~/opt/anaconda3/lib/python3.8/site-packages/requests/api.py\u001b[0m in \u001b[0;36mrequest\u001b[0;34m(method, url, **kwargs)\u001b[0m\n\u001b[1;32m     59\u001b[0m     \u001b[0;31m# cases, and look like a memory leak in others.\u001b[0m\u001b[0;34m\u001b[0m\u001b[0;34m\u001b[0m\u001b[0;34m\u001b[0m\u001b[0m\n\u001b[1;32m     60\u001b[0m     \u001b[0;32mwith\u001b[0m \u001b[0msessions\u001b[0m\u001b[0;34m.\u001b[0m\u001b[0mSession\u001b[0m\u001b[0;34m(\u001b[0m\u001b[0;34m)\u001b[0m \u001b[0;32mas\u001b[0m \u001b[0msession\u001b[0m\u001b[0;34m:\u001b[0m\u001b[0;34m\u001b[0m\u001b[0;34m\u001b[0m\u001b[0m\n\u001b[0;32m---> 61\u001b[0;31m         \u001b[0;32mreturn\u001b[0m \u001b[0msession\u001b[0m\u001b[0;34m.\u001b[0m\u001b[0mrequest\u001b[0m\u001b[0;34m(\u001b[0m\u001b[0mmethod\u001b[0m\u001b[0;34m=\u001b[0m\u001b[0mmethod\u001b[0m\u001b[0;34m,\u001b[0m \u001b[0murl\u001b[0m\u001b[0;34m=\u001b[0m\u001b[0murl\u001b[0m\u001b[0;34m,\u001b[0m \u001b[0;34m**\u001b[0m\u001b[0mkwargs\u001b[0m\u001b[0;34m)\u001b[0m\u001b[0;34m\u001b[0m\u001b[0;34m\u001b[0m\u001b[0m\n\u001b[0m\u001b[1;32m     62\u001b[0m \u001b[0;34m\u001b[0m\u001b[0m\n\u001b[1;32m     63\u001b[0m \u001b[0;34m\u001b[0m\u001b[0m\n",
      "\u001b[0;32m~/opt/anaconda3/lib/python3.8/site-packages/requests/sessions.py\u001b[0m in \u001b[0;36mrequest\u001b[0;34m(self, method, url, params, data, headers, cookies, files, auth, timeout, allow_redirects, proxies, hooks, stream, verify, cert, json)\u001b[0m\n\u001b[1;32m    540\u001b[0m         }\n\u001b[1;32m    541\u001b[0m         \u001b[0msend_kwargs\u001b[0m\u001b[0;34m.\u001b[0m\u001b[0mupdate\u001b[0m\u001b[0;34m(\u001b[0m\u001b[0msettings\u001b[0m\u001b[0;34m)\u001b[0m\u001b[0;34m\u001b[0m\u001b[0;34m\u001b[0m\u001b[0m\n\u001b[0;32m--> 542\u001b[0;31m         \u001b[0mresp\u001b[0m \u001b[0;34m=\u001b[0m \u001b[0mself\u001b[0m\u001b[0;34m.\u001b[0m\u001b[0msend\u001b[0m\u001b[0;34m(\u001b[0m\u001b[0mprep\u001b[0m\u001b[0;34m,\u001b[0m \u001b[0;34m**\u001b[0m\u001b[0msend_kwargs\u001b[0m\u001b[0;34m)\u001b[0m\u001b[0;34m\u001b[0m\u001b[0;34m\u001b[0m\u001b[0m\n\u001b[0m\u001b[1;32m    543\u001b[0m \u001b[0;34m\u001b[0m\u001b[0m\n\u001b[1;32m    544\u001b[0m         \u001b[0;32mreturn\u001b[0m \u001b[0mresp\u001b[0m\u001b[0;34m\u001b[0m\u001b[0;34m\u001b[0m\u001b[0m\n",
      "\u001b[0;32m~/opt/anaconda3/lib/python3.8/site-packages/requests/sessions.py\u001b[0m in \u001b[0;36msend\u001b[0;34m(self, request, **kwargs)\u001b[0m\n\u001b[1;32m    653\u001b[0m \u001b[0;34m\u001b[0m\u001b[0m\n\u001b[1;32m    654\u001b[0m         \u001b[0;31m# Send the request\u001b[0m\u001b[0;34m\u001b[0m\u001b[0;34m\u001b[0m\u001b[0;34m\u001b[0m\u001b[0m\n\u001b[0;32m--> 655\u001b[0;31m         \u001b[0mr\u001b[0m \u001b[0;34m=\u001b[0m \u001b[0madapter\u001b[0m\u001b[0;34m.\u001b[0m\u001b[0msend\u001b[0m\u001b[0;34m(\u001b[0m\u001b[0mrequest\u001b[0m\u001b[0;34m,\u001b[0m \u001b[0;34m**\u001b[0m\u001b[0mkwargs\u001b[0m\u001b[0;34m)\u001b[0m\u001b[0;34m\u001b[0m\u001b[0;34m\u001b[0m\u001b[0m\n\u001b[0m\u001b[1;32m    656\u001b[0m \u001b[0;34m\u001b[0m\u001b[0m\n\u001b[1;32m    657\u001b[0m         \u001b[0;31m# Total elapsed time of the request (approximately)\u001b[0m\u001b[0;34m\u001b[0m\u001b[0;34m\u001b[0m\u001b[0;34m\u001b[0m\u001b[0m\n",
      "\u001b[0;32m~/opt/anaconda3/lib/python3.8/site-packages/requests/adapters.py\u001b[0m in \u001b[0;36msend\u001b[0;34m(self, request, stream, timeout, verify, cert, proxies)\u001b[0m\n\u001b[1;32m    514\u001b[0m                 \u001b[0;32mraise\u001b[0m \u001b[0mSSLError\u001b[0m\u001b[0;34m(\u001b[0m\u001b[0me\u001b[0m\u001b[0;34m,\u001b[0m \u001b[0mrequest\u001b[0m\u001b[0;34m=\u001b[0m\u001b[0mrequest\u001b[0m\u001b[0;34m)\u001b[0m\u001b[0;34m\u001b[0m\u001b[0;34m\u001b[0m\u001b[0m\n\u001b[1;32m    515\u001b[0m \u001b[0;34m\u001b[0m\u001b[0m\n\u001b[0;32m--> 516\u001b[0;31m             \u001b[0;32mraise\u001b[0m \u001b[0mConnectionError\u001b[0m\u001b[0;34m(\u001b[0m\u001b[0me\u001b[0m\u001b[0;34m,\u001b[0m \u001b[0mrequest\u001b[0m\u001b[0;34m=\u001b[0m\u001b[0mrequest\u001b[0m\u001b[0;34m)\u001b[0m\u001b[0;34m\u001b[0m\u001b[0;34m\u001b[0m\u001b[0m\n\u001b[0m\u001b[1;32m    517\u001b[0m \u001b[0;34m\u001b[0m\u001b[0m\n\u001b[1;32m    518\u001b[0m         \u001b[0;32mexcept\u001b[0m \u001b[0mClosedPoolError\u001b[0m \u001b[0;32mas\u001b[0m \u001b[0me\u001b[0m\u001b[0;34m:\u001b[0m\u001b[0;34m\u001b[0m\u001b[0;34m\u001b[0m\u001b[0m\n",
      "\u001b[0;31mConnectionError\u001b[0m: HTTPSConnectionPool(host='www.mk.ru', port=443): Max retries exceeded with url: /social/2021/10/16/uspenskaya-pokazala-pikantnoe-foto-s-baskovym.html (Caused by NewConnectionError('<urllib3.connection.HTTPSConnection object at 0x7ff52736eb50>: Failed to establish a new connection: [Errno 60] Operation timed out'))"
     ]
    }
   ],
   "source": [
    "news = {}\n",
    "for i in soup.find_all('li', {'class':'news-listing__item'}):\n",
    "    url0 = i.find('a').get('href')\n",
    "    time = i.find('span').text\n",
    "    title = i.find('h3').text\n",
    "    \n",
    "    page0 = requests.get(url0)\n",
    "    soup0 = BeautifulSoup(page0.text)\n",
    "    sleep(1)\n",
    "    \n",
    "    view = int(soup0.find_all('span', {'class':'meta__item_views'})[0].text.strip())\n",
    "    \n",
    "    if soup0.find('div', {'class':'article__tag'}) is None:\n",
    "        tags = ''\n",
    "    else:\n",
    "        tags = ', '.join(re.findall(r'[^\\n]+', soup0.find('div', {'class':'article__tag'}).text))\n",
    "        \n",
    "    news[title] = [url0, time, view, tags]"
   ]
  },
  {
   "cell_type": "code",
   "execution_count": null,
   "metadata": {},
   "outputs": [],
   "source": [
    "# можно также сразу указывать, что у нас данные из словаря, orient='index' вместо transpose()\n",
    "df = pd.DataFrame.from_dict(news, orient='index', columns = ['Ссылка','Время','Просмотры','Теги'])\n",
    "df"
   ]
  },
  {
   "cell_type": "code",
   "execution_count": null,
   "metadata": {},
   "outputs": [],
   "source": []
  },
  {
   "cell_type": "code",
   "execution_count": null,
   "metadata": {},
   "outputs": [],
   "source": []
  }
 ],
 "metadata": {
  "kernelspec": {
   "display_name": "Python 3",
   "language": "python",
   "name": "python3"
  },
  "language_info": {
   "codemirror_mode": {
    "name": "ipython",
    "version": 3
   },
   "file_extension": ".py",
   "mimetype": "text/x-python",
   "name": "python",
   "nbconvert_exporter": "python",
   "pygments_lexer": "ipython3",
   "version": "3.8.5"
  },
  "toc": {
   "base_numbering": 1,
   "nav_menu": {},
   "number_sections": true,
   "sideBar": true,
   "skip_h1_title": false,
   "title_cell": "Table of Contents",
   "title_sidebar": "Contents",
   "toc_cell": false,
   "toc_position": {},
   "toc_section_display": true,
   "toc_window_display": true
  },
  "varInspector": {
   "cols": {
    "lenName": 16,
    "lenType": 16,
    "lenVar": 40
   },
   "kernels_config": {
    "python": {
     "delete_cmd_postfix": "",
     "delete_cmd_prefix": "del ",
     "library": "var_list.py",
     "varRefreshCmd": "print(var_dic_list())"
    },
    "r": {
     "delete_cmd_postfix": ") ",
     "delete_cmd_prefix": "rm(",
     "library": "var_list.r",
     "varRefreshCmd": "cat(var_dic_list()) "
    }
   },
   "types_to_exclude": [
    "module",
    "function",
    "builtin_function_or_method",
    "instance",
    "_Feature"
   ],
   "window_display": false
  }
 },
 "nbformat": 4,
 "nbformat_minor": 4
}
