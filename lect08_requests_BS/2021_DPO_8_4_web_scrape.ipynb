{
 "cells": [
  {
   "cell_type": "markdown",
   "metadata": {},
   "source": [
    "# Python для анализа данных\n",
    "\n",
    "*Алла Тамбовцева, НИУ ВШЭ*"
   ]
  },
  {
   "cell_type": "markdown",
   "metadata": {},
   "source": [
    "## Web-scraping\n",
    "\n",
    "Мы уже немного познакомились со структурой html-файлов, теперь попробуем выгрузить информацию из реальной страницы, а точнее, с реального сайта [nplus1.ru](https://nplus1.ru/).\n",
    "\n",
    "**Наша задача:** выгрузить недавние новости в датафрейм `pandas`, чтобы потом сохранить все в csv-файл.\n",
    "\n",
    "Сначала сгрузим весь html-код страницы и сохраним его в отдельную переменную. Для этого нам понадобится библиотека `requests`. Импортируем её:"
   ]
  },
  {
   "cell_type": "code",
   "execution_count": 19,
   "metadata": {},
   "outputs": [],
   "source": [
    "import requests"
   ]
  },
  {
   "cell_type": "markdown",
   "metadata": {},
   "source": [
    "Сохраним ссылку на главную страницу сайта в переменную `url` для удобства и выгрузим страницу. (Разумеется, это будет работать при подключении к интернету. Если соединение будет отключено, Python выдаст `NewConnectionError`)."
   ]
  },
  {
   "cell_type": "code",
   "execution_count": 20,
   "metadata": {},
   "outputs": [],
   "source": [
    "url = 'https://nplus1.ru/' # сохраняем\n",
    "page = requests.get(url) # загружаем страницу по ссылке"
   ]
  },
  {
   "cell_type": "markdown",
   "metadata": {},
   "source": [
    "Если мы просто посмотрим на объект, мы ничего особенного не увидим:"
   ]
  },
  {
   "cell_type": "code",
   "execution_count": 21,
   "metadata": {},
   "outputs": [
    {
     "data": {
      "text/plain": [
       "<Response [200]>"
      ]
     },
     "execution_count": 21,
     "metadata": {},
     "output_type": "execute_result"
    }
   ],
   "source": [
    "page  # response 200 - страница загружена"
   ]
  },
  {
   "cell_type": "markdown",
   "metadata": {},
   "source": [
    "Импортируем функцию `BeautifulSoup` из библиотеки `bs4` (от *beautifulsoup4*) и заберём со страницы `page` код html в виде текста. "
   ]
  },
  {
   "cell_type": "code",
   "execution_count": 22,
   "metadata": {},
   "outputs": [],
   "source": [
    "from bs4 import BeautifulSoup  # не спрашивайте, почему BeautifulSoup"
   ]
  },
  {
   "cell_type": "code",
   "execution_count": 23,
   "metadata": {},
   "outputs": [],
   "source": [
    "soup = BeautifulSoup(page.text, 'lxml')"
   ]
  },
  {
   "cell_type": "markdown",
   "metadata": {},
   "source": [
    "Если выведем `soup` на экран, мы увидим то же самое, что в режиме разработчика или в режиме происмотра исходного кода (`view-source` через *Ctrl+U* в Google Chrome)."
   ]
  },
  {
   "cell_type": "code",
   "execution_count": 25,
   "metadata": {},
   "outputs": [],
   "source": [
    "# soup"
   ]
  },
  {
   "cell_type": "markdown",
   "metadata": {},
   "source": [
    "Для просмотра выглядит не очень удобно.  «Причешем» наш `soup` – воспользуемся методом `.prettify()` в сочетании с функцией `print()`."
   ]
  },
  {
   "cell_type": "code",
   "execution_count": 27,
   "metadata": {},
   "outputs": [],
   "source": [
    "# print(soup.prettify())"
   ]
  },
  {
   "cell_type": "markdown",
   "metadata": {},
   "source": [
    "В такой выдаче ориентироваться гораздо удобнее (но при желании, то же можно увидеть в браузере, на большом экране)."
   ]
  },
  {
   "cell_type": "markdown",
   "metadata": {},
   "source": [
    "Чтобы сгрузить все новости с главной страницы сайта, нужно собрать все ссылки на страницы с этими новостями. Ссылки в html-файле всегда заключены в тэг `<a></a>` и имеют атрибут `href`. Посмотрим на кусочки кода, соответствующие всем ссылкам на главной странице сайта:"
   ]
  },
  {
   "cell_type": "code",
   "execution_count": 28,
   "metadata": {},
   "outputs": [
    {
     "name": "stdout",
     "output_type": "stream",
     "text": [
      "#\n",
      "/\n",
      "#\n",
      "#\n",
      "/rubric/astronomy\n",
      "/rubric/physics\n",
      "/rubric/biology\n",
      "/rubric/robots-drones\n",
      "/theme/bookshelf\n",
      "/theme/nobelprize\n",
      "/theme/Courses\n",
      "/theme/coronavirus-history\n",
      "/theme/offline\n",
      "/\n",
      "#\n",
      "/rubric/astronomy\n",
      "/rubric/physics\n",
      "/rubric/biology\n",
      "/rubric/robots-drones\n",
      "#\n",
      "/theme/bookshelf\n",
      "/theme/nobelprize\n",
      "/theme/Courses\n",
      "/theme/coronavirus-history\n",
      "/theme/offline\n",
      "https://nplus1.ru/blog/2021/10/07/the-inside-story-on-headaches\n",
      "https://nplus1.ru/blog/2021/10/07/the-inside-story-on-headaches\n",
      "https://nplus1.ru/blog/2021/10/05/in-search-of-memory\n",
      "https://nplus1.ru/blog/2021/09/30/breaking-the-maya-code\n",
      "https://nplus1.ru/blog/2021/09/28/unsere-welt-neu-denken\n",
      "https://nplus1.ru/blog/2021/09/27/Its-The-end-of-the-world\n",
      "https://nplus1.ru/blog/2021/09/23/cosmological-koans\n",
      "https://nplus1.ru/blog/2021/09/21/the-French-Revolution\n",
      "https://nplus1.ru/blog/2021/09/16/lone-survivors\n",
      "https://nplus1.ru/blog/2021/09/14/bones-inside-and-out\n",
      "https://nplus1.ru/blog/2021/10/12/sodom-wasnt-bombed\n",
      "/news/2021/10/19/raspberry-le\n",
      "/news/2021/10/19/koalas-vaccination\n",
      "/news/2021/10/19/intimate-partner-aggression\n",
      "/news/2021/10/19/solid\n",
      "/news/2021/10/19/burial-mannequin\n",
      "/news/2021/10/19/goggle\n",
      "/news/2021/10/19/sports-genetics\n",
      "/material/2021/10/19/NaturePhotographeroftheYear2021\n",
      "/rubric/zoology\n",
      "/theme/bellezza\n",
      "/news/2021/10/19/diet-holland\n",
      "/news/2021/10/18/pterosaur-fairings\n",
      "/news/2021/10/18/europe-water\n",
      "/news/2021/10/18/aquila-fasciata\n",
      "/news/2021/10/18/mines\n",
      "/news/2021/10/18/SLAM\n",
      "/blog/2021/10/12/sodom-wasnt-bombed\n",
      "/blog/2021/10/07/the-inside-story-on-headaches\n",
      "/material/2021/10/15/lucy-trojans\n",
      "/rubric/astronomy\n",
      "/material/2021/10/15/fetal-surgery\n",
      "/rubric/medicine\n",
      "/news/2021/10/18/cinnabar\n",
      "/news/2021/10/18/ego4d\n",
      "/news/2021/10/18/leo\n",
      "/news/2021/10/18/CBD-oil\n",
      "/news/2021/10/18/zink-isotopes\n",
      "/news/2021/10/18/carbohydrates-rats-memory\n",
      "/blog/2021/10/05/in-search-of-memory\n",
      "/blog/2021/09/30/breaking-the-maya-code\n",
      "/material/2021/10/15/the-importance-of-statistics\n",
      "/rubric/partners\n",
      "/theme/applying-statistics\n",
      "/material/2021/09/21/software-testing-myths\n",
      "/rubric/partners\n",
      "/news/2021/10/12/black-mesa\n",
      "/news/2021/10/14/TSSA\n",
      "/news/2021/10/15/bottle-of-neutrons\n",
      "/news/2021/10/15/AFI\n",
      "/news/2021/10/14/He-SP-STM\n",
      "/news/2021/10/12/Sterile-neutrinos\n",
      "/news/2021/10/13/acupuncture-gets-gain\n",
      "/news/2021/10/18/domain-video\n",
      "/material/2021/10/15/fetal-surgery\n",
      "/news/2021/10/13/killing-beam\n",
      "https://nplus1.ru/blog/2021/10/07/the-inside-story-on-headaches\n",
      "https://nplus1.ru/blog/2021/10/07/the-inside-story-on-headaches\n",
      "https://nplus1.ru/blog/2021/10/05/in-search-of-memory\n",
      "https://nplus1.ru/blog/2021/09/30/breaking-the-maya-code\n",
      "https://nplus1.ru/blog/2021/09/28/unsere-welt-neu-denken\n",
      "https://nplus1.ru/blog/2021/09/27/Its-The-end-of-the-world\n",
      "https://nplus1.ru/blog/2021/09/23/cosmological-koans\n",
      "https://nplus1.ru/blog/2021/09/21/the-French-Revolution\n",
      "https://nplus1.ru/blog/2021/09/16/lone-survivors\n",
      "https://nplus1.ru/blog/2021/09/14/bones-inside-and-out\n",
      "https://nplus1.ru/blog/2021/10/12/sodom-wasnt-bombed\n",
      "/\n",
      "/about\n",
      "https://nplus.pro\n",
      "/adv\n",
      "/rules\n",
      "/vacancy\n",
      "/difficult\n",
      "mailto:info@nplus1.ru\n",
      "https://nplus1.ru/personal-data-policy\n",
      "#\n",
      "https://t.me/nplusone\n",
      "http://vk.com/nplusone\n",
      "https://www.facebook.com/nplusone\n",
      "https://twitter.com/nplusodin\n",
      "https://ok.ru/nplus1\n",
      "https://soundcloud.com/nplus_1\n",
      "/rss\n"
     ]
    }
   ],
   "source": [
    "for link in soup.find_all('a'):\n",
    "    print(link.get('href'))"
   ]
  },
  {
   "cell_type": "markdown",
   "metadata": {},
   "source": [
    "Ссылок много. Но нам нужны только новости – ссылки, которые начинаются со слова `/news`. Добавим условие: будем выбирать только те ссылки, в которых есть `/news`. Создадим пустой список `urls` и будем добавлять в него только ссылки, которые удовлетворяют этому условию."
   ]
  },
  {
   "cell_type": "code",
   "execution_count": 29,
   "metadata": {},
   "outputs": [
    {
     "data": {
      "text/plain": [
       "['/news/2021/10/19/raspberry-le',\n",
       " '/news/2021/10/19/koalas-vaccination',\n",
       " '/news/2021/10/19/intimate-partner-aggression',\n",
       " '/news/2021/10/19/solid',\n",
       " '/news/2021/10/19/burial-mannequin',\n",
       " '/news/2021/10/19/goggle',\n",
       " '/news/2021/10/19/sports-genetics',\n",
       " '/news/2021/10/19/diet-holland',\n",
       " '/news/2021/10/18/pterosaur-fairings',\n",
       " '/news/2021/10/18/europe-water',\n",
       " '/news/2021/10/18/aquila-fasciata',\n",
       " '/news/2021/10/18/mines',\n",
       " '/news/2021/10/18/SLAM',\n",
       " '/news/2021/10/18/cinnabar',\n",
       " '/news/2021/10/18/ego4d',\n",
       " '/news/2021/10/18/leo',\n",
       " '/news/2021/10/18/CBD-oil',\n",
       " '/news/2021/10/18/zink-isotopes',\n",
       " '/news/2021/10/18/carbohydrates-rats-memory',\n",
       " '/news/2021/10/12/black-mesa',\n",
       " '/news/2021/10/14/TSSA',\n",
       " '/news/2021/10/15/bottle-of-neutrons',\n",
       " '/news/2021/10/15/AFI',\n",
       " '/news/2021/10/14/He-SP-STM',\n",
       " '/news/2021/10/12/Sterile-neutrinos',\n",
       " '/news/2021/10/13/acupuncture-gets-gain',\n",
       " '/news/2021/10/18/domain-video',\n",
       " '/news/2021/10/13/killing-beam']"
      ]
     },
     "execution_count": 29,
     "metadata": {},
     "output_type": "execute_result"
    }
   ],
   "source": [
    "urls = []\n",
    "\n",
    "for link in soup.find_all('a'):\n",
    "    if '/news' in link.get('href'):\n",
    "        urls.append(link.get('href'))\n",
    "urls"
   ]
  },
  {
   "cell_type": "markdown",
   "metadata": {},
   "source": [
    "Ссылки, которые у нас есть в списке `urls`, относительные: они неполные, начало ссылки (название сайта) отсутствует. Давайте превратим их в абсолютные ‒ склеим с ссылкой https://nplus1.ru."
   ]
  },
  {
   "cell_type": "code",
   "execution_count": 31,
   "metadata": {},
   "outputs": [
    {
     "data": {
      "text/plain": [
       "['https://nplus1.ru/news/2021/10/19/raspberry-le',\n",
       " 'https://nplus1.ru/news/2021/10/19/koalas-vaccination',\n",
       " 'https://nplus1.ru/news/2021/10/19/intimate-partner-aggression',\n",
       " 'https://nplus1.ru/news/2021/10/19/solid',\n",
       " 'https://nplus1.ru/news/2021/10/19/burial-mannequin',\n",
       " 'https://nplus1.ru/news/2021/10/19/goggle',\n",
       " 'https://nplus1.ru/news/2021/10/19/sports-genetics',\n",
       " 'https://nplus1.ru/news/2021/10/19/diet-holland',\n",
       " 'https://nplus1.ru/news/2021/10/18/pterosaur-fairings',\n",
       " 'https://nplus1.ru/news/2021/10/18/europe-water',\n",
       " 'https://nplus1.ru/news/2021/10/18/aquila-fasciata',\n",
       " 'https://nplus1.ru/news/2021/10/18/mines',\n",
       " 'https://nplus1.ru/news/2021/10/18/SLAM',\n",
       " 'https://nplus1.ru/news/2021/10/18/cinnabar',\n",
       " 'https://nplus1.ru/news/2021/10/18/ego4d',\n",
       " 'https://nplus1.ru/news/2021/10/18/leo',\n",
       " 'https://nplus1.ru/news/2021/10/18/CBD-oil',\n",
       " 'https://nplus1.ru/news/2021/10/18/zink-isotopes',\n",
       " 'https://nplus1.ru/news/2021/10/18/carbohydrates-rats-memory',\n",
       " 'https://nplus1.ru/news/2021/10/12/black-mesa',\n",
       " 'https://nplus1.ru/news/2021/10/14/TSSA',\n",
       " 'https://nplus1.ru/news/2021/10/15/bottle-of-neutrons',\n",
       " 'https://nplus1.ru/news/2021/10/15/AFI',\n",
       " 'https://nplus1.ru/news/2021/10/14/He-SP-STM',\n",
       " 'https://nplus1.ru/news/2021/10/12/Sterile-neutrinos',\n",
       " 'https://nplus1.ru/news/2021/10/13/acupuncture-gets-gain',\n",
       " 'https://nplus1.ru/news/2021/10/18/domain-video',\n",
       " 'https://nplus1.ru/news/2021/10/13/killing-beam']"
      ]
     },
     "execution_count": 31,
     "metadata": {},
     "output_type": "execute_result"
    }
   ],
   "source": [
    "full_urls = []\n",
    "\n",
    "for u in urls:\n",
    "    res = 'https://nplus1.ru' + u\n",
    "    full_urls.append(res) \n",
    "\n",
    "full_urls"
   ]
  },
  {
   "cell_type": "markdown",
   "metadata": {},
   "source": [
    "Теперь наша задача сводится к следующему: изучить одну страницу с новостью, научиться из нее вытаскивать текст и всю необходимую информацию, а потом применить весь набор действий к каждой ссылке из `full_urls` в цикле. Посмотрим на новость с индексом 1, у вас может быть другая, новости обновляются."
   ]
  },
  {
   "cell_type": "code",
   "execution_count": 32,
   "metadata": {},
   "outputs": [],
   "source": [
    "url0 = full_urls[1]\n",
    "\n",
    "page0 = requests.get(url0)\n",
    "soup0 = BeautifulSoup(page0.text, 'lxml')"
   ]
  },
  {
   "cell_type": "markdown",
   "metadata": {},
   "source": [
    "В коде каждой страницы с новостью есть часть с мета-информацией: датой, именем автора и проч. Такая информация окружена тэгом `<meta></meta>`. Посмотрим:"
   ]
  },
  {
   "cell_type": "code",
   "execution_count": 35,
   "metadata": {},
   "outputs": [
    {
     "data": {
      "text/plain": [
       "[<meta charset=\"utf-8\"/>,\n",
       " <meta content=\"ie=edge\" http-equiv=\"x-ua-compatible\"/>,\n",
       " <meta content=\"width=device-width, initial-scale=1\" name=\"viewport\"/>,\n",
       " <meta content=\"yes\" name=\"apple-mobile-web-app-capable\"/>,\n",
       " <meta content=\"black\" name=\"apple-mobile-web-app-status-bar-style\"/>,\n",
       " <meta content=\"7991d7eb02d759f05b9050e111a7e3eb\" name=\"wmail-verification\"/>,\n",
       " <meta content=\"2021-10-19\" itemprop=\"datePublished\"/>,\n",
       " <meta content=\"Сергей Коленов\" name=\"mediator_author\"/>,\n",
       " <meta content=\"Она поможет защитить некоторые популяции этого вида от вымирания.\" name=\"description\"/>,\n",
       " <meta content=\"Сергей Коленов\" name=\"author\"/>,\n",
       " <meta content=\"\" name=\"copyright\"/>,\n",
       " <meta content=\"Австралийцы начали третью фазу испытаний вакцины против хламидиоза для коал\" property=\"og:title\"/>,\n",
       " <meta content=\"https://nplus1.ru/images/2021/10/19/58cbffc291c852c689d5a835175a9a75.jpg\" property=\"og:image\"/>,\n",
       " <meta content=\"https://nplus1.ru/news/2021/10/19/koalas-vaccination\" property=\"og:url\"/>,\n",
       " <meta content=\"Она поможет защитить некоторые популяции этого вида от вымирания.\" property=\"og:description\"/>,\n",
       " <meta content=\"summary_large_image\" name=\"twitter:card\"/>,\n",
       " <meta content=\"@nplusodin\" name=\"twitter:site\"/>,\n",
       " <meta content=\"Австралийцы начали третью фазу испытаний вакцины против хламидиоза для коал\" name=\"twitter:title\"/>,\n",
       " <meta content=\"Она поможет защитить некоторые популяции этого вида от вымирания.\" name=\"twitter:description\"/>,\n",
       " <meta content=\"https://nplus1.ru/images/2021/10/19/58cbffc291c852c689d5a835175a9a75.jpg\" name=\"twitter:image\"/>,\n",
       " <meta content=\"8c90b02c84ac3b72\" name=\"yandex-verification\"/>]"
      ]
     },
     "execution_count": 35,
     "metadata": {},
     "output_type": "execute_result"
    }
   ],
   "source": [
    "soup0.find_all('meta')"
   ]
  },
  {
   "cell_type": "markdown",
   "metadata": {},
   "source": [
    "Из этого списка нам нужны части с именем автора, датой, заголовком и кратким описанием. Воспользуемся поиском по атрибуту `name`. Передадим функции `find_all()` в качестве аргумента словарь с названием и значением атрибута: "
   ]
  },
  {
   "cell_type": "code",
   "execution_count": 36,
   "metadata": {},
   "outputs": [
    {
     "data": {
      "text/plain": [
       "[<meta content=\"Сергей Коленов\" name=\"author\"/>]"
      ]
     },
     "execution_count": 36,
     "metadata": {},
     "output_type": "execute_result"
    }
   ],
   "source": [
    "soup0.find_all('meta', {'name' : 'author'}) # например, автор"
   ]
  },
  {
   "cell_type": "markdown",
   "metadata": {},
   "source": [
    "Теперь выберем единственный элемент полученного списка (с индексом 0):"
   ]
  },
  {
   "cell_type": "code",
   "execution_count": 38,
   "metadata": {},
   "outputs": [
    {
     "data": {
      "text/plain": [
       "<meta content=\"Сергей Коленов\" name=\"author\"/>"
      ]
     },
     "execution_count": 38,
     "metadata": {},
     "output_type": "execute_result"
    }
   ],
   "source": [
    "soup0.find_all('meta', {'name' : 'author'})[0]"
   ]
  },
  {
   "cell_type": "markdown",
   "metadata": {},
   "source": [
    "Нам нужно вытащить из этого объекта `content` – имя автора. Посмотрим на атрибуты:"
   ]
  },
  {
   "cell_type": "code",
   "execution_count": 39,
   "metadata": {},
   "outputs": [
    {
     "data": {
      "text/plain": [
       "{'name': 'author', 'content': 'Сергей Коленов'}"
      ]
     },
     "execution_count": 39,
     "metadata": {},
     "output_type": "execute_result"
    }
   ],
   "source": [
    "soup0.find_all('meta', {'name' : 'author'})[0].attrs"
   ]
  },
  {
   "cell_type": "markdown",
   "metadata": {},
   "source": [
    "Как получить отсюда `content`? Очень просто, ведь это словарь! А доставать из словаря значение по ключу мы умеем."
   ]
  },
  {
   "cell_type": "code",
   "execution_count": 40,
   "metadata": {},
   "outputs": [
    {
     "data": {
      "text/plain": [
       "'Сергей Коленов'"
      ]
     },
     "execution_count": 40,
     "metadata": {},
     "output_type": "execute_result"
    }
   ],
   "source": [
    "author = soup0.find_all('meta', {'name' : 'author'})[0].attrs['content']\n",
    "author"
   ]
  },
  {
   "cell_type": "markdown",
   "metadata": {},
   "source": [
    "Аналогичным образом извлечем дату, заголовок и описание."
   ]
  },
  {
   "cell_type": "code",
   "execution_count": 42,
   "metadata": {},
   "outputs": [],
   "source": [
    "date = soup0.find_all('meta', {'itemprop' : 'datePublished'})[0].attrs['content']\n",
    "title = soup0.find_all('meta', {'property' : 'og:title'})[0].attrs['content']\n",
    "description = soup0.find_all('meta', {'name' : 'description'})[0].attrs['content']"
   ]
  },
  {
   "cell_type": "markdown",
   "metadata": {},
   "source": [
    "Осталось вытащить рубрики и сложность текста. Если мы посмотрим на исходный код страницы, мы увидим, что нужная нам информация находится в тэгах `<p></p>`:"
   ]
  },
  {
   "cell_type": "code",
   "execution_count": 44,
   "metadata": {
    "scrolled": false
   },
   "outputs": [
    {
     "data": {
      "text/plain": [
       "[<p class=\"table\">\n",
       " <a data-rubric=\"zoology\" href=\"/rubric/zoology\">Зоология</a>\n",
       " <a data-rubric=\"ecology\" href=\"/rubric/ecology\">Экология и климат</a>\n",
       " </p>,\n",
       " <p class=\"table\">\n",
       " <a href=\"/news/2021/10/19\">\n",
       " <time content=\"2021-10-19\" data-unix=\"1634657394\" itemprop=\"datePublished\">\n",
       " <span>18:29</span>\n",
       " <span>19 Окт. 2021</span>\n",
       " </time>\n",
       " </a>\n",
       " </p>,\n",
       " <p class=\"table\">\n",
       " <a href=\"/difficult/2.1\">\n",
       " <span>Сложность</span>\n",
       " <span class=\"difficult-value\">2.1</span>\n",
       " </a>\n",
       " </p>,\n",
       " <p class=\"title\">Коала по имени Шано первым получил вакцину от хламидиоза в ходе третьей фазы испытаний.</p>,\n",
       " <p class=\"credits\">Terry Walsh / University of the Sunshine Coast</p>,\n",
       " <p>В Австралии началась третья фаза испытаний вакцины, защищающей коал от смертельно опасного для них хламидиоза. Препарат получат несколько сотен представителей данного вида — а через год ученые сравнят число госпитализаций среди привитых и непривитых особей. Как <a href=\"https://www.usc.edu.au/about/usc-news/news-archive/2021/october/usc-leads-rollout-of-critical-vaccine-for-koalas\" rel=\"nofollow\" target=\"_blank\">отмечается</a> в пресс-релизе Университета Саншайн-Коста, в случае успеха вакцину начнут применять для защиты наиболее уязвимых популяций, в которых доля зараженных особей превысила пятьдесят процентов.</p>,\n",
       " <p>Коала (<i>Phascolarctos cinereus</i>) — один из главных живых символов Австралии. Однако сейчас этот вид переживает трудные времена. В прошлом коалы сильно пострадали от активной охоты ради меха, а в наши дни их численность падает из-за других причин: вырубка эвкалиптовых лесов, участившиеся в результате антропогенных изменений климата засухи и лесные пожары, инвазивные <a href=\"https://nplus1.ru/news/2017/02/11/bye-bye-koalas\" target=\"_blank\">хищники</a> и гибель на дорогах. Кроме того, в сократившихся популяциях этих сумчатых распространяются опасные инфекции, такие как <a href=\"https://en.wikipedia.org/wiki/Koala_retrovirus\" rel=\"nofollow\" target=\"_blank\">ретровирус коал</a> (он повышает риск развития рака) и хламидиоз (эта передающаяся половым путем болезнь поражает глаза и мочевыводящие пути и может привести к слепоте, бесплодию и смерти).</p>,\n",
       " <p>Около десяти лет назад биологи из Университета Саншайн-Коста во главе с Питером Тиммсом (Peter Timms) приступили к созданию вакцины, которая защитила бы коал от хламидиоза. В основе их разработки лежат небольшие фрагменты убитых бактерий <i>Chlamydia pecorum</i>. Предполагается, что, вводя данный препарат коалам, можно научить их иммунную систему лучше распознавать и уничтожать хламидии. Проведя восемь испытаний на небольших выборках из диких и живущих в неволе особей, исследователи подтвердили, что вакцина безопасна, а получившие ее коалы при заражении хламидиозом не проявляют симптомов болезни. А если привить уже инфицированных животных, заболевание у них пройдет в более легкой форме.</p>,\n",
       " <p>Пятнадцатого октября этого года стартовал третий и самый масштабный этап испытаний вакцины, в котором примут участие несколько сотен коал. Согласно плану, ветеринары будут прививать коал, поступивших в ветеринарную клинику при <a href=\"https://ru.wikipedia.org/wiki/%D0%97%D0%BE%D0%BE%D0%BF%D0%B0%D1%80%D0%BA_%D0%90%D0%B2%D1%81%D1%82%D1%80%D0%B0%D0%BB%D0%B8%D0%B8\" rel=\"nofollow\" target=\"_blank\">зоопарке Австралии</a> в квинслендском городе Бирва, а затем выпускать их на волю (помимо этого, вакцинацию коал развернут в еще нескольких реабилитационных центрах и диких популяциях). Каждая особь получит одну дозу препарата и индивидуальную метку-микрочип для идентификации. В течение года специалисты будут отслеживать состояние коал и сравнят число госпитализаций с симптомами хламидиоза среди привитых и непривитых животных.</p>,\n",
       " <p>Если вакцина докажет свою эффективность, ее одобрят для широкого применения. В таком случае препарат можно будет использовать для спасения популяций коал, которые особенно быстро исчезают из-за хламидиоза. В некоторых из них, особенно на юго-востоке Квинсленда и в Новом Южном Уэльсе, заражены более пятидесяти процентов особей.</p>,\n",
       " <p>У человека хламидиоз вызывает родственная бактерия <i>Ch. trachomatis</i>. Возможно, создание вакцины для коал подтолкнет усилия по разработке аналогичного препарата для профилактики хламидиоза у людей.</p>,\n",
       " <p>В некоторых национальных парках Австралии плотность популяции коал слишком велика, что отрицательно сказывается на прутовидных эвкалиптах (<i>Eucalyptus viminalis</i>), листьями которых питаются эти сумчатые. Недавно исследователи <a href=\"https://nplus1.ru/news/2021/01/05/koala-contraceptive\" target=\"_blank\">продемонстрировали</a>, что с помощью контрацепции можно снизить численность коал до уровня, который не угрожает будущему эвкалиптов. </p>,\n",
       " <p><i>Сергей Коленов</i></p>,\n",
       " <p>Нашли опечатку? Выделите фрагмент и нажмите Ctrl+Enter.</p>,\n",
       " <p class=\"subtitle\">Победители фотоконкурса Wildlife Photographer of the Year — 2021</p>,\n",
       " <p>Коэффициент сложности</p>,\n",
       " <p>Коэффициент сложности</p>,\n",
       " <p>Коэффициент сложности</p>,\n",
       " <p>Коэффициент сложности</p>,\n",
       " <p>Коэффициент сложности</p>,\n",
       " <p>Коэффициент сложности</p>,\n",
       " <p>Коэффициент сложности</p>,\n",
       " <p>Коэффициент сложности</p>,\n",
       " <p>Коэффициент сложности</p>,\n",
       " <p>Коэффициент сложности</p>,\n",
       " <p>© 2021 <i>N + 1</i> Интернет-издание   Свидетельство о регистрации СМИ Эл № ФС77-67614</p>,\n",
       " <p>Использование всех текстовых материалов без изменений в некоммерческих целях разрешается со ссылкой на <i>N + 1</i>. \n",
       "                         Все аудиовизуальные произведения являются собственностью своих авторов и правообладателей и используются \n",
       "                         только в образовательных и информационных целях. Если вы являетесь собственником того или иного произведения \n",
       "                         и не согласны с его размещением на нашем сайте, пожалуйста, напишите на kirill@nplus1.ru</p>,\n",
       " <p>Материалы, опубликованные в разделе «Блоги», отражают позиции их авторов, которые могут не совпадать с мнением редакции.</p>,\n",
       " <p>Сайт может содержать контент, не предназначенный для лиц младше 18 лет.</p>,\n",
       " <p>Связь с редакцией: <a href=\"mailto:info@nplus1.ru\">info@nplus1.ru</a></p>,\n",
       " <p>\n",
       " <a class=\"pd\" href=\"https://nplus1.ru/personal-data-policy\">Политика обработки персональных данных пользователей сайта</a>\n",
       " </p>,\n",
       " <p>\n",
       " <script async=\"\" src=\"//s.luxupcdnc.com/t/consent_195458.js\" type=\"text/javascript\"></script>\n",
       " <a href=\"#\" onclick=\"if(window.__lxG__consent__ !== undefined) {window.__lxG__consent__.showConsent()} else {alert('This function works only for users from the European Economic Area (EEA).')}; return false\">Change privacy settings</a>\n",
       " </p>,\n",
       " <p>\n",
       " </p>]"
      ]
     },
     "execution_count": 44,
     "metadata": {},
     "output_type": "execute_result"
    }
   ],
   "source": [
    "soup0.find_all('p')"
   ]
  },
  {
   "cell_type": "markdown",
   "metadata": {},
   "source": [
    "Выберем из полученного списка первый элемент и найдем в нем все тэги `<a>`:"
   ]
  },
  {
   "cell_type": "code",
   "execution_count": 45,
   "metadata": {},
   "outputs": [
    {
     "data": {
      "text/plain": [
       "[<a data-rubric=\"zoology\" href=\"/rubric/zoology\">Зоология</a>,\n",
       " <a data-rubric=\"ecology\" href=\"/rubric/ecology\">Экология и климат</a>]"
      ]
     },
     "execution_count": 45,
     "metadata": {},
     "output_type": "execute_result"
    }
   ],
   "source": [
    "soup0.find_all('p')[0].find_all('a')"
   ]
  },
  {
   "cell_type": "markdown",
   "metadata": {},
   "source": [
    "Получился список из одного элемента. Применим списковые включения – вытащим из каждого элемента (их могло бы быть больше) текст и поместим его в новый список `rubrics`."
   ]
  },
  {
   "cell_type": "code",
   "execution_count": 47,
   "metadata": {},
   "outputs": [
    {
     "data": {
      "text/plain": [
       "'Зоология'"
      ]
     },
     "execution_count": 47,
     "metadata": {},
     "output_type": "execute_result"
    }
   ],
   "source": [
    "soup0.find_all('p')[0].find_all('a')[0].text"
   ]
  },
  {
   "cell_type": "code",
   "execution_count": 48,
   "metadata": {},
   "outputs": [
    {
     "data": {
      "text/plain": [
       "['Зоология', 'Экология и климат']"
      ]
     },
     "execution_count": 48,
     "metadata": {},
     "output_type": "execute_result"
    }
   ],
   "source": [
    "rubrics = [r.text for r in soup0.find_all('p')[0].find_all('a')]\n",
    "rubrics"
   ]
  },
  {
   "cell_type": "markdown",
   "metadata": {},
   "source": [
    "Осталась только сложность. Возьмем соответствующий кусок кода:"
   ]
  },
  {
   "cell_type": "code",
   "execution_count": 49,
   "metadata": {},
   "outputs": [
    {
     "data": {
      "text/plain": [
       "[<span class=\"difficult-value\">2.1</span>]"
      ]
     },
     "execution_count": 49,
     "metadata": {},
     "output_type": "execute_result"
    }
   ],
   "source": [
    "soup0.find_all('span', {'class' : 'difficult-value'})"
   ]
  },
  {
   "cell_type": "markdown",
   "metadata": {},
   "source": [
    "И выберем оттуда текст."
   ]
  },
  {
   "cell_type": "code",
   "execution_count": 50,
   "metadata": {},
   "outputs": [
    {
     "data": {
      "text/plain": [
       "'2.1'"
      ]
     },
     "execution_count": 50,
     "metadata": {},
     "output_type": "execute_result"
    }
   ],
   "source": [
    "diff = soup0.find_all('span', {'class' : 'difficult-value'})[0].text\n",
    "diff"
   ]
  },
  {
   "cell_type": "markdown",
   "metadata": {},
   "source": [
    "Теперь перейдем к тексту самой новости. Как можно заметить, текст сохранен в абзацах `<p></p>`, причем безо всяких атрибутов. Сообщим Python, что нас интересуют куски с пустым атрибутом `class`:"
   ]
  },
  {
   "cell_type": "code",
   "execution_count": 51,
   "metadata": {},
   "outputs": [],
   "source": [
    "text_list = soup0.find_all('p', {'class' : None})"
   ]
  },
  {
   "cell_type": "markdown",
   "metadata": {},
   "source": [
    "«Выцепим» все тексты (без тэгов) из полученного списка:"
   ]
  },
  {
   "cell_type": "code",
   "execution_count": 53,
   "metadata": {},
   "outputs": [],
   "source": [
    "text = [t.text for t in text_list]"
   ]
  },
  {
   "cell_type": "markdown",
   "metadata": {},
   "source": [
    "Склеим все элементы списка `text` через пробел:"
   ]
  },
  {
   "cell_type": "code",
   "execution_count": 55,
   "metadata": {},
   "outputs": [
    {
     "data": {
      "text/plain": [
       "'123'"
      ]
     },
     "execution_count": 55,
     "metadata": {},
     "output_type": "execute_result"
    }
   ],
   "source": [
    "''.join(['1', '2', '3'])"
   ]
  },
  {
   "cell_type": "code",
   "execution_count": 56,
   "metadata": {},
   "outputs": [
    {
     "data": {
      "text/plain": [
       "'В\\xa0Австралии началась третья фаза испытаний вакцины, защищающей коал от\\xa0смертельно опасного для них хламидиоза. Препарат получат несколько сотен представителей данного вида\\xa0— а\\xa0через год ученые сравнят число госпитализаций среди привитых и\\xa0непривитых особей. Как отмечается в\\xa0пресс-релизе Университета Саншайн-Коста, в\\xa0случае успеха вакцину начнут применять для защиты наиболее уязвимых популяций, в\\xa0которых доля зараженных особей превысила пятьдесят процентов. Коала (Phascolarctos cinereus)\\xa0— один из\\xa0главных живых символов Австралии. Однако сейчас этот вид переживает трудные времена. В\\xa0прошлом коалы сильно пострадали от\\xa0активной охоты ради меха, а\\xa0в\\xa0наши дни их\\xa0численность падает из-за других причин: вырубка эвкалиптовых лесов, участившиеся в\\xa0результате антропогенных изменений климата засухи и\\xa0лесные пожары, инвазивные\\xa0хищники\\xa0и\\xa0гибель на\\xa0дорогах. Кроме того, в\\xa0сократившихся популяциях этих сумчатых распространяются опасные инфекции, такие как ретровирус коал (он\\xa0повышает риск развития рака) и\\xa0хламидиоз\\xa0(эта передающаяся половым путем болезнь поражает глаза и\\xa0мочевыводящие пути и\\xa0может привести к\\xa0слепоте, бесплодию и\\xa0смерти). Около десяти лет назад биологи из\\xa0Университета Саншайн-Коста во\\xa0главе с\\xa0Питером Тиммсом (Peter Timms) приступили к созданию вакцины, которая защитила\\xa0бы коал от\\xa0хламидиоза. В основе их разработки лежат небольшие фрагменты убитых бактерий\\xa0Chlamydia pecorum. Предполагается, что, вводя данный препарат коалам, можно научить их\\xa0иммунную систему лучше распознавать и\\xa0уничтожать хламидии. Проведя восемь испытаний на\\xa0небольших выборках из\\xa0диких и\\xa0живущих в\\xa0неволе особей, исследователи подтвердили, что вакцина безопасна, а\\xa0получившие ее\\xa0коалы при заражении хламидиозом не\\xa0проявляют симптомов болезни. А\\xa0если привить уже инфицированных животных, заболевание у\\xa0них пройдет в\\xa0более легкой форме. Пятнадцатого октября этого года стартовал третий и\\xa0самый масштабный этап испытаний вакцины, в\\xa0котором примут участие несколько сотен коал. Согласно плану, ветеринары будут прививать коал, поступивших в\\xa0ветеринарную клинику при зоопарке Австралии в\\xa0квинслендском городе Бирва, а\\xa0затем выпускать их\\xa0на\\xa0волю (помимо этого, вакцинацию коал развернут в\\xa0еще нескольких реабилитационных центрах и\\xa0диких популяциях). Каждая особь получит одну дозу препарата и\\xa0индивидуальную метку-микрочип для идентификации. В\\xa0течение года специалисты будут отслеживать состояние коал и\\xa0сравнят число госпитализаций с\\xa0симптомами хламидиоза среди привитых и\\xa0непривитых животных. Если вакцина докажет свою эффективность, ее\\xa0одобрят для широкого применения. В\\xa0таком случае препарат можно будет использовать для спасения популяций коал, которые особенно быстро исчезают из-за хламидиоза. В\\xa0некоторых из\\xa0них, особенно на\\xa0юго-востоке Квинсленда и\\xa0в\\xa0Новом Южном Уэльсе, заражены более пятидесяти процентов особей. У\\xa0человека хламидиоз вызывает родственная бактерия\\xa0Ch. trachomatis. Возможно, создание вакцины для коал подтолкнет усилия по\\xa0разработке аналогичного препарата для профилактики хламидиоза у\\xa0людей. В\\xa0некоторых национальных парках Австралии плотность популяции коал слишком велика, что отрицательно сказывается на\\xa0прутовидных эвкалиптах (Eucalyptus viminalis), листьями которых питаются эти сумчатые. Недавно исследователи продемонстрировали, что с\\xa0помощью контрацепции можно снизить численность коал до\\xa0уровня, который не\\xa0угрожает будущему эвкалиптов.\\xa0 Сергей Коленов Нашли опечатку? Выделите фрагмент и нажмите Ctrl+Enter. Коэффициент сложности Коэффициент сложности Коэффициент сложности Коэффициент сложности Коэффициент сложности Коэффициент сложности Коэффициент сложности Коэффициент сложности Коэффициент сложности Коэффициент сложности © 2021 N\\xa0+\\xa01 Интернет-издание \\xa0 Свидетельство о регистрации СМИ Эл № ФС77-67614 Использование всех текстовых материалов без изменений в некоммерческих целях разрешается со ссылкой на N\\xa0+\\xa01. \\n                        Все аудиовизуальные произведения являются собственностью своих авторов и правообладателей и используются \\n                        только в образовательных и информационных целях. Если вы являетесь собственником того или иного произведения \\n                        и не согласны с его размещением на нашем сайте, пожалуйста, напишите на kirill@nplus1.ru Материалы, опубликованные в разделе «Блоги», отражают позиции их авторов, которые могут не совпадать с мнением редакции. Сайт может содержать контент, не предназначенный для лиц младше 18 лет. Связь с редакцией: info@nplus1.ru \\nПолитика обработки персональных данных пользователей сайта\\n \\n\\nChange privacy settings\\n \\n'"
      ]
     },
     "execution_count": 56,
     "metadata": {},
     "output_type": "execute_result"
    }
   ],
   "source": [
    "final_text = ' '.join(text)\n",
    "final_text"
   ]
  },
  {
   "cell_type": "markdown",
   "metadata": {},
   "source": [
    "Все здорово, только мешают отступы-переходы на новую строку `\\n`. Заменим их на пробелы с помощью метода `.replace`:"
   ]
  },
  {
   "cell_type": "code",
   "execution_count": 57,
   "metadata": {},
   "outputs": [],
   "source": [
    "final_text = final_text.replace('\\n', ' ')"
   ]
  },
  {
   "cell_type": "markdown",
   "metadata": {},
   "source": [
    "Не прошло и двух пар, как мы разобрались со всем :) Теперь осталось совсем чуть-чуть. Написать готовую функцию для всех проделанных нами действий и применить ее в цикле для всех ссылок в списке `full_urls`. Напишем! Аргументом функции будет ссылка на новость, а возвращать она будет текст новости и всю необходимую информацию (дата, автор, сложность и проч.). Скопируем все строки кода выше."
   ]
  },
  {
   "cell_type": "code",
   "execution_count": 58,
   "metadata": {},
   "outputs": [],
   "source": [
    "def GetNews(url0):\n",
    "    \"\"\"\n",
    "    Returns a tuple with url0, date, author, description, title, final_text, rubrics, diff.\n",
    "    Parameters:\n",
    "    \n",
    "    url0 is a link to the news (string)\n",
    "    \"\"\"\n",
    "    page0 = requests.get(url0)\n",
    "    soup0 = BeautifulSoup(page0.text, 'lxml')\n",
    "    author = soup0.find_all('meta', {'name' : 'author'})[0].attrs['content']\n",
    "    date = soup0.find_all('meta', {'itemprop' : 'datePublished'})[0].attrs['content']\n",
    "    title = soup0.find_all('meta', {'property' : 'og:title'})[0].attrs['content']\n",
    "    description = soup0.find_all('meta', {'name' : 'description'})[0].attrs['content']\n",
    "    rubrics = [r.text for r in soup0.find_all('p')[0].find_all('a')]\n",
    "    diff = soup0.find_all('span', {'class' : 'difficult-value'})[0].text\n",
    "    text_list = soup0.find_all('p', {'class' : None})\n",
    "    text = [t.text for t in text_list]\n",
    "    final_text = ' '.join(text)\n",
    "    final_text = final_text.replace('\\n', ' ')\n",
    "    \n",
    "    return url0, date, author, description, title, final_text, rubrics, diff"
   ]
  },
  {
   "cell_type": "markdown",
   "metadata": {},
   "source": [
    "Уфф. Осталось применить ее в цикле. Но давайте не будем спешить: импортируем функцию `sleep` для задержки, чтобы на каждой итерации цикла, прежде чем перейти к следующей новости, Python ждал несколько секунд. Во-первых, это нужно, чтобы сайт «не понял», чтобы мы его грабим, да еще автоматически. Во-вторых, с небольшой задержкой всегда есть гарантия, что страница прогрузится (сейчас это пока не очень важно, но особенно актуально будет, когда будем обсуждать встраивание в браузер с Selenium). Приступим."
   ]
  },
  {
   "cell_type": "code",
   "execution_count": 59,
   "metadata": {},
   "outputs": [],
   "source": [
    "from time import sleep"
   ]
  },
  {
   "cell_type": "code",
   "execution_count": 61,
   "metadata": {},
   "outputs": [],
   "source": [
    "news = [] # это будет список из кортежей, в которых будут храниться данные по каждой новости\n",
    "\n",
    "for link in full_urls:\n",
    "    res = GetNews(link)\n",
    "    news.append(res)\n",
    "    sleep(3) # задержка в 3 секунды"
   ]
  },
  {
   "cell_type": "markdown",
   "metadata": {},
   "source": [
    "Так теперь выглядит первый элемент списка:"
   ]
  },
  {
   "cell_type": "code",
   "execution_count": 62,
   "metadata": {},
   "outputs": [
    {
     "data": {
      "text/plain": [
       "('https://nplus1.ru/news/2021/10/19/raspberry-le',\n",
       " '2021-10-19',\n",
       " 'Григорий Копиев',\n",
       " 'Компьютер можно подключить к LEGO-наборам с двигателями и датчиками',\n",
       " 'Raspberry Pi адаптировали для LEGO-роботов',\n",
       " 'Raspberry Pi\\xa0Foundation представила плату, позволяющую использовать одноплатный компьютер для управления роботами и\\xa0механизмами из\\xa0конструктора LEGO. К\\xa0ней можно подключить как моторы и\\xa0датчики из\\xa0наборов LEGO, так и\\xa0сторонние устройства, например, камеру. Кроме того, это позволяет использовать полноценный код и\\xa0популярные библиотеки. В\\xa0некоторых школах и\\xa0кружках робототехники для обучения детей базовым навыкам создания роботов используют не\\xa0обычные платы и\\xa0компоненты, а\\xa0роботов и\\xa0конструкторы, которые были специально разработаны для этой задачи, обычно обращаться с\\xa0ними гораздо легче. В\\xa0частности, у\\xa0LEGO есть наборы, в\\xa0которые входят как пластиковые детали для корпуса и\\xa0механизмов, так и\\xa0электроника: электромоторы, датчики и\\xa0проприетарный модуль управления. Программы для этого модуля можно писать на\\xa0визуальном языке Scratch или Python, а\\xa0подключить к\\xa0нему можно только проприетарные компоненты. Raspberry Pi\\xa0Foundation, чей одноплатный компьютер повсеместно используется в\\xa0любительских и\\xa0профессиональных проектах роботов, создала плату-переходник Build HAT, которая позволяет заменить им\\xa0проприетарный модуль. Плата устанавливается сверху на\\xa0Raspberry Pi\\xa0и\\xa0подключается к\\xa0нему через GPIO-интерфейс аналогично выпущенным ранее Sense HAT и\\xa0TV\\xa0HAT. На\\xa0плате есть четыре разъема LPF2, которые LEGO использует в\\xa0своих инженерных наборах (кстати, в\\xa0оригинальном хабе есть шесть разъемов). Через них можно подключить датчики и\\xa0электромоторы LEGO.  Разработчики предлагают объединять широкие возможности Raspberry\\xa0Pi, работающего с\\xa0множеством программного и\\xa0аппаратного обеспечения, с\\xa0конструктором, при помощи которого можно быстро прототипировать роботов, не\\xa0затрачивая время на\\xa0создание полноценного корпуса. Стоимость Build HAT составляет 25\\xa0долларов, также компания представила зарядное устройство для нее за\\xa015\\xa0долларов.  LEGO уже не\\xa0первый раз привлекает инженеров и\\xa0ученых, как удобную платформу для создания устройств. К\\xa0примеру, мы\\xa0рассказывали, как из\\xa0конструктора сделали дрон и\\xa0даже микрофлюидные устройства. Григорий Копиев Нашли опечатку? Выделите фрагмент и нажмите Ctrl+Enter. Коэффициент сложности Коэффициент сложности Коэффициент сложности Коэффициент сложности Коэффициент сложности Коэффициент сложности Коэффициент сложности Коэффициент сложности Коэффициент сложности Коэффициент сложности © 2021 N\\xa0+\\xa01 Интернет-издание \\xa0 Свидетельство о регистрации СМИ Эл № ФС77-67614 Использование всех текстовых материалов без изменений в некоммерческих целях разрешается со ссылкой на N\\xa0+\\xa01.                          Все аудиовизуальные произведения являются собственностью своих авторов и правообладателей и используются                          только в образовательных и информационных целях. Если вы являетесь собственником того или иного произведения                          и не согласны с его размещением на нашем сайте, пожалуйста, напишите на kirill@nplus1.ru Материалы, опубликованные в разделе «Блоги», отражают позиции их авторов, которые могут не совпадать с мнением редакции. Сайт может содержать контент, не предназначенный для лиц младше 18 лет. Связь с редакцией: info@nplus1.ru  Политика обработки персональных данных пользователей сайта    Change privacy settings   ',\n",
       " ['IT', 'Роботы и дроны'],\n",
       " '2.4')"
      ]
     },
     "execution_count": 62,
     "metadata": {},
     "output_type": "execute_result"
    }
   ],
   "source": [
    "news[0]"
   ]
  },
  {
   "cell_type": "markdown",
   "metadata": {},
   "source": [
    "Импортируем `pandas` и создадим датафрейм из списка кортежей: "
   ]
  },
  {
   "cell_type": "code",
   "execution_count": 63,
   "metadata": {},
   "outputs": [],
   "source": [
    "import pandas as pd"
   ]
  },
  {
   "cell_type": "code",
   "execution_count": 64,
   "metadata": {},
   "outputs": [],
   "source": [
    "df = pd.DataFrame(news)"
   ]
  },
  {
   "cell_type": "code",
   "execution_count": 65,
   "metadata": {},
   "outputs": [
    {
     "data": {
      "text/html": [
       "<div>\n",
       "<style scoped>\n",
       "    .dataframe tbody tr th:only-of-type {\n",
       "        vertical-align: middle;\n",
       "    }\n",
       "\n",
       "    .dataframe tbody tr th {\n",
       "        vertical-align: top;\n",
       "    }\n",
       "\n",
       "    .dataframe thead th {\n",
       "        text-align: right;\n",
       "    }\n",
       "</style>\n",
       "<table border=\"1\" class=\"dataframe\">\n",
       "  <thead>\n",
       "    <tr style=\"text-align: right;\">\n",
       "      <th></th>\n",
       "      <th>0</th>\n",
       "      <th>1</th>\n",
       "      <th>2</th>\n",
       "      <th>3</th>\n",
       "      <th>4</th>\n",
       "      <th>5</th>\n",
       "      <th>6</th>\n",
       "      <th>7</th>\n",
       "    </tr>\n",
       "  </thead>\n",
       "  <tbody>\n",
       "    <tr>\n",
       "      <th>0</th>\n",
       "      <td>https://nplus1.ru/news/2021/10/19/raspberry-le</td>\n",
       "      <td>2021-10-19</td>\n",
       "      <td>Григорий Копиев</td>\n",
       "      <td>Компьютер можно подключить к LEGO-наборам с дв...</td>\n",
       "      <td>Raspberry Pi адаптировали для LEGO-роботов</td>\n",
       "      <td>Raspberry Pi Foundation представила плату, поз...</td>\n",
       "      <td>[IT, Роботы и дроны]</td>\n",
       "      <td>2.4</td>\n",
       "    </tr>\n",
       "    <tr>\n",
       "      <th>1</th>\n",
       "      <td>https://nplus1.ru/news/2021/10/19/koalas-vacci...</td>\n",
       "      <td>2021-10-19</td>\n",
       "      <td>Сергей Коленов</td>\n",
       "      <td>Она поможет защитить некоторые популяции этого...</td>\n",
       "      <td>Австралийцы начали третью фазу испытаний вакци...</td>\n",
       "      <td>В Австралии началась третья фаза испытаний вак...</td>\n",
       "      <td>[Зоология, Экология и климат]</td>\n",
       "      <td>2.1</td>\n",
       "    </tr>\n",
       "  </tbody>\n",
       "</table>\n",
       "</div>"
      ],
      "text/plain": [
       "                                                   0           1  \\\n",
       "0     https://nplus1.ru/news/2021/10/19/raspberry-le  2021-10-19   \n",
       "1  https://nplus1.ru/news/2021/10/19/koalas-vacci...  2021-10-19   \n",
       "\n",
       "                 2                                                  3  \\\n",
       "0  Григорий Копиев  Компьютер можно подключить к LEGO-наборам с дв...   \n",
       "1   Сергей Коленов  Она поможет защитить некоторые популяции этого...   \n",
       "\n",
       "                                                   4  \\\n",
       "0         Raspberry Pi адаптировали для LEGO-роботов   \n",
       "1  Австралийцы начали третью фазу испытаний вакци...   \n",
       "\n",
       "                                                   5  \\\n",
       "0  Raspberry Pi Foundation представила плату, поз...   \n",
       "1  В Австралии началась третья фаза испытаний вак...   \n",
       "\n",
       "                               6    7  \n",
       "0           [IT, Роботы и дроны]  2.4  \n",
       "1  [Зоология, Экология и климат]  2.1  "
      ]
     },
     "execution_count": 65,
     "metadata": {},
     "output_type": "execute_result"
    }
   ],
   "source": [
    "df.head(2)"
   ]
  },
  {
   "cell_type": "markdown",
   "metadata": {},
   "source": [
    "Переименуем столбцы в базе."
   ]
  },
  {
   "cell_type": "code",
   "execution_count": 66,
   "metadata": {},
   "outputs": [],
   "source": [
    "df.columns = ['link', 'date', 'author', 'desc', 'title', 'text', 'rubric', 'diffc']"
   ]
  },
  {
   "cell_type": "code",
   "execution_count": 67,
   "metadata": {},
   "outputs": [
    {
     "data": {
      "text/html": [
       "<div>\n",
       "<style scoped>\n",
       "    .dataframe tbody tr th:only-of-type {\n",
       "        vertical-align: middle;\n",
       "    }\n",
       "\n",
       "    .dataframe tbody tr th {\n",
       "        vertical-align: top;\n",
       "    }\n",
       "\n",
       "    .dataframe thead th {\n",
       "        text-align: right;\n",
       "    }\n",
       "</style>\n",
       "<table border=\"1\" class=\"dataframe\">\n",
       "  <thead>\n",
       "    <tr style=\"text-align: right;\">\n",
       "      <th></th>\n",
       "      <th>link</th>\n",
       "      <th>date</th>\n",
       "      <th>author</th>\n",
       "      <th>desc</th>\n",
       "      <th>title</th>\n",
       "      <th>text</th>\n",
       "      <th>rubric</th>\n",
       "      <th>diffc</th>\n",
       "    </tr>\n",
       "  </thead>\n",
       "  <tbody>\n",
       "    <tr>\n",
       "      <th>0</th>\n",
       "      <td>https://nplus1.ru/news/2021/10/19/raspberry-le</td>\n",
       "      <td>2021-10-19</td>\n",
       "      <td>Григорий Копиев</td>\n",
       "      <td>Компьютер можно подключить к LEGO-наборам с дв...</td>\n",
       "      <td>Raspberry Pi адаптировали для LEGO-роботов</td>\n",
       "      <td>Raspberry Pi Foundation представила плату, поз...</td>\n",
       "      <td>[IT, Роботы и дроны]</td>\n",
       "      <td>2.4</td>\n",
       "    </tr>\n",
       "    <tr>\n",
       "      <th>1</th>\n",
       "      <td>https://nplus1.ru/news/2021/10/19/koalas-vacci...</td>\n",
       "      <td>2021-10-19</td>\n",
       "      <td>Сергей Коленов</td>\n",
       "      <td>Она поможет защитить некоторые популяции этого...</td>\n",
       "      <td>Австралийцы начали третью фазу испытаний вакци...</td>\n",
       "      <td>В Австралии началась третья фаза испытаний вак...</td>\n",
       "      <td>[Зоология, Экология и климат]</td>\n",
       "      <td>2.1</td>\n",
       "    </tr>\n",
       "  </tbody>\n",
       "</table>\n",
       "</div>"
      ],
      "text/plain": [
       "                                                link        date  \\\n",
       "0     https://nplus1.ru/news/2021/10/19/raspberry-le  2021-10-19   \n",
       "1  https://nplus1.ru/news/2021/10/19/koalas-vacci...  2021-10-19   \n",
       "\n",
       "            author                                               desc  \\\n",
       "0  Григорий Копиев  Компьютер можно подключить к LEGO-наборам с дв...   \n",
       "1   Сергей Коленов  Она поможет защитить некоторые популяции этого...   \n",
       "\n",
       "                                               title  \\\n",
       "0         Raspberry Pi адаптировали для LEGO-роботов   \n",
       "1  Австралийцы начали третью фазу испытаний вакци...   \n",
       "\n",
       "                                                text  \\\n",
       "0  Raspberry Pi Foundation представила плату, поз...   \n",
       "1  В Австралии началась третья фаза испытаний вак...   \n",
       "\n",
       "                          rubric diffc  \n",
       "0           [IT, Роботы и дроны]   2.4  \n",
       "1  [Зоология, Экология и климат]   2.1  "
      ]
     },
     "execution_count": 67,
     "metadata": {},
     "output_type": "execute_result"
    }
   ],
   "source": [
    "df.head(2)"
   ]
  },
  {
   "cell_type": "code",
   "execution_count": 68,
   "metadata": {},
   "outputs": [
    {
     "data": {
      "text/plain": [
       "link      object\n",
       "date      object\n",
       "author    object\n",
       "desc      object\n",
       "title     object\n",
       "text      object\n",
       "rubric    object\n",
       "diffc     object\n",
       "dtype: object"
      ]
     },
     "execution_count": 68,
     "metadata": {},
     "output_type": "execute_result"
    }
   ],
   "source": [
    "df.dtypes"
   ]
  },
  {
   "cell_type": "markdown",
   "metadata": {},
   "source": [
    "Теперь внесем изменения: сделаем столбец `diffc` числовым – типа *float*."
   ]
  },
  {
   "cell_type": "code",
   "execution_count": 70,
   "metadata": {},
   "outputs": [],
   "source": [
    "df['diffc'] = df['diffc'].apply(float)"
   ]
  },
  {
   "cell_type": "code",
   "execution_count": 72,
   "metadata": {},
   "outputs": [
    {
     "data": {
      "text/plain": [
       "link       object\n",
       "date       object\n",
       "author     object\n",
       "desc       object\n",
       "title      object\n",
       "text       object\n",
       "rubric     object\n",
       "diffc     float64\n",
       "dtype: object"
      ]
     },
     "execution_count": 72,
     "metadata": {},
     "output_type": "execute_result"
    }
   ],
   "source": [
    "df.dtypes"
   ]
  },
  {
   "cell_type": "markdown",
   "metadata": {},
   "source": [
    "Теперь сложность представлена в базе как количественный показатель, и описывать ее можно соответствующим образом:"
   ]
  },
  {
   "cell_type": "code",
   "execution_count": 73,
   "metadata": {
    "scrolled": true
   },
   "outputs": [
    {
     "data": {
      "text/plain": [
       "count    28.000000\n",
       "mean      4.307143\n",
       "std       2.050642\n",
       "min       2.100000\n",
       "25%       2.900000\n",
       "50%       3.200000\n",
       "75%       5.425000\n",
       "max       8.700000\n",
       "Name: diffc, dtype: float64"
      ]
     },
     "execution_count": 73,
     "metadata": {},
     "output_type": "execute_result"
    }
   ],
   "source": [
    "df.diffc.describe()"
   ]
  },
  {
   "cell_type": "markdown",
   "metadata": {},
   "source": [
    "Теперь столбец со сложностью точно числовой. Можем даже построить для него гистограмму."
   ]
  },
  {
   "cell_type": "code",
   "execution_count": 75,
   "metadata": {},
   "outputs": [
    {
     "data": {
      "image/png": "[encoded data removed]",
      "text/plain": [
       "<Figure size 432x288 with 1 Axes>"
      ]
     },
     "metadata": {
      "needs_background": "light"
     },
     "output_type": "display_data"
    }
   ],
   "source": [
    "%matplotlib inline\n",
    "df.diffc.plot.hist();"
   ]
  },
  {
   "cell_type": "markdown",
   "metadata": {},
   "source": [
    "Объединим рубрики в *text* в одну строку через запятую:"
   ]
  },
  {
   "cell_type": "code",
   "execution_count": 76,
   "metadata": {},
   "outputs": [],
   "source": [
    "df['rubric'] = [','.join(r) for r in df.rubric]"
   ]
  },
  {
   "cell_type": "markdown",
   "metadata": {},
   "source": [
    "Давайте почистим текст новостей – уберем оттуда текст, не относящийся к новостям. Найдем лишнее:"
   ]
  },
  {
   "cell_type": "code",
   "execution_count": 77,
   "metadata": {},
   "outputs": [
    {
     "data": {
      "text/plain": [
       "'Raspberry Pi\\xa0Foundation представила плату, позволяющую использовать одноплатный компьютер для управления роботами и\\xa0механизмами из\\xa0конструктора LEGO. К\\xa0ней можно подключить как моторы и\\xa0датчики из\\xa0наборов LEGO, так и\\xa0сторонние устройства, например, камеру. Кроме того, это позволяет использовать полноценный код и\\xa0популярные библиотеки. В\\xa0некоторых школах и\\xa0кружках робототехники для обучения детей базовым навыкам создания роботов используют не\\xa0обычные платы и\\xa0компоненты, а\\xa0роботов и\\xa0конструкторы, которые были специально разработаны для этой задачи, обычно обращаться с\\xa0ними гораздо легче. В\\xa0частности, у\\xa0LEGO есть наборы, в\\xa0которые входят как пластиковые детали для корпуса и\\xa0механизмов, так и\\xa0электроника: электромоторы, датчики и\\xa0проприетарный модуль управления. Программы для этого модуля можно писать на\\xa0визуальном языке Scratch или Python, а\\xa0подключить к\\xa0нему можно только проприетарные компоненты. Raspberry Pi\\xa0Foundation, чей одноплатный компьютер повсеместно используется в\\xa0любительских и\\xa0профессиональных проектах роботов, создала плату-переходник Build HAT, которая позволяет заменить им\\xa0проприетарный модуль. Плата устанавливается сверху на\\xa0Raspberry Pi\\xa0и\\xa0подключается к\\xa0нему через GPIO-интерфейс аналогично выпущенным ранее Sense HAT и\\xa0TV\\xa0HAT. На\\xa0плате есть четыре разъема LPF2, которые LEGO использует в\\xa0своих инженерных наборах (кстати, в\\xa0оригинальном хабе есть шесть разъемов). Через них можно подключить датчики и\\xa0электромоторы LEGO.  Разработчики предлагают объединять широкие возможности Raspberry\\xa0Pi, работающего с\\xa0множеством программного и\\xa0аппаратного обеспечения, с\\xa0конструктором, при помощи которого можно быстро прототипировать роботов, не\\xa0затрачивая время на\\xa0создание полноценного корпуса. Стоимость Build HAT составляет 25\\xa0долларов, также компания представила зарядное устройство для нее за\\xa015\\xa0долларов.  LEGO уже не\\xa0первый раз привлекает инженеров и\\xa0ученых, как удобную платформу для создания устройств. К\\xa0примеру, мы\\xa0рассказывали, как из\\xa0конструктора сделали дрон и\\xa0даже микрофлюидные устройства. Григорий Копиев Нашли опечатку? Выделите фрагмент и нажмите Ctrl+Enter. Коэффициент сложности Коэффициент сложности Коэффициент сложности Коэффициент сложности Коэффициент сложности Коэффициент сложности Коэффициент сложности Коэффициент сложности Коэффициент сложности Коэффициент сложности © 2021 N\\xa0+\\xa01 Интернет-издание \\xa0 Свидетельство о регистрации СМИ Эл № ФС77-67614 Использование всех текстовых материалов без изменений в некоммерческих целях разрешается со ссылкой на N\\xa0+\\xa01.                          Все аудиовизуальные произведения являются собственностью своих авторов и правообладателей и используются                          только в образовательных и информационных целях. Если вы являетесь собственником того или иного произведения                          и не согласны с его размещением на нашем сайте, пожалуйста, напишите на kirill@nplus1.ru Материалы, опубликованные в разделе «Блоги», отражают позиции их авторов, которые могут не совпадать с мнением редакции. Сайт может содержать контент, не предназначенный для лиц младше 18 лет. Связь с редакцией: info@nplus1.ru  Политика обработки персональных данных пользователей сайта    Change privacy settings   '"
      ]
     },
     "execution_count": 77,
     "metadata": {},
     "output_type": "execute_result"
    }
   ],
   "source": [
    "df.text[0]"
   ]
  },
  {
   "cell_type": "markdown",
   "metadata": {},
   "source": [
    "Лишний текст находится после фразы 'Нашли опечатку?'. Так давайте будем разбивать строки по этой фразе с помощью метода `.split()` и брать все, что до нее (элемент с индексом 0)."
   ]
  },
  {
   "cell_type": "code",
   "execution_count": 78,
   "metadata": {},
   "outputs": [],
   "source": [
    "df['clean_text'] = [t.split('Нашли опечатку?')[0] for t in df.text]"
   ]
  },
  {
   "cell_type": "markdown",
   "metadata": {},
   "source": [
    "Осталось только заменить непонятные символы `\\xa0` на пробелы:"
   ]
  },
  {
   "cell_type": "code",
   "execution_count": 79,
   "metadata": {},
   "outputs": [],
   "source": [
    "df['clean_text'] = [t.replace(\"\\xa0\", \" \") for t in df.clean_text]"
   ]
  },
  {
   "cell_type": "code",
   "execution_count": 80,
   "metadata": {},
   "outputs": [
    {
     "data": {
      "text/plain": [
       "'Raspberry Pi Foundation представила плату, позволяющую использовать одноплатный компьютер для управления роботами и механизмами из конструктора LEGO. К ней можно подключить как моторы и датчики из наборов LEGO, так и сторонние устройства, например, камеру. Кроме того, это позволяет использовать полноценный код и популярные библиотеки. В некоторых школах и кружках робототехники для обучения детей базовым навыкам создания роботов используют не обычные платы и компоненты, а роботов и конструкторы, которые были специально разработаны для этой задачи, обычно обращаться с ними гораздо легче. В частности, у LEGO есть наборы, в которые входят как пластиковые детали для корпуса и механизмов, так и электроника: электромоторы, датчики и проприетарный модуль управления. Программы для этого модуля можно писать на визуальном языке Scratch или Python, а подключить к нему можно только проприетарные компоненты. Raspberry Pi Foundation, чей одноплатный компьютер повсеместно используется в любительских и профессиональных проектах роботов, создала плату-переходник Build HAT, которая позволяет заменить им проприетарный модуль. Плата устанавливается сверху на Raspberry Pi и подключается к нему через GPIO-интерфейс аналогично выпущенным ранее Sense HAT и TV HAT. На плате есть четыре разъема LPF2, которые LEGO использует в своих инженерных наборах (кстати, в оригинальном хабе есть шесть разъемов). Через них можно подключить датчики и электромоторы LEGO.  Разработчики предлагают объединять широкие возможности Raspberry Pi, работающего с множеством программного и аппаратного обеспечения, с конструктором, при помощи которого можно быстро прототипировать роботов, не затрачивая время на создание полноценного корпуса. Стоимость Build HAT составляет 25 долларов, также компания представила зарядное устройство для нее за 15 долларов.  LEGO уже не первый раз привлекает инженеров и ученых, как удобную платформу для создания устройств. К примеру, мы рассказывали, как из конструктора сделали дрон и даже микрофлюидные устройства. Григорий Копиев '"
      ]
     },
     "execution_count": 80,
     "metadata": {},
     "output_type": "execute_result"
    }
   ],
   "source": [
    "df.clean_text[0]"
   ]
  },
  {
   "cell_type": "markdown",
   "metadata": {},
   "source": [
    "Всё! Сохраняем датафрейм в файл. Для разнообразия сохраним в Excel:"
   ]
  },
  {
   "cell_type": "code",
   "execution_count": 81,
   "metadata": {},
   "outputs": [
    {
     "data": {
      "text/html": [
       "<div>\n",
       "<style scoped>\n",
       "    .dataframe tbody tr th:only-of-type {\n",
       "        vertical-align: middle;\n",
       "    }\n",
       "\n",
       "    .dataframe tbody tr th {\n",
       "        vertical-align: top;\n",
       "    }\n",
       "\n",
       "    .dataframe thead th {\n",
       "        text-align: right;\n",
       "    }\n",
       "</style>\n",
       "<table border=\"1\" class=\"dataframe\">\n",
       "  <thead>\n",
       "    <tr style=\"text-align: right;\">\n",
       "      <th></th>\n",
       "      <th>link</th>\n",
       "      <th>date</th>\n",
       "      <th>author</th>\n",
       "      <th>desc</th>\n",
       "      <th>title</th>\n",
       "      <th>text</th>\n",
       "      <th>rubric</th>\n",
       "      <th>diffc</th>\n",
       "      <th>clean_text</th>\n",
       "    </tr>\n",
       "  </thead>\n",
       "  <tbody>\n",
       "    <tr>\n",
       "      <th>0</th>\n",
       "      <td>https://nplus1.ru/news/2021/10/19/raspberry-le</td>\n",
       "      <td>2021-10-19</td>\n",
       "      <td>Григорий Копиев</td>\n",
       "      <td>Компьютер можно подключить к LEGO-наборам с дв...</td>\n",
       "      <td>Raspberry Pi адаптировали для LEGO-роботов</td>\n",
       "      <td>Raspberry Pi Foundation представила плату, поз...</td>\n",
       "      <td>IT,Роботы и дроны</td>\n",
       "      <td>2.4</td>\n",
       "      <td>Raspberry Pi Foundation представила плату, поз...</td>\n",
       "    </tr>\n",
       "    <tr>\n",
       "      <th>1</th>\n",
       "      <td>https://nplus1.ru/news/2021/10/19/koalas-vacci...</td>\n",
       "      <td>2021-10-19</td>\n",
       "      <td>Сергей Коленов</td>\n",
       "      <td>Она поможет защитить некоторые популяции этого...</td>\n",
       "      <td>Австралийцы начали третью фазу испытаний вакци...</td>\n",
       "      <td>В Австралии началась третья фаза испытаний вак...</td>\n",
       "      <td>Зоология,Экология и климат</td>\n",
       "      <td>2.1</td>\n",
       "      <td>В Австралии началась третья фаза испытаний вак...</td>\n",
       "    </tr>\n",
       "    <tr>\n",
       "      <th>2</th>\n",
       "      <td>https://nplus1.ru/news/2021/10/19/intimate-par...</td>\n",
       "      <td>2021-10-19</td>\n",
       "      <td>Екатерина Рощина</td>\n",
       "      <td>Но пока данные были собраны только для гетерос...</td>\n",
       "      <td>Ученые визуализировали работу мозга при насили...</td>\n",
       "      <td>Американские исследователи показали, что непос...</td>\n",
       "      <td>Психология,Медицина</td>\n",
       "      <td>3.5</td>\n",
       "      <td>Американские исследователи показали, что непос...</td>\n",
       "    </tr>\n",
       "    <tr>\n",
       "      <th>3</th>\n",
       "      <td>https://nplus1.ru/news/2021/10/19/solid</td>\n",
       "      <td>2021-10-19</td>\n",
       "      <td>Василиса Чернявцева</td>\n",
       "      <td>Он имеет 3,5 метра в диаметре, и его корпус из...</td>\n",
       "      <td>Китайцы испытали монолитный твердотопливный дв...</td>\n",
       "      <td>Китайская аэрокосмическая научно-техническая ...</td>\n",
       "      <td>Космонавтика</td>\n",
       "      <td>2.8</td>\n",
       "      <td>Китайская аэрокосмическая научно-техническая ...</td>\n",
       "    </tr>\n",
       "    <tr>\n",
       "      <th>4</th>\n",
       "      <td>https://nplus1.ru/news/2021/10/19/burial-manne...</td>\n",
       "      <td>2021-10-19</td>\n",
       "      <td>Михаил Подрезов</td>\n",
       "      <td>Археологи исследовали находку, сделанную в Огл...</td>\n",
       "      <td>Внутри таштыкской погребальной куклы обнаружил...</td>\n",
       "      <td>Археологи исследовали погребальную куклу ташты...</td>\n",
       "      <td>Археология,Антропология</td>\n",
       "      <td>2.9</td>\n",
       "      <td>Археологи исследовали погребальную куклу ташты...</td>\n",
       "    </tr>\n",
       "  </tbody>\n",
       "</table>\n",
       "</div>"
      ],
      "text/plain": [
       "                                                link        date  \\\n",
       "0     https://nplus1.ru/news/2021/10/19/raspberry-le  2021-10-19   \n",
       "1  https://nplus1.ru/news/2021/10/19/koalas-vacci...  2021-10-19   \n",
       "2  https://nplus1.ru/news/2021/10/19/intimate-par...  2021-10-19   \n",
       "3            https://nplus1.ru/news/2021/10/19/solid  2021-10-19   \n",
       "4  https://nplus1.ru/news/2021/10/19/burial-manne...  2021-10-19   \n",
       "\n",
       "                author                                               desc  \\\n",
       "0      Григорий Копиев  Компьютер можно подключить к LEGO-наборам с дв...   \n",
       "1       Сергей Коленов  Она поможет защитить некоторые популяции этого...   \n",
       "2     Екатерина Рощина  Но пока данные были собраны только для гетерос...   \n",
       "3  Василиса Чернявцева  Он имеет 3,5 метра в диаметре, и его корпус из...   \n",
       "4      Михаил Подрезов  Археологи исследовали находку, сделанную в Огл...   \n",
       "\n",
       "                                               title  \\\n",
       "0         Raspberry Pi адаптировали для LEGO-роботов   \n",
       "1  Австралийцы начали третью фазу испытаний вакци...   \n",
       "2  Ученые визуализировали работу мозга при насили...   \n",
       "3  Китайцы испытали монолитный твердотопливный дв...   \n",
       "4  Внутри таштыкской погребальной куклы обнаружил...   \n",
       "\n",
       "                                                text  \\\n",
       "0  Raspberry Pi Foundation представила плату, поз...   \n",
       "1  В Австралии началась третья фаза испытаний вак...   \n",
       "2  Американские исследователи показали, что непос...   \n",
       "3   Китайская аэрокосмическая научно-техническая ...   \n",
       "4  Археологи исследовали погребальную куклу ташты...   \n",
       "\n",
       "                       rubric  diffc  \\\n",
       "0           IT,Роботы и дроны    2.4   \n",
       "1  Зоология,Экология и климат    2.1   \n",
       "2         Психология,Медицина    3.5   \n",
       "3                Космонавтика    2.8   \n",
       "4     Археология,Антропология    2.9   \n",
       "\n",
       "                                          clean_text  \n",
       "0  Raspberry Pi Foundation представила плату, поз...  \n",
       "1  В Австралии началась третья фаза испытаний вак...  \n",
       "2  Американские исследователи показали, что непос...  \n",
       "3   Китайская аэрокосмическая научно-техническая ...  \n",
       "4  Археологи исследовали погребальную куклу ташты...  "
      ]
     },
     "execution_count": 81,
     "metadata": {},
     "output_type": "execute_result"
    }
   ],
   "source": [
    "df.head()"
   ]
  },
  {
   "cell_type": "code",
   "execution_count": 82,
   "metadata": {},
   "outputs": [],
   "source": [
    "df.to_excel('nplus-news.xlsx', index=False)"
   ]
  },
  {
   "cell_type": "code",
   "execution_count": null,
   "metadata": {},
   "outputs": [],
   "source": []
  }
 ],
 "metadata": {
  "kernelspec": {
   "display_name": "Python 3",
   "language": "python",
   "name": "python3"
  },
  "language_info": {
   "codemirror_mode": {
    "name": "ipython",
    "version": 3
   },
   "file_extension": ".py",
   "mimetype": "text/x-python",
   "name": "python",
   "nbconvert_exporter": "python",
   "pygments_lexer": "ipython3",
   "version": "3.8.5"
  },
  "toc": {
   "base_numbering": 1,
   "nav_menu": {},
   "number_sections": true,
   "sideBar": true,
   "skip_h1_title": false,
   "title_cell": "Table of Contents",
   "title_sidebar": "Contents",
   "toc_cell": false,
   "toc_position": {},
   "toc_section_display": true,
   "toc_window_display": false
  },
  "varInspector": {
   "cols": {
    "lenName": 16,
    "lenType": 16,
    "lenVar": 40
   },
   "kernels_config": {
    "python": {
     "delete_cmd_postfix": "",
     "delete_cmd_prefix": "del ",
     "library": "var_list.py",
     "varRefreshCmd": "print(var_dic_list())"
    },
    "r": {
     "delete_cmd_postfix": ") ",
     "delete_cmd_prefix": "rm(",
     "library": "var_list.r",
     "varRefreshCmd": "cat(var_dic_list()) "
    }
   },
   "types_to_exclude": [
    "module",
    "function",
    "builtin_function_or_method",
    "instance",
    "_Feature"
   ],
   "window_display": false
  }
 },
 "nbformat": 4,
 "nbformat_minor": 2
}
